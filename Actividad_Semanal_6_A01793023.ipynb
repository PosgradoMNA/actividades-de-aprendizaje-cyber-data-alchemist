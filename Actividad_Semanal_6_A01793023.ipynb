{
  "nbformat": 4,
  "nbformat_minor": 0,
  "metadata": {
    "colab": {
      "provenance": [],
      "collapsed_sections": [],
      "mount_file_id": "1DyEkeZ6m5gXHhJU4BIvrcv_G2nmB4Nl8",
      "authorship_tag": "ABX9TyMKKZeymg54tJNGjpve9T+z",
      "include_colab_link": true
    },
    "kernelspec": {
      "name": "python3",
      "display_name": "Python 3"
    },
    "language_info": {
      "name": "python"
    }
  },
  "cells": [
    {
      "cell_type": "markdown",
      "metadata": {
        "id": "view-in-github",
        "colab_type": "text"
      },
      "source": [
        "<a href=\"https://colab.research.google.com/github/PosgradoMNA/actividades-de-aprendizaje-cyber-data-alchemist/blob/main/Actividad_Semanal_6_A01793023.ipynb\" target=\"_parent\"><img src=\"https://colab.research.google.com/assets/colab-badge.svg\" alt=\"Open In Colab\"/></a>"
      ]
    },
    {
      "cell_type": "markdown",
      "source": [
        "---\n",
        "\n",
        "<br>\n",
        "<p align=center>Instituto Tecnológico y de Estudios Superiores de Monterrey</p>\n",
        "<p align=center>Escuela de Ingeniería y Ciencias</p>\n",
        "<p align=center>Maestría en Inteligencia Artificial Aplicada (MNA)</p>\n",
        "<p align=center>TC4029. Ciencia y Analítica de Datos</p>\n",
        "<p align=center>Actividad semana 6 - Visualización</p>\n",
        "<p align=center>Profesor Titular: María de la Paz Rico Fernández</p>\n",
        "<p align=center>Presenta:</p>\n",
        "<p align=center>A01793023 | Jorge Luis Arroyo Chavelas</p>\n",
        "<p align=center>1 de Noviembre de 2022</p>\n",
        "<br>\n",
        "\n",
        "Link a GitHub:\n",
        "\n",
        "https://github.com/PosgradoMNA/actividades-de-aprendizaje-cyber-data-alchemist/blob/main/Actividad_Semanal_6_A01793023.ipynb\n",
        "\n",
        "\n",
        "---\n",
        "\n"
      ],
      "metadata": {
        "id": "A20jPDA5iiqs"
      }
    },
    {
      "cell_type": "markdown",
      "source": [
        "##### Ejercicio 1\n",
        "*Descarga los [datos](https://raw.githubusercontent.com/PosgradoMNA/Actividades_Aprendizaje-/main/default%20of%20credit%20card%20clients.csv) y carga el dataset en tu libreta. Descripción [aquí](https://raw.githubusercontent.com/PosgradoMNA/Actividades_Aprendizaje-/main/dataset_info.txt).*"
      ],
      "metadata": {
        "id": "Yk8O_LnNii9X"
      }
    },
    {
      "cell_type": "code",
      "execution_count": 1,
      "metadata": {
        "id": "8kAjd3OEiBCF"
      },
      "outputs": [],
      "source": [
        "#################################################\n",
        "# Preparemos el ambiente:\n",
        "#################################################\n",
        "\n",
        "# Para abrir urls:\n",
        "import requests\n",
        "\n",
        "# Para manipular datos:\n",
        "import pandas as pd\n",
        "import numpy as np\n",
        "\n",
        "# Para transformaciones:\n",
        "from sklearn.impute import SimpleImputer\n",
        "from sklearn.preprocessing import StandardScaler\n",
        "from sklearn.preprocessing import OneHotEncoder\n",
        "from sklearn.preprocessing import FunctionTransformer\n",
        "\n",
        "# Para pipelines:\n",
        "from sklearn.pipeline import Pipeline\n",
        "from sklearn.pipeline import make_pipeline\n",
        "from sklearn.compose import ColumnTransformer\n",
        "\n",
        "# Para PCA:\n",
        "from sklearn.decomposition import PCA\n",
        "\n",
        "# Para visualizaciones:\n",
        "from tabulate import tabulate\n",
        "from matplotlib import pyplot as plt\n",
        "import seaborn as sns\n",
        "\n",
        "%matplotlib inline\n",
        "plt.rcParams[\"axes.formatter.limits\"] = (-5, 12)"
      ]
    },
    {
      "cell_type": "code",
      "source": [
        "#################################################\n",
        "# Llamemos los datos:\n",
        "#################################################\n",
        "\n",
        "# Definimos url donde están los datos:\n",
        "dataset_url = 'https://raw.githubusercontent.com/PosgradoMNA/Actividades_Aprendizaje-/main/default%20of%20credit%20card%20clients.csv'\n",
        "\n",
        "# Leemos el dataset:\n",
        "df = pd.read_csv(dataset_url)\n",
        "\n",
        "print(f\"\"\"\n",
        "┌────────────────────────────────────────────────────────┐\n",
        "│Ejercicio 1 - Llamar los datos:                         │\n",
        "└────────────────────────────────────────────────────────┘\n",
        "dataset obtenido: {type(df)}\n",
        "\"\"\")"
      ],
      "metadata": {
        "colab": {
          "base_uri": "https://localhost:8080/"
        },
        "id": "0Snxq_LYlFSY",
        "outputId": "b5f8dd4b-0212-4337-8c07-77686c620a57"
      },
      "execution_count": 2,
      "outputs": [
        {
          "output_type": "stream",
          "name": "stdout",
          "text": [
            "\n",
            "┌────────────────────────────────────────────────────────┐\n",
            "│Ejercicio 1 - Llamar los datos:                         │\n",
            "└────────────────────────────────────────────────────────┘\n",
            "dataset obtenido: <class 'pandas.core.frame.DataFrame'>\n",
            "\n"
          ]
        }
      ]
    },
    {
      "cell_type": "markdown",
      "source": [
        "Antes de comenzar con el análisis de los datos mismos, consultemos la información del dataset."
      ],
      "metadata": {
        "id": "1sIYvo2Xl7g9"
      }
    },
    {
      "cell_type": "code",
      "source": [
        "#################################################\n",
        "# Consultar headers:\n",
        "#################################################\n",
        "\n",
        "# Definimos url donde podemos encontrar la información de los datos:\n",
        "info_url = 'https://raw.githubusercontent.com/PosgradoMNA/Actividades_Aprendizaje-/main/dataset_info.txt'\n",
        "\n",
        "# Obtenemos el archivo:\n",
        "info_response = requests.get(info_url)\n",
        "\n",
        "# Guardamos el archivo en nuestro ambiente:\n",
        "open(\"dataset_info.txt\", \"wb\").write(info_response.content)\n",
        "info_path = './dataset_info.txt'\n",
        "\n",
        "print(f\"\"\"\n",
        "┌────────────────────────────────────────────────────────┐\n",
        "│Ejercicio 1 - Consultar información de los datos:       │\n",
        "└────────────────────────────────────────────────────────┘\n",
        "\"\"\")\n",
        "# Leemos el archivo:\n",
        "with open(info_path, \"r\") as f:\n",
        "  # Leemos la información relevante:\n",
        "  file_stuff = f.readlines()[6:16]\n",
        "  for i in file_stuff:\n",
        "    print(i)"
      ],
      "metadata": {
        "colab": {
          "base_uri": "https://localhost:8080/"
        },
        "id": "IweboPwnmgAL",
        "outputId": "c51cfc6d-25eb-46c7-b767-ba6cfd3c7aa4"
      },
      "execution_count": 3,
      "outputs": [
        {
          "output_type": "stream",
          "name": "stdout",
          "text": [
            "\n",
            "┌────────────────────────────────────────────────────────┐\n",
            "│Ejercicio 1 - Consultar información de los datos:       │\n",
            "└────────────────────────────────────────────────────────┘\n",
            "\n",
            "\n",
            "\n",
            "This research employed a binary variable, default payment (Yes = 1, No = 0), as the response variable. This study reviewed the literature and used the following 23 variables as explanatory variables: \n",
            "\n",
            "X1: Amount of the given credit (NT dollar): it includes both the individual consumer credit and his/her family (supplementary) credit. \n",
            "\n",
            "X2: Gender (1 = male; 2 = female). \n",
            "\n",
            "X3: Education (1 = graduate school; 2 = university; 3 = high school; 4 = others). \n",
            "\n",
            "X4: Marital status (1 = married; 2 = single; 3 = others). \n",
            "\n",
            "X5: Age (year). \n",
            "\n",
            "X6 - X11: History of past payment. We tracked the past monthly payment records (from April to September, 2005) as follows: X6 = the repayment status in September, 2005; X7 = the repayment status in August, 2005; . . .;X11 = the repayment status in April, 2005. The measurement scale for the repayment status is: -1 = pay duly; 1 = payment delay for one month; 2 = payment delay for two months; . . .; 8 = payment delay for eight months; 9 = payment delay for nine months and above. \n",
            "\n",
            "X12-X17: Amount of bill statement (NT dollar). X12 = amount of bill statement in September, 2005; X13 = amount of bill statement in August, 2005; . . .; X17 = amount of bill statement in April, 2005. \n",
            "\n",
            "X18-X23: Amount of previous payment (NT dollar). X18 = amount paid in September, 2005; X19 = amount paid in August, 2005; . . .;X23 = amount paid in April, 2005. \n",
            "\n"
          ]
        }
      ]
    },
    {
      "cell_type": "markdown",
      "source": [
        "Con esto podemos generar un conjunto de nombres de variables de mejor significado y aplicarlo a nuestro dataset."
      ],
      "metadata": {
        "id": "Kzq4cadOouyd"
      }
    },
    {
      "cell_type": "code",
      "source": [
        "#################################################\n",
        "# Crear headers:\n",
        "#################################################\n",
        "\n",
        "# Headers basados en la información:\n",
        "colnames = [\n",
        "    \"ID\",\n",
        "     \"credit_amt\",\n",
        "      \"gender\",\n",
        "      \"education\",\n",
        "      \"marital_status\",\n",
        "      \"age\",\n",
        "      \"pay_stat_sep\",\n",
        "      \"pay_stat_aug\",\n",
        "      \"pay_stat_jul\",\n",
        "      \"pay_stat_jun\",\n",
        "      \"pay_stat_may\",\n",
        "      \"pay_stat_apr\",\n",
        "      \"bill_amt_sep\",\n",
        "      \"bill_amt_aug\",\n",
        "      \"bill_amt_jul\",\n",
        "      \"bill_amt_jun\",\n",
        "      \"bill_amt_may\",\n",
        "      \"bill_amt_apr\",\n",
        "      \"pay_amt_sep\",\n",
        "      \"pay_amt_aug\",\n",
        "      \"pay_amt_jul\",\n",
        "      \"pay_amt_jun\",\n",
        "      \"pay_amt_may\",\n",
        "      \"pay_amt_apr\",\n",
        "      \"proba_def\"\n",
        "  ]\n",
        "df.columns = colnames"
      ],
      "metadata": {
        "id": "VEiNsaIYoyK2"
      },
      "execution_count": 4,
      "outputs": []
    },
    {
      "cell_type": "markdown",
      "source": [
        "##### Ejercicio 2\n",
        "*Obten la información del DataFrame con los métodos y propiedades: shape, columns, head(), dtypes, info(), isna()*"
      ],
      "metadata": {
        "id": "HXJ-IdENilSF"
      }
    },
    {
      "cell_type": "code",
      "source": [
        "#################################################\n",
        "# Ver la forma del dataset:\n",
        "#################################################\n",
        "\n",
        "print(f\"\"\"\n",
        "┌────────────────────────────────────────────────────────┐\n",
        "│Ejercicio 2 - Forma del dataframe:                      │\n",
        "└────────────────────────────────────────────────────────┘\n",
        "Forma del dataset: {df.shape}\n",
        "\"\"\")"
      ],
      "metadata": {
        "colab": {
          "base_uri": "https://localhost:8080/"
        },
        "id": "ziS-BdBapsNE",
        "outputId": "7e8cc755-82d3-4cb7-8fbb-033d2a8c2173"
      },
      "execution_count": 5,
      "outputs": [
        {
          "output_type": "stream",
          "name": "stdout",
          "text": [
            "\n",
            "┌────────────────────────────────────────────────────────┐\n",
            "│Ejercicio 2 - Forma del dataframe:                      │\n",
            "└────────────────────────────────────────────────────────┘\n",
            "Forma del dataset: (30000, 25)\n",
            "\n"
          ]
        }
      ]
    },
    {
      "cell_type": "markdown",
      "source": [
        "Tenemos un dataset con 30000 observaciones y 25 columnas, de las cuales 23 son features, una es un ID y otra es una variable objetivo para modelos de aprendizaje automático."
      ],
      "metadata": {
        "id": "H6tw1SKws7ui"
      }
    },
    {
      "cell_type": "code",
      "source": [
        "#################################################\n",
        "# Ver las columnas del dataset:\n",
        "#################################################\n",
        "print(f\"\"\"\n",
        "┌────────────────────────────────────────────────────────┐\n",
        "│Ejercicio 2 - Mejorar las columnas:                     │\n",
        "└────────────────────────────────────────────────────────┘\n",
        "Columnas del dataset: {df.columns}\n",
        "\"\"\")"
      ],
      "metadata": {
        "colab": {
          "base_uri": "https://localhost:8080/"
        },
        "id": "slAlPSZVpt2V",
        "outputId": "8efb969e-1885-4768-c65a-99b8b615f283"
      },
      "execution_count": 6,
      "outputs": [
        {
          "output_type": "stream",
          "name": "stdout",
          "text": [
            "\n",
            "┌────────────────────────────────────────────────────────┐\n",
            "│Ejercicio 2 - Mejorar las columnas:                     │\n",
            "└────────────────────────────────────────────────────────┘\n",
            "Columnas del dataset: Index(['ID', 'credit_amt', 'gender', 'education', 'marital_status', 'age',\n",
            "       'pay_stat_sep', 'pay_stat_aug', 'pay_stat_jul', 'pay_stat_jun',\n",
            "       'pay_stat_may', 'pay_stat_apr', 'bill_amt_sep', 'bill_amt_aug',\n",
            "       'bill_amt_jul', 'bill_amt_jun', 'bill_amt_may', 'bill_amt_apr',\n",
            "       'pay_amt_sep', 'pay_amt_aug', 'pay_amt_jul', 'pay_amt_jun',\n",
            "       'pay_amt_may', 'pay_amt_apr', 'proba_def'],\n",
            "      dtype='object')\n",
            "\n"
          ]
        }
      ]
    },
    {
      "cell_type": "code",
      "source": [
        "#################################################\n",
        "# Explorar los datos:\n",
        "#################################################\n",
        "print(f\"\"\"\n",
        "┌────────────────────────────────────────────────────────┐\n",
        "│Ejercicio 2 - Vista rápida de los datos:                │\n",
        "└────────────────────────────────────────────────────────┘\n",
        "\"\"\")\n",
        "df.head()"
      ],
      "metadata": {
        "colab": {
          "base_uri": "https://localhost:8080/",
          "height": 391
        },
        "id": "W-JhIa-LpWzw",
        "outputId": "f1be89e8-548c-450a-f85d-cde061c7e061"
      },
      "execution_count": 7,
      "outputs": [
        {
          "output_type": "stream",
          "name": "stdout",
          "text": [
            "\n",
            "┌────────────────────────────────────────────────────────┐\n",
            "│Ejercicio 2 - Vista rápida de los datos:                │\n",
            "└────────────────────────────────────────────────────────┘\n",
            "\n"
          ]
        },
        {
          "output_type": "execute_result",
          "data": {
            "text/plain": [
              "   ID  credit_amt  gender  education  marital_status   age  pay_stat_sep  \\\n",
              "0   1       20000     2.0        2.0             1.0  24.0           2.0   \n",
              "1   2      120000     2.0        2.0             2.0  26.0          -1.0   \n",
              "2   3       90000     2.0        2.0             2.0  34.0           0.0   \n",
              "3   4       50000     2.0        2.0             1.0  37.0           0.0   \n",
              "4   5       50000     1.0        2.0             1.0  57.0          -1.0   \n",
              "\n",
              "   pay_stat_aug  pay_stat_jul  pay_stat_jun  ...  bill_amt_jun  bill_amt_may  \\\n",
              "0           2.0          -1.0          -1.0  ...           0.0           0.0   \n",
              "1           2.0           0.0           0.0  ...        3272.0        3455.0   \n",
              "2           0.0           0.0           0.0  ...       14331.0       14948.0   \n",
              "3           0.0           0.0           0.0  ...       28314.0       28959.0   \n",
              "4           0.0          -1.0           0.0  ...       20940.0       19146.0   \n",
              "\n",
              "   bill_amt_apr  pay_amt_sep  pay_amt_aug  pay_amt_jul  pay_amt_jun  \\\n",
              "0           0.0          0.0        689.0          0.0          0.0   \n",
              "1        3261.0          0.0       1000.0       1000.0       1000.0   \n",
              "2       15549.0       1518.0       1500.0       1000.0       1000.0   \n",
              "3       29547.0       2000.0       2019.0       1200.0       1100.0   \n",
              "4       19131.0       2000.0      36681.0      10000.0       9000.0   \n",
              "\n",
              "   pay_amt_may  pay_amt_apr  proba_def  \n",
              "0          0.0          0.0        1.0  \n",
              "1          0.0       2000.0        1.0  \n",
              "2       1000.0       5000.0        0.0  \n",
              "3       1069.0       1000.0        0.0  \n",
              "4        689.0        679.0        0.0  \n",
              "\n",
              "[5 rows x 25 columns]"
            ],
            "text/html": [
              "\n",
              "  <div id=\"df-926fec6c-a06a-4be1-b874-6972785bcd2d\">\n",
              "    <div class=\"colab-df-container\">\n",
              "      <div>\n",
              "<style scoped>\n",
              "    .dataframe tbody tr th:only-of-type {\n",
              "        vertical-align: middle;\n",
              "    }\n",
              "\n",
              "    .dataframe tbody tr th {\n",
              "        vertical-align: top;\n",
              "    }\n",
              "\n",
              "    .dataframe thead th {\n",
              "        text-align: right;\n",
              "    }\n",
              "</style>\n",
              "<table border=\"1\" class=\"dataframe\">\n",
              "  <thead>\n",
              "    <tr style=\"text-align: right;\">\n",
              "      <th></th>\n",
              "      <th>ID</th>\n",
              "      <th>credit_amt</th>\n",
              "      <th>gender</th>\n",
              "      <th>education</th>\n",
              "      <th>marital_status</th>\n",
              "      <th>age</th>\n",
              "      <th>pay_stat_sep</th>\n",
              "      <th>pay_stat_aug</th>\n",
              "      <th>pay_stat_jul</th>\n",
              "      <th>pay_stat_jun</th>\n",
              "      <th>...</th>\n",
              "      <th>bill_amt_jun</th>\n",
              "      <th>bill_amt_may</th>\n",
              "      <th>bill_amt_apr</th>\n",
              "      <th>pay_amt_sep</th>\n",
              "      <th>pay_amt_aug</th>\n",
              "      <th>pay_amt_jul</th>\n",
              "      <th>pay_amt_jun</th>\n",
              "      <th>pay_amt_may</th>\n",
              "      <th>pay_amt_apr</th>\n",
              "      <th>proba_def</th>\n",
              "    </tr>\n",
              "  </thead>\n",
              "  <tbody>\n",
              "    <tr>\n",
              "      <th>0</th>\n",
              "      <td>1</td>\n",
              "      <td>20000</td>\n",
              "      <td>2.0</td>\n",
              "      <td>2.0</td>\n",
              "      <td>1.0</td>\n",
              "      <td>24.0</td>\n",
              "      <td>2.0</td>\n",
              "      <td>2.0</td>\n",
              "      <td>-1.0</td>\n",
              "      <td>-1.0</td>\n",
              "      <td>...</td>\n",
              "      <td>0.0</td>\n",
              "      <td>0.0</td>\n",
              "      <td>0.0</td>\n",
              "      <td>0.0</td>\n",
              "      <td>689.0</td>\n",
              "      <td>0.0</td>\n",
              "      <td>0.0</td>\n",
              "      <td>0.0</td>\n",
              "      <td>0.0</td>\n",
              "      <td>1.0</td>\n",
              "    </tr>\n",
              "    <tr>\n",
              "      <th>1</th>\n",
              "      <td>2</td>\n",
              "      <td>120000</td>\n",
              "      <td>2.0</td>\n",
              "      <td>2.0</td>\n",
              "      <td>2.0</td>\n",
              "      <td>26.0</td>\n",
              "      <td>-1.0</td>\n",
              "      <td>2.0</td>\n",
              "      <td>0.0</td>\n",
              "      <td>0.0</td>\n",
              "      <td>...</td>\n",
              "      <td>3272.0</td>\n",
              "      <td>3455.0</td>\n",
              "      <td>3261.0</td>\n",
              "      <td>0.0</td>\n",
              "      <td>1000.0</td>\n",
              "      <td>1000.0</td>\n",
              "      <td>1000.0</td>\n",
              "      <td>0.0</td>\n",
              "      <td>2000.0</td>\n",
              "      <td>1.0</td>\n",
              "    </tr>\n",
              "    <tr>\n",
              "      <th>2</th>\n",
              "      <td>3</td>\n",
              "      <td>90000</td>\n",
              "      <td>2.0</td>\n",
              "      <td>2.0</td>\n",
              "      <td>2.0</td>\n",
              "      <td>34.0</td>\n",
              "      <td>0.0</td>\n",
              "      <td>0.0</td>\n",
              "      <td>0.0</td>\n",
              "      <td>0.0</td>\n",
              "      <td>...</td>\n",
              "      <td>14331.0</td>\n",
              "      <td>14948.0</td>\n",
              "      <td>15549.0</td>\n",
              "      <td>1518.0</td>\n",
              "      <td>1500.0</td>\n",
              "      <td>1000.0</td>\n",
              "      <td>1000.0</td>\n",
              "      <td>1000.0</td>\n",
              "      <td>5000.0</td>\n",
              "      <td>0.0</td>\n",
              "    </tr>\n",
              "    <tr>\n",
              "      <th>3</th>\n",
              "      <td>4</td>\n",
              "      <td>50000</td>\n",
              "      <td>2.0</td>\n",
              "      <td>2.0</td>\n",
              "      <td>1.0</td>\n",
              "      <td>37.0</td>\n",
              "      <td>0.0</td>\n",
              "      <td>0.0</td>\n",
              "      <td>0.0</td>\n",
              "      <td>0.0</td>\n",
              "      <td>...</td>\n",
              "      <td>28314.0</td>\n",
              "      <td>28959.0</td>\n",
              "      <td>29547.0</td>\n",
              "      <td>2000.0</td>\n",
              "      <td>2019.0</td>\n",
              "      <td>1200.0</td>\n",
              "      <td>1100.0</td>\n",
              "      <td>1069.0</td>\n",
              "      <td>1000.0</td>\n",
              "      <td>0.0</td>\n",
              "    </tr>\n",
              "    <tr>\n",
              "      <th>4</th>\n",
              "      <td>5</td>\n",
              "      <td>50000</td>\n",
              "      <td>1.0</td>\n",
              "      <td>2.0</td>\n",
              "      <td>1.0</td>\n",
              "      <td>57.0</td>\n",
              "      <td>-1.0</td>\n",
              "      <td>0.0</td>\n",
              "      <td>-1.0</td>\n",
              "      <td>0.0</td>\n",
              "      <td>...</td>\n",
              "      <td>20940.0</td>\n",
              "      <td>19146.0</td>\n",
              "      <td>19131.0</td>\n",
              "      <td>2000.0</td>\n",
              "      <td>36681.0</td>\n",
              "      <td>10000.0</td>\n",
              "      <td>9000.0</td>\n",
              "      <td>689.0</td>\n",
              "      <td>679.0</td>\n",
              "      <td>0.0</td>\n",
              "    </tr>\n",
              "  </tbody>\n",
              "</table>\n",
              "<p>5 rows × 25 columns</p>\n",
              "</div>\n",
              "      <button class=\"colab-df-convert\" onclick=\"convertToInteractive('df-926fec6c-a06a-4be1-b874-6972785bcd2d')\"\n",
              "              title=\"Convert this dataframe to an interactive table.\"\n",
              "              style=\"display:none;\">\n",
              "        \n",
              "  <svg xmlns=\"http://www.w3.org/2000/svg\" height=\"24px\"viewBox=\"0 0 24 24\"\n",
              "       width=\"24px\">\n",
              "    <path d=\"M0 0h24v24H0V0z\" fill=\"none\"/>\n",
              "    <path d=\"M18.56 5.44l.94 2.06.94-2.06 2.06-.94-2.06-.94-.94-2.06-.94 2.06-2.06.94zm-11 1L8.5 8.5l.94-2.06 2.06-.94-2.06-.94L8.5 2.5l-.94 2.06-2.06.94zm10 10l.94 2.06.94-2.06 2.06-.94-2.06-.94-.94-2.06-.94 2.06-2.06.94z\"/><path d=\"M17.41 7.96l-1.37-1.37c-.4-.4-.92-.59-1.43-.59-.52 0-1.04.2-1.43.59L10.3 9.45l-7.72 7.72c-.78.78-.78 2.05 0 2.83L4 21.41c.39.39.9.59 1.41.59.51 0 1.02-.2 1.41-.59l7.78-7.78 2.81-2.81c.8-.78.8-2.07 0-2.86zM5.41 20L4 18.59l7.72-7.72 1.47 1.35L5.41 20z\"/>\n",
              "  </svg>\n",
              "      </button>\n",
              "      \n",
              "  <style>\n",
              "    .colab-df-container {\n",
              "      display:flex;\n",
              "      flex-wrap:wrap;\n",
              "      gap: 12px;\n",
              "    }\n",
              "\n",
              "    .colab-df-convert {\n",
              "      background-color: #E8F0FE;\n",
              "      border: none;\n",
              "      border-radius: 50%;\n",
              "      cursor: pointer;\n",
              "      display: none;\n",
              "      fill: #1967D2;\n",
              "      height: 32px;\n",
              "      padding: 0 0 0 0;\n",
              "      width: 32px;\n",
              "    }\n",
              "\n",
              "    .colab-df-convert:hover {\n",
              "      background-color: #E2EBFA;\n",
              "      box-shadow: 0px 1px 2px rgba(60, 64, 67, 0.3), 0px 1px 3px 1px rgba(60, 64, 67, 0.15);\n",
              "      fill: #174EA6;\n",
              "    }\n",
              "\n",
              "    [theme=dark] .colab-df-convert {\n",
              "      background-color: #3B4455;\n",
              "      fill: #D2E3FC;\n",
              "    }\n",
              "\n",
              "    [theme=dark] .colab-df-convert:hover {\n",
              "      background-color: #434B5C;\n",
              "      box-shadow: 0px 1px 3px 1px rgba(0, 0, 0, 0.15);\n",
              "      filter: drop-shadow(0px 1px 2px rgba(0, 0, 0, 0.3));\n",
              "      fill: #FFFFFF;\n",
              "    }\n",
              "  </style>\n",
              "\n",
              "      <script>\n",
              "        const buttonEl =\n",
              "          document.querySelector('#df-926fec6c-a06a-4be1-b874-6972785bcd2d button.colab-df-convert');\n",
              "        buttonEl.style.display =\n",
              "          google.colab.kernel.accessAllowed ? 'block' : 'none';\n",
              "\n",
              "        async function convertToInteractive(key) {\n",
              "          const element = document.querySelector('#df-926fec6c-a06a-4be1-b874-6972785bcd2d');\n",
              "          const dataTable =\n",
              "            await google.colab.kernel.invokeFunction('convertToInteractive',\n",
              "                                                     [key], {});\n",
              "          if (!dataTable) return;\n",
              "\n",
              "          const docLinkHtml = 'Like what you see? Visit the ' +\n",
              "            '<a target=\"_blank\" href=https://colab.research.google.com/notebooks/data_table.ipynb>data table notebook</a>'\n",
              "            + ' to learn more about interactive tables.';\n",
              "          element.innerHTML = '';\n",
              "          dataTable['output_type'] = 'display_data';\n",
              "          await google.colab.output.renderOutput(dataTable, element);\n",
              "          const docLink = document.createElement('div');\n",
              "          docLink.innerHTML = docLinkHtml;\n",
              "          element.appendChild(docLink);\n",
              "        }\n",
              "      </script>\n",
              "    </div>\n",
              "  </div>\n",
              "  "
            ]
          },
          "metadata": {},
          "execution_count": 7
        }
      ]
    },
    {
      "cell_type": "markdown",
      "source": [
        "Observamos peculariedades como que existen variables categoricos con valores numéricos, esto probablemente cree confusiones en el dataset; lo arregalaremos con selección de las variables."
      ],
      "metadata": {
        "id": "BT60MA2EtFub"
      }
    },
    {
      "cell_type": "code",
      "source": [
        "#################################################\n",
        "# Info de los datos:\n",
        "#################################################\n",
        "print(f\"\"\"\n",
        "┌────────────────────────────────────────────────────────┐\n",
        "│Ejercicio 2 - Información rápida de los datos:          │\n",
        "└────────────────────────────────────────────────────────┘\n",
        "\"\"\")\n",
        "df.info()"
      ],
      "metadata": {
        "colab": {
          "base_uri": "https://localhost:8080/"
        },
        "id": "buepNm-fr2p5",
        "outputId": "8ab95083-1264-480e-f26e-42dfeae242fd"
      },
      "execution_count": 8,
      "outputs": [
        {
          "output_type": "stream",
          "name": "stdout",
          "text": [
            "\n",
            "┌────────────────────────────────────────────────────────┐\n",
            "│Ejercicio 2 - Información rápida de los datos:          │\n",
            "└────────────────────────────────────────────────────────┘\n",
            "\n",
            "<class 'pandas.core.frame.DataFrame'>\n",
            "RangeIndex: 30000 entries, 0 to 29999\n",
            "Data columns (total 25 columns):\n",
            " #   Column          Non-Null Count  Dtype  \n",
            "---  ------          --------------  -----  \n",
            " 0   ID              30000 non-null  int64  \n",
            " 1   credit_amt      30000 non-null  int64  \n",
            " 2   gender          29999 non-null  float64\n",
            " 3   education       29998 non-null  float64\n",
            " 4   marital_status  29998 non-null  float64\n",
            " 5   age             29995 non-null  float64\n",
            " 6   pay_stat_sep    29997 non-null  float64\n",
            " 7   pay_stat_aug    29995 non-null  float64\n",
            " 8   pay_stat_jul    29993 non-null  float64\n",
            " 9   pay_stat_jun    29991 non-null  float64\n",
            " 10  pay_stat_may    29984 non-null  float64\n",
            " 11  pay_stat_apr    29986 non-null  float64\n",
            " 12  bill_amt_sep    29989 non-null  float64\n",
            " 13  bill_amt_aug    29989 non-null  float64\n",
            " 14  bill_amt_jul    29987 non-null  float64\n",
            " 15  bill_amt_jun    29985 non-null  float64\n",
            " 16  bill_amt_may    29983 non-null  float64\n",
            " 17  bill_amt_apr    29990 non-null  float64\n",
            " 18  pay_amt_sep     29992 non-null  float64\n",
            " 19  pay_amt_aug     29991 non-null  float64\n",
            " 20  pay_amt_jul     29992 non-null  float64\n",
            " 21  pay_amt_jun     29989 non-null  float64\n",
            " 22  pay_amt_may     29989 non-null  float64\n",
            " 23  pay_amt_apr     29995 non-null  float64\n",
            " 24  proba_def       29997 non-null  float64\n",
            "dtypes: float64(23), int64(2)\n",
            "memory usage: 5.7 MB\n"
          ]
        }
      ]
    },
    {
      "cell_type": "markdown",
      "source": [
        "Comprobamos que variables como género o estatus cívil se encuentran clasificadas como flotantes, estas son las variables (y otras) son las que debemos tener cuidado."
      ],
      "metadata": {
        "id": "JdAulqbjtPV9"
      }
    },
    {
      "cell_type": "code",
      "source": [
        "#################################################\n",
        "# Validar si existen nulos:\n",
        "#################################################\n",
        "print(f\"\"\"\n",
        "┌────────────────────────────────────────────────────────┐\n",
        "│Ejercicio 2 - Verificar si hay nulos:                   │\n",
        "└────────────────────────────────────────────────────────┘\n",
        "\"\"\")\n",
        "df.isna().sum()"
      ],
      "metadata": {
        "colab": {
          "base_uri": "https://localhost:8080/"
        },
        "id": "V7EV2iVQsDeP",
        "outputId": "c8c01191-74da-4a93-988d-da63e37f98f0"
      },
      "execution_count": 9,
      "outputs": [
        {
          "output_type": "stream",
          "name": "stdout",
          "text": [
            "\n",
            "┌────────────────────────────────────────────────────────┐\n",
            "│Ejercicio 2 - Verificar si hay nulos:                   │\n",
            "└────────────────────────────────────────────────────────┘\n",
            "\n"
          ]
        },
        {
          "output_type": "execute_result",
          "data": {
            "text/plain": [
              "ID                 0\n",
              "credit_amt         0\n",
              "gender             1\n",
              "education          2\n",
              "marital_status     2\n",
              "age                5\n",
              "pay_stat_sep       3\n",
              "pay_stat_aug       5\n",
              "pay_stat_jul       7\n",
              "pay_stat_jun       9\n",
              "pay_stat_may      16\n",
              "pay_stat_apr      14\n",
              "bill_amt_sep      11\n",
              "bill_amt_aug      11\n",
              "bill_amt_jul      13\n",
              "bill_amt_jun      15\n",
              "bill_amt_may      17\n",
              "bill_amt_apr      10\n",
              "pay_amt_sep        8\n",
              "pay_amt_aug        9\n",
              "pay_amt_jul        8\n",
              "pay_amt_jun       11\n",
              "pay_amt_may       11\n",
              "pay_amt_apr        5\n",
              "proba_def          3\n",
              "dtype: int64"
            ]
          },
          "metadata": {},
          "execution_count": 9
        }
      ]
    },
    {
      "cell_type": "markdown",
      "source": [
        "Efectivamente encontramos nulos en algunas variables."
      ],
      "metadata": {
        "id": "nqso7HmntbD0"
      }
    },
    {
      "cell_type": "code",
      "source": [
        "#################################################\n",
        "# Observar el tipo de datos:\n",
        "#################################################\n",
        "print(f\"\"\"\n",
        "┌────────────────────────────────────────────────────────┐\n",
        "│Ejercicio 2 - Verificar dtypes:                         │\n",
        "└────────────────────────────────────────────────────────┘\n",
        "\"\"\")\n",
        "df.dtypes"
      ],
      "metadata": {
        "colab": {
          "base_uri": "https://localhost:8080/"
        },
        "id": "go75PYh6ppn1",
        "outputId": "aa596b04-fef0-4504-dcc7-8347366f7767"
      },
      "execution_count": 10,
      "outputs": [
        {
          "output_type": "stream",
          "name": "stdout",
          "text": [
            "\n",
            "┌────────────────────────────────────────────────────────┐\n",
            "│Ejercicio 2 - Verificar dtypes:                         │\n",
            "└────────────────────────────────────────────────────────┘\n",
            "\n"
          ]
        },
        {
          "output_type": "execute_result",
          "data": {
            "text/plain": [
              "ID                  int64\n",
              "credit_amt          int64\n",
              "gender            float64\n",
              "education         float64\n",
              "marital_status    float64\n",
              "age               float64\n",
              "pay_stat_sep      float64\n",
              "pay_stat_aug      float64\n",
              "pay_stat_jul      float64\n",
              "pay_stat_jun      float64\n",
              "pay_stat_may      float64\n",
              "pay_stat_apr      float64\n",
              "bill_amt_sep      float64\n",
              "bill_amt_aug      float64\n",
              "bill_amt_jul      float64\n",
              "bill_amt_jun      float64\n",
              "bill_amt_may      float64\n",
              "bill_amt_apr      float64\n",
              "pay_amt_sep       float64\n",
              "pay_amt_aug       float64\n",
              "pay_amt_jul       float64\n",
              "pay_amt_jun       float64\n",
              "pay_amt_may       float64\n",
              "pay_amt_apr       float64\n",
              "proba_def         float64\n",
              "dtype: object"
            ]
          },
          "metadata": {},
          "execution_count": 10
        }
      ]
    },
    {
      "cell_type": "markdown",
      "source": [
        "Aquí visualizamos otra vez que el conjunto está ya optimizado a datos numéricos, es entonces nuestro deber sólo no aplicar métodos numéricos a aquellos datos que no lo sean: gender, education, martial_status."
      ],
      "metadata": {
        "id": "fQ23-HzGteG6"
      }
    },
    {
      "cell_type": "markdown",
      "source": [
        "##### Ejercicio 3\n",
        "*Limpia los datos eliminando los registros nulos o rellena con la media de la columna*"
      ],
      "metadata": {
        "id": "CKbJIlR1imyH"
      }
    },
    {
      "cell_type": "markdown",
      "source": [
        "Antes de realizar esto, vamos a dividir nuestro dataset en dos conjuntos: [X,y] con las columnas independientes y nuestra columna objetivo. Esto podría ser conveniente si queremos ampliar el proceso a un modelo de aprendizaje automático; podriamos dividir los datos en entrenamiento y prueba y además crear pipelines para evitar filtrado de información con mínimos cambios en el código, adicional, eliminemos ID ya que no es una variable per se."
      ],
      "metadata": {
        "id": "OTzQKaUdv9q_"
      }
    },
    {
      "cell_type": "code",
      "source": [
        "#############################################################\n",
        "# Dividir los datos en X, y\n",
        "#############################################################\n",
        "X = df.drop(['ID', 'proba_def'], axis=1)\n",
        "y = df[['proba_def']]"
      ],
      "metadata": {
        "id": "B0ZKkMGftrya"
      },
      "execution_count": 11,
      "outputs": []
    },
    {
      "cell_type": "code",
      "source": [
        "#############################################################\n",
        "# Pipeline de imputación para datos nulos:\n",
        "#############################################################\n",
        "\n",
        "# Si existen nulos, pondremos la moda:\n",
        "pipeline_category = Pipeline(steps = [\n",
        "    ('input_category', SimpleImputer(strategy='most_frequent')),\n",
        "])\n",
        "# aplicable a:\n",
        "columns_category = [\n",
        "    'gender', 'education', 'marital_status', 'pay_stat_sep', 'pay_stat_aug', 'pay_stat_jul', 'pay_stat_jun', 'pay_stat_may', 'pay_stat_apr',\n",
        "]\n",
        "\n",
        "# Si existen nulos, pondremos la media:\n",
        "pipeline_numeric = Pipeline(steps = [\n",
        "    ('input_numeric', SimpleImputer(strategy='mean'))\n",
        "])\n",
        "# aplicable a:\n",
        "columns_numeric = [\n",
        "    'credit_amt', 'age', 'bill_amt_sep', 'bill_amt_aug', 'bill_amt_jul', 'bill_amt_jun', 'bill_amt_may', 'bill_amt_apr', 'pay_amt_sep', 'pay_amt_aug', 'pay_amt_jul', 'pay_amt_jun', 'pay_amt_may', 'pay_amt_apr'\n",
        "]\n",
        "\n",
        "# definir tipos de transformaciones:\n",
        "ct_estrategias = [     \n",
        "    ('pipeline_category', pipeline_category, columns_category),\n",
        "    ('pipeline_numeric', pipeline_numeric, columns_numeric),\n",
        "]\n",
        "\n",
        "# crear una instancia para transformar:\n",
        "ct_na = ColumnTransformer(ct_estrategias, remainder='passthrough')"
      ],
      "metadata": {
        "id": "AHCXIbT1wsGg"
      },
      "execution_count": 12,
      "outputs": []
    },
    {
      "cell_type": "code",
      "source": [
        "#############################################################\n",
        "# Llenar los datos:\n",
        "#############################################################\n",
        "\n",
        "# Abramos y entrenemos instancia con los datos X:\n",
        "X_transformer = ct_na.fit(X)\n",
        "\n",
        "# Utilizando nuestro transformer hagamos el input a X:\n",
        "X_new = pd.DataFrame(X_transformer.transform(X), columns=columns_category + columns_numeric)\n",
        "\n",
        "# Reordenemos las columnas:\n",
        "X_new = X_new[X.columns]\n",
        "\n",
        "print(f\"\"\"\n",
        "┌────────────────────────────────────────────────────────┐\n",
        "│Ejercicio 3 - Verificar que ya no tenemos nulos:        │\n",
        "└────────────────────────────────────────────────────────┘\n",
        "\"\"\")\n",
        "X_new.isna().sum()"
      ],
      "metadata": {
        "colab": {
          "base_uri": "https://localhost:8080/"
        },
        "id": "ftJZ0K-mzfgO",
        "outputId": "d8d0d76d-3b23-4e60-a082-5b06ad45f50f"
      },
      "execution_count": 13,
      "outputs": [
        {
          "output_type": "stream",
          "name": "stdout",
          "text": [
            "\n",
            "┌────────────────────────────────────────────────────────┐\n",
            "│Ejercicio 3 - Verificar que ya no tenemos nulos:        │\n",
            "└────────────────────────────────────────────────────────┘\n",
            "\n"
          ]
        },
        {
          "output_type": "execute_result",
          "data": {
            "text/plain": [
              "credit_amt        0\n",
              "gender            0\n",
              "education         0\n",
              "marital_status    0\n",
              "age               0\n",
              "pay_stat_sep      0\n",
              "pay_stat_aug      0\n",
              "pay_stat_jul      0\n",
              "pay_stat_jun      0\n",
              "pay_stat_may      0\n",
              "pay_stat_apr      0\n",
              "bill_amt_sep      0\n",
              "bill_amt_aug      0\n",
              "bill_amt_jul      0\n",
              "bill_amt_jun      0\n",
              "bill_amt_may      0\n",
              "bill_amt_apr      0\n",
              "pay_amt_sep       0\n",
              "pay_amt_aug       0\n",
              "pay_amt_jul       0\n",
              "pay_amt_jun       0\n",
              "pay_amt_may       0\n",
              "pay_amt_apr       0\n",
              "dtype: int64"
            ]
          },
          "metadata": {},
          "execution_count": 13
        }
      ]
    },
    {
      "cell_type": "markdown",
      "source": [
        "Utilizando este pipeline, además de ya no tener datos nulos, nos aseguramos de tener una instancia **X_transformer** con posibilidad de transformar otros conjuntos y evitar filtrado de datos hacia nuestra estrategia de imputación, esto es: las modas y medias que va a llenar serán estrictamente basadas en lo que entreno.\n",
        "\n",
        "Aquí es importante aclrar que se uso moda para algunos datos que no son númericos; ya que pese a que los datos son números esto es realmente un enmascarado ya que no existen genero 1, 2 y por sobre esto no es posible realizar matemáticas con esto, esto es: son categóricas.\n"
      ],
      "metadata": {
        "id": "YJdsCfRD1hx-"
      }
    },
    {
      "cell_type": "markdown",
      "source": [
        "##### Ejercicio 4\n",
        "*Calcula la estadística descriptiva con describe() y explica las medidas de tendencia central y dispersión*"
      ],
      "metadata": {
        "id": "pYstyj7vioXZ"
      }
    },
    {
      "cell_type": "code",
      "source": [
        "#############################################################\n",
        "# Describe y estadísticas:\n",
        "#############################################################\n",
        "\n",
        "print(f\"\"\"\n",
        "┌────────────────────────────────────────────────────────┐\n",
        "│Ejercicio 4 - Obtener describe y estadísticos:          │\n",
        "└────────────────────────────────────────────────────────┘\n",
        "\"\"\")\n",
        "X_new[columns_numeric].describe().T.applymap('{:,.0f}'.format)"
      ],
      "metadata": {
        "colab": {
          "base_uri": "https://localhost:8080/",
          "height": 579
        },
        "id": "RNiawJZ_2TTP",
        "outputId": "f3b93a72-9a5b-4a53-96d9-0ae11f4c17f4"
      },
      "execution_count": 14,
      "outputs": [
        {
          "output_type": "stream",
          "name": "stdout",
          "text": [
            "\n",
            "┌────────────────────────────────────────────────────────┐\n",
            "│Ejercicio 4 - Obtener describe y estadísticos:          │\n",
            "└────────────────────────────────────────────────────────┘\n",
            "\n"
          ]
        },
        {
          "output_type": "execute_result",
          "data": {
            "text/plain": [
              "               count     mean      std       min     25%      50%      75%  \\\n",
              "credit_amt    30,000  167,484  129,748    10,000  50,000  140,000  240,000   \n",
              "age           30,000       35        9        21      28       34       41   \n",
              "bill_amt_sep  30,000   51,237   73,632  -165,580   3,567   22,400   67,091   \n",
              "bill_amt_aug  30,000   49,191   71,170   -69,777   2,987   21,228   64,006   \n",
              "bill_amt_jul  30,000   47,025   69,346  -157,264   2,675   20,108   60,165   \n",
              "bill_amt_jun  30,000   43,276   64,329  -170,000   2,332   19,066   54,506   \n",
              "bill_amt_may  30,000   40,324   60,793   -81,334   1,770   18,123   50,177   \n",
              "bill_amt_apr  30,000   38,881   59,551  -339,603   1,258   17,100   49,198   \n",
              "pay_amt_sep   30,000    5,663   16,562         0   1,000    2,100    5,007   \n",
              "pay_amt_aug   30,000    5,922   23,041         0     836    2,010    5,000   \n",
              "pay_amt_jul   30,000    5,226   17,606         0     390    1,800    4,512   \n",
              "pay_amt_jun   30,000    4,827   15,666         0     298    1,500    4,016   \n",
              "pay_amt_may   30,000    4,800   15,278         0     255    1,500    4,044   \n",
              "pay_amt_apr   30,000    5,216   17,777         0     118    1,500    4,000   \n",
              "\n",
              "                    max  \n",
              "credit_amt    1,000,000  \n",
              "age                  79  \n",
              "bill_amt_sep    964,511  \n",
              "bill_amt_aug    983,931  \n",
              "bill_amt_jul  1,664,089  \n",
              "bill_amt_jun    891,586  \n",
              "bill_amt_may    927,171  \n",
              "bill_amt_apr    961,664  \n",
              "pay_amt_sep     873,552  \n",
              "pay_amt_aug   1,684,259  \n",
              "pay_amt_jul     896,040  \n",
              "pay_amt_jun     621,000  \n",
              "pay_amt_may     426,529  \n",
              "pay_amt_apr     528,666  "
            ],
            "text/html": [
              "\n",
              "  <div id=\"df-bcbb2679-7b58-4f5d-bb77-71fa1baf828b\">\n",
              "    <div class=\"colab-df-container\">\n",
              "      <div>\n",
              "<style scoped>\n",
              "    .dataframe tbody tr th:only-of-type {\n",
              "        vertical-align: middle;\n",
              "    }\n",
              "\n",
              "    .dataframe tbody tr th {\n",
              "        vertical-align: top;\n",
              "    }\n",
              "\n",
              "    .dataframe thead th {\n",
              "        text-align: right;\n",
              "    }\n",
              "</style>\n",
              "<table border=\"1\" class=\"dataframe\">\n",
              "  <thead>\n",
              "    <tr style=\"text-align: right;\">\n",
              "      <th></th>\n",
              "      <th>count</th>\n",
              "      <th>mean</th>\n",
              "      <th>std</th>\n",
              "      <th>min</th>\n",
              "      <th>25%</th>\n",
              "      <th>50%</th>\n",
              "      <th>75%</th>\n",
              "      <th>max</th>\n",
              "    </tr>\n",
              "  </thead>\n",
              "  <tbody>\n",
              "    <tr>\n",
              "      <th>credit_amt</th>\n",
              "      <td>30,000</td>\n",
              "      <td>167,484</td>\n",
              "      <td>129,748</td>\n",
              "      <td>10,000</td>\n",
              "      <td>50,000</td>\n",
              "      <td>140,000</td>\n",
              "      <td>240,000</td>\n",
              "      <td>1,000,000</td>\n",
              "    </tr>\n",
              "    <tr>\n",
              "      <th>age</th>\n",
              "      <td>30,000</td>\n",
              "      <td>35</td>\n",
              "      <td>9</td>\n",
              "      <td>21</td>\n",
              "      <td>28</td>\n",
              "      <td>34</td>\n",
              "      <td>41</td>\n",
              "      <td>79</td>\n",
              "    </tr>\n",
              "    <tr>\n",
              "      <th>bill_amt_sep</th>\n",
              "      <td>30,000</td>\n",
              "      <td>51,237</td>\n",
              "      <td>73,632</td>\n",
              "      <td>-165,580</td>\n",
              "      <td>3,567</td>\n",
              "      <td>22,400</td>\n",
              "      <td>67,091</td>\n",
              "      <td>964,511</td>\n",
              "    </tr>\n",
              "    <tr>\n",
              "      <th>bill_amt_aug</th>\n",
              "      <td>30,000</td>\n",
              "      <td>49,191</td>\n",
              "      <td>71,170</td>\n",
              "      <td>-69,777</td>\n",
              "      <td>2,987</td>\n",
              "      <td>21,228</td>\n",
              "      <td>64,006</td>\n",
              "      <td>983,931</td>\n",
              "    </tr>\n",
              "    <tr>\n",
              "      <th>bill_amt_jul</th>\n",
              "      <td>30,000</td>\n",
              "      <td>47,025</td>\n",
              "      <td>69,346</td>\n",
              "      <td>-157,264</td>\n",
              "      <td>2,675</td>\n",
              "      <td>20,108</td>\n",
              "      <td>60,165</td>\n",
              "      <td>1,664,089</td>\n",
              "    </tr>\n",
              "    <tr>\n",
              "      <th>bill_amt_jun</th>\n",
              "      <td>30,000</td>\n",
              "      <td>43,276</td>\n",
              "      <td>64,329</td>\n",
              "      <td>-170,000</td>\n",
              "      <td>2,332</td>\n",
              "      <td>19,066</td>\n",
              "      <td>54,506</td>\n",
              "      <td>891,586</td>\n",
              "    </tr>\n",
              "    <tr>\n",
              "      <th>bill_amt_may</th>\n",
              "      <td>30,000</td>\n",
              "      <td>40,324</td>\n",
              "      <td>60,793</td>\n",
              "      <td>-81,334</td>\n",
              "      <td>1,770</td>\n",
              "      <td>18,123</td>\n",
              "      <td>50,177</td>\n",
              "      <td>927,171</td>\n",
              "    </tr>\n",
              "    <tr>\n",
              "      <th>bill_amt_apr</th>\n",
              "      <td>30,000</td>\n",
              "      <td>38,881</td>\n",
              "      <td>59,551</td>\n",
              "      <td>-339,603</td>\n",
              "      <td>1,258</td>\n",
              "      <td>17,100</td>\n",
              "      <td>49,198</td>\n",
              "      <td>961,664</td>\n",
              "    </tr>\n",
              "    <tr>\n",
              "      <th>pay_amt_sep</th>\n",
              "      <td>30,000</td>\n",
              "      <td>5,663</td>\n",
              "      <td>16,562</td>\n",
              "      <td>0</td>\n",
              "      <td>1,000</td>\n",
              "      <td>2,100</td>\n",
              "      <td>5,007</td>\n",
              "      <td>873,552</td>\n",
              "    </tr>\n",
              "    <tr>\n",
              "      <th>pay_amt_aug</th>\n",
              "      <td>30,000</td>\n",
              "      <td>5,922</td>\n",
              "      <td>23,041</td>\n",
              "      <td>0</td>\n",
              "      <td>836</td>\n",
              "      <td>2,010</td>\n",
              "      <td>5,000</td>\n",
              "      <td>1,684,259</td>\n",
              "    </tr>\n",
              "    <tr>\n",
              "      <th>pay_amt_jul</th>\n",
              "      <td>30,000</td>\n",
              "      <td>5,226</td>\n",
              "      <td>17,606</td>\n",
              "      <td>0</td>\n",
              "      <td>390</td>\n",
              "      <td>1,800</td>\n",
              "      <td>4,512</td>\n",
              "      <td>896,040</td>\n",
              "    </tr>\n",
              "    <tr>\n",
              "      <th>pay_amt_jun</th>\n",
              "      <td>30,000</td>\n",
              "      <td>4,827</td>\n",
              "      <td>15,666</td>\n",
              "      <td>0</td>\n",
              "      <td>298</td>\n",
              "      <td>1,500</td>\n",
              "      <td>4,016</td>\n",
              "      <td>621,000</td>\n",
              "    </tr>\n",
              "    <tr>\n",
              "      <th>pay_amt_may</th>\n",
              "      <td>30,000</td>\n",
              "      <td>4,800</td>\n",
              "      <td>15,278</td>\n",
              "      <td>0</td>\n",
              "      <td>255</td>\n",
              "      <td>1,500</td>\n",
              "      <td>4,044</td>\n",
              "      <td>426,529</td>\n",
              "    </tr>\n",
              "    <tr>\n",
              "      <th>pay_amt_apr</th>\n",
              "      <td>30,000</td>\n",
              "      <td>5,216</td>\n",
              "      <td>17,777</td>\n",
              "      <td>0</td>\n",
              "      <td>118</td>\n",
              "      <td>1,500</td>\n",
              "      <td>4,000</td>\n",
              "      <td>528,666</td>\n",
              "    </tr>\n",
              "  </tbody>\n",
              "</table>\n",
              "</div>\n",
              "      <button class=\"colab-df-convert\" onclick=\"convertToInteractive('df-bcbb2679-7b58-4f5d-bb77-71fa1baf828b')\"\n",
              "              title=\"Convert this dataframe to an interactive table.\"\n",
              "              style=\"display:none;\">\n",
              "        \n",
              "  <svg xmlns=\"http://www.w3.org/2000/svg\" height=\"24px\"viewBox=\"0 0 24 24\"\n",
              "       width=\"24px\">\n",
              "    <path d=\"M0 0h24v24H0V0z\" fill=\"none\"/>\n",
              "    <path d=\"M18.56 5.44l.94 2.06.94-2.06 2.06-.94-2.06-.94-.94-2.06-.94 2.06-2.06.94zm-11 1L8.5 8.5l.94-2.06 2.06-.94-2.06-.94L8.5 2.5l-.94 2.06-2.06.94zm10 10l.94 2.06.94-2.06 2.06-.94-2.06-.94-.94-2.06-.94 2.06-2.06.94z\"/><path d=\"M17.41 7.96l-1.37-1.37c-.4-.4-.92-.59-1.43-.59-.52 0-1.04.2-1.43.59L10.3 9.45l-7.72 7.72c-.78.78-.78 2.05 0 2.83L4 21.41c.39.39.9.59 1.41.59.51 0 1.02-.2 1.41-.59l7.78-7.78 2.81-2.81c.8-.78.8-2.07 0-2.86zM5.41 20L4 18.59l7.72-7.72 1.47 1.35L5.41 20z\"/>\n",
              "  </svg>\n",
              "      </button>\n",
              "      \n",
              "  <style>\n",
              "    .colab-df-container {\n",
              "      display:flex;\n",
              "      flex-wrap:wrap;\n",
              "      gap: 12px;\n",
              "    }\n",
              "\n",
              "    .colab-df-convert {\n",
              "      background-color: #E8F0FE;\n",
              "      border: none;\n",
              "      border-radius: 50%;\n",
              "      cursor: pointer;\n",
              "      display: none;\n",
              "      fill: #1967D2;\n",
              "      height: 32px;\n",
              "      padding: 0 0 0 0;\n",
              "      width: 32px;\n",
              "    }\n",
              "\n",
              "    .colab-df-convert:hover {\n",
              "      background-color: #E2EBFA;\n",
              "      box-shadow: 0px 1px 2px rgba(60, 64, 67, 0.3), 0px 1px 3px 1px rgba(60, 64, 67, 0.15);\n",
              "      fill: #174EA6;\n",
              "    }\n",
              "\n",
              "    [theme=dark] .colab-df-convert {\n",
              "      background-color: #3B4455;\n",
              "      fill: #D2E3FC;\n",
              "    }\n",
              "\n",
              "    [theme=dark] .colab-df-convert:hover {\n",
              "      background-color: #434B5C;\n",
              "      box-shadow: 0px 1px 3px 1px rgba(0, 0, 0, 0.15);\n",
              "      filter: drop-shadow(0px 1px 2px rgba(0, 0, 0, 0.3));\n",
              "      fill: #FFFFFF;\n",
              "    }\n",
              "  </style>\n",
              "\n",
              "      <script>\n",
              "        const buttonEl =\n",
              "          document.querySelector('#df-bcbb2679-7b58-4f5d-bb77-71fa1baf828b button.colab-df-convert');\n",
              "        buttonEl.style.display =\n",
              "          google.colab.kernel.accessAllowed ? 'block' : 'none';\n",
              "\n",
              "        async function convertToInteractive(key) {\n",
              "          const element = document.querySelector('#df-bcbb2679-7b58-4f5d-bb77-71fa1baf828b');\n",
              "          const dataTable =\n",
              "            await google.colab.kernel.invokeFunction('convertToInteractive',\n",
              "                                                     [key], {});\n",
              "          if (!dataTable) return;\n",
              "\n",
              "          const docLinkHtml = 'Like what you see? Visit the ' +\n",
              "            '<a target=\"_blank\" href=https://colab.research.google.com/notebooks/data_table.ipynb>data table notebook</a>'\n",
              "            + ' to learn more about interactive tables.';\n",
              "          element.innerHTML = '';\n",
              "          dataTable['output_type'] = 'display_data';\n",
              "          await google.colab.output.renderOutput(dataTable, element);\n",
              "          const docLink = document.createElement('div');\n",
              "          docLink.innerHTML = docLinkHtml;\n",
              "          element.appendChild(docLink);\n",
              "        }\n",
              "      </script>\n",
              "    </div>\n",
              "  </div>\n",
              "  "
            ]
          },
          "metadata": {},
          "execution_count": 14
        }
      ]
    },
    {
      "cell_type": "markdown",
      "source": [
        "Observamos que existe coherencia entre los datos de estado de cuenta (bill_amt) y pagos (pay_amt), estos se comportan coherentees mostrando valores similares entre los meses, lo que hace sentido con la intuición.\n",
        "\n",
        "En particular y a groso modo, observamos:\n",
        "\n",
        "* Montos del crédito entre 10k y 1M, con una media de 167,484 y una desviación estándar de 129,748.\n",
        "\n",
        "* La dead de quienes tienen el crédito está en promedio en los 35 años con una desviación de 9 años; observamos edades desde los 21 hasta los 79.\n",
        "\n",
        "* Los montos de estado de cuenta se encuentran entre los pocos miles y hasta el millón (Julio en particular observa casi 1.7M), tenemos un promedio cerca a los 40K y desviaciones estádar de 70k.\n",
        "\n",
        "* En cuanto a los pagos observamos pagos desde los cientos hasta el millon en agosto (probablemente relacionado al pago de Julio). Los montos promedio de pago son 5k y tienen desviaciones por los 17k.\n",
        "\n",
        "\n"
      ],
      "metadata": {
        "id": "h8G_zBKZ6dfb"
      }
    },
    {
      "cell_type": "markdown",
      "source": [
        "##### Ejercicio 5\n",
        "*Realiza el conteo de las variables categóricas*"
      ],
      "metadata": {
        "id": "R5EtBbF2ipov"
      }
    },
    {
      "cell_type": "code",
      "source": [
        "#############################################################\n",
        "# Describe y estadísticas:\n",
        "#############################################################\n",
        "\n",
        "print(f\"\"\"\n",
        "┌────────────────────────────────────────────────────────┐\n",
        "│Ejercicio 5 - Obtener valores en datos categóricos:     │\n",
        "└────────────────────────────────────────────────────────┘\n",
        "\"\"\")\n",
        "for column in columns_category:\n",
        "  print(f\"{column}\")\n",
        "  print(tabulate(\n",
        "      pd.DataFrame(X_new[column].value_counts(dropna=False).sort_index()).T,\n",
        "      headers = 'keys',\n",
        "      tablefmt = 'psql')\n",
        "  )\n",
        "  print(\"\\n\")"
      ],
      "metadata": {
        "colab": {
          "base_uri": "https://localhost:8080/"
        },
        "id": "p19tL07Y7cJy",
        "outputId": "1ad896fc-c64a-47f0-f7b6-4d1775ece4ac"
      },
      "execution_count": 15,
      "outputs": [
        {
          "output_type": "stream",
          "name": "stdout",
          "text": [
            "\n",
            "┌────────────────────────────────────────────────────────┐\n",
            "│Ejercicio 5 - Obtener valores en datos categóricos:     │\n",
            "└────────────────────────────────────────────────────────┘\n",
            "\n",
            "gender\n",
            "+--------+-------+-------+\n",
            "|        |   1.0 |   2.0 |\n",
            "|--------+-------+-------|\n",
            "| gender | 11887 | 18113 |\n",
            "+--------+-------+-------+\n",
            "\n",
            "\n",
            "education\n",
            "+-----------+-------+-------+-------+-------+-------+-------+-------+\n",
            "|           |   0.0 |   1.0 |   2.0 |   3.0 |   4.0 |   5.0 |   6.0 |\n",
            "|-----------+-------+-------+-------+-------+-------+-------+-------|\n",
            "| education |    14 | 10585 | 14032 |  4915 |   123 |   280 |    51 |\n",
            "+-----------+-------+-------+-------+-------+-------+-------+-------+\n",
            "\n",
            "\n",
            "marital_status\n",
            "+----------------+-------+-------+-------+-------+\n",
            "|                |   0.0 |   1.0 |   2.0 |   3.0 |\n",
            "|----------------+-------+-------+-------+-------|\n",
            "| marital_status |    54 | 13657 | 15966 |   323 |\n",
            "+----------------+-------+-------+-------+-------+\n",
            "\n",
            "\n",
            "pay_stat_sep\n",
            "+--------------+--------+--------+-------+-------+-------+-------+-------+-------+-------+-------+-------+\n",
            "|              |   -2.0 |   -1.0 |   0.0 |   1.0 |   2.0 |   3.0 |   4.0 |   5.0 |   6.0 |   7.0 |   8.0 |\n",
            "|--------------+--------+--------+-------+-------+-------+-------+-------+-------+-------+-------+-------|\n",
            "| pay_stat_sep |   2759 |   5684 | 14739 |  3688 |  2667 |   322 |    76 |    26 |    11 |     9 |    19 |\n",
            "+--------------+--------+--------+-------+-------+-------+-------+-------+-------+-------+-------+-------+\n",
            "\n",
            "\n",
            "pay_stat_aug\n",
            "+--------------+--------+--------+-------+-------+-------+-------+-------+-------+-------+-------+-------+\n",
            "|              |   -2.0 |   -1.0 |   0.0 |   1.0 |   2.0 |   3.0 |   4.0 |   5.0 |   6.0 |   7.0 |   8.0 |\n",
            "|--------------+--------+--------+-------+-------+-------+-------+-------+-------+-------+-------+-------|\n",
            "| pay_stat_aug |   3782 |   6047 | 15733 |    28 |  3927 |   326 |    99 |    25 |    12 |    20 |     1 |\n",
            "+--------------+--------+--------+-------+-------+-------+-------+-------+-------+-------+-------+-------+\n",
            "\n",
            "\n",
            "pay_stat_jul\n",
            "+--------------+--------+--------+-------+-------+-------+-------+-------+-------+-------+-------+-------+\n",
            "|              |   -2.0 |   -1.0 |   0.0 |   1.0 |   2.0 |   3.0 |   4.0 |   5.0 |   6.0 |   7.0 |   8.0 |\n",
            "|--------------+--------+--------+-------+-------+-------+-------+-------+-------+-------+-------+-------|\n",
            "| pay_stat_jul |   4085 |   5935 | 15768 |     4 |  3819 |   240 |    76 |    21 |    23 |    27 |     2 |\n",
            "+--------------+--------+--------+-------+-------+-------+-------+-------+-------+-------+-------+-------+\n",
            "\n",
            "\n",
            "pay_stat_jun\n",
            "+--------------+--------+--------+-------+-------+-------+-------+-------+-------+-------+-------+-------+\n",
            "|              |   -2.0 |   -1.0 |   0.0 |   1.0 |   2.0 |   3.0 |   4.0 |   5.0 |   6.0 |   7.0 |   8.0 |\n",
            "|--------------+--------+--------+-------+-------+-------+-------+-------+-------+-------+-------+-------|\n",
            "| pay_stat_jun |   4348 |   5685 | 16459 |     2 |  3157 |   180 |    69 |    35 |     5 |    58 |     2 |\n",
            "+--------------+--------+--------+-------+-------+-------+-------+-------+-------+-------+-------+-------+\n",
            "\n",
            "\n",
            "pay_stat_may\n",
            "+--------------+--------+--------+-------+-------+-------+-------+-------+-------+-------+-------+\n",
            "|              |   -2.0 |   -1.0 |   0.0 |   2.0 |   3.0 |   4.0 |   5.0 |   6.0 |   7.0 |   8.0 |\n",
            "|--------------+--------+--------+-------+-------+-------+-------+-------+-------+-------+-------|\n",
            "| pay_stat_may |   4546 |   5535 | 16953 |  2624 |   178 |    84 |    17 |     4 |    58 |     1 |\n",
            "+--------------+--------+--------+-------+-------+-------+-------+-------+-------+-------+-------+\n",
            "\n",
            "\n",
            "pay_stat_apr\n",
            "+--------------+--------+--------+-------+-------+-------+-------+-------+-------+-------+-------+\n",
            "|              |   -2.0 |   -1.0 |   0.0 |   2.0 |   3.0 |   4.0 |   5.0 |   6.0 |   7.0 |   8.0 |\n",
            "|--------------+--------+--------+-------+-------+-------+-------+-------+-------+-------+-------|\n",
            "| pay_stat_apr |   4895 |   5735 | 16292 |  2765 |   184 |    49 |    13 |    19 |    46 |     2 |\n",
            "+--------------+--------+--------+-------+-------+-------+-------+-------+-------+-------+-------+\n",
            "\n",
            "\n"
          ]
        }
      ]
    },
    {
      "cell_type": "markdown",
      "source": [
        "De lo más rescatable, dada su importancia a la probabilidad de caer en impago, es que la mayoría de los créditos se encuetran pagaods el mismo mes (clave 0)."
      ],
      "metadata": {
        "id": "MY2frLHf_6e0"
      }
    },
    {
      "cell_type": "markdown",
      "source": [
        "##### Ejercicio 6\n",
        "*Escala los datos, si consideras necesario*"
      ],
      "metadata": {
        "id": "fh0NOJ6virCK"
      }
    },
    {
      "cell_type": "markdown",
      "source": [
        "Antes de aplicar un PCA necesitamos escalar los datos por PCA, ya que esto es un supuesto del modelo. Para hacer esto, podemos ampliar nuestro pipeline descrito antes para evitar filtrado de datos:"
      ],
      "metadata": {
        "id": "_WEExRHNAB_t"
      }
    },
    {
      "cell_type": "code",
      "source": [
        "#############################################################\n",
        "# Pipeline de imputación para datos nulos y normalización:\n",
        "#############################################################\n",
        "\n",
        "# Si existen nulos, pondremos la moda:\n",
        "pipeline_category = Pipeline(steps = [\n",
        "    ('input_category', SimpleImputer(strategy='most_frequent')),\n",
        "])\n",
        "# aplicable a:\n",
        "columns_category = [\n",
        "    'gender', 'education', 'marital_status', 'pay_stat_sep', 'pay_stat_aug', 'pay_stat_jul', 'pay_stat_jun', 'pay_stat_may', 'pay_stat_apr',\n",
        "]\n",
        "\n",
        "# Si existen nulos, pondremos la media:\n",
        "pipeline_numeric = Pipeline(steps = [\n",
        "    ('input_numeric', SimpleImputer(strategy='mean')),\n",
        "    ('scale_numeric', StandardScaler())\n",
        "])\n",
        "\n",
        "# aplicable a:\n",
        "columns_numeric = [\n",
        "    'credit_amt', 'age', 'bill_amt_sep', 'bill_amt_aug', 'bill_amt_jul', 'bill_amt_jun', 'bill_amt_may', 'bill_amt_apr', 'pay_amt_sep', 'pay_amt_aug', 'pay_amt_jul', 'pay_amt_jun', 'pay_amt_may', 'pay_amt_apr'\n",
        "]\n",
        "\n",
        "# definir tipos de transformaciones:\n",
        "ct_estrategias = [     \n",
        "    ('pipeline_category', pipeline_category, columns_category),\n",
        "    ('pipeline_numeric', pipeline_numeric, columns_numeric),\n",
        "]\n",
        "\n",
        "# crear una instancia para transformar:\n",
        "ct_nasc = ColumnTransformer(ct_estrategias, remainder='passthrough')"
      ],
      "metadata": {
        "id": "3FUbKR_sBX4d"
      },
      "execution_count": 16,
      "outputs": []
    },
    {
      "cell_type": "code",
      "source": [
        "#############################################################\n",
        "# Llenar los datos:\n",
        "#############################################################\n",
        "\n",
        "# Abramos y entrenemos instancia con los datos X:\n",
        "X_transformer = ct_nasc.fit(X)\n",
        "\n",
        "# Utilizando nuestro transformer hagamos el input a X:\n",
        "X_new = pd.DataFrame(X_transformer.transform(X), columns=columns_category + columns_numeric)\n",
        "\n",
        "# Reordenemos las columnas:\n",
        "X_new = X_new[X.columns]\n",
        "\n",
        "print(f\"\"\"\n",
        "┌────────────────────────────────────────────────────────┐\n",
        "│Ejercicio 6 - Verificar a los numéricos normalizados:   │\n",
        "└────────────────────────────────────────────────────────┘\n",
        "\"\"\")\n",
        "X_new[columns_numeric].describe().T.applymap('{:.3f}'.format)"
      ],
      "metadata": {
        "colab": {
          "base_uri": "https://localhost:8080/",
          "height": 579
        },
        "id": "TTembIV0EeCC",
        "outputId": "6bd669cd-1887-49b6-ecd5-9a31c71e2615"
      },
      "execution_count": 17,
      "outputs": [
        {
          "output_type": "stream",
          "name": "stdout",
          "text": [
            "\n",
            "┌────────────────────────────────────────────────────────┐\n",
            "│Ejercicio 6 - Verificar a los numéricos normalizados:   │\n",
            "└────────────────────────────────────────────────────────┘\n",
            "\n"
          ]
        },
        {
          "output_type": "execute_result",
          "data": {
            "text/plain": [
              "                  count    mean    std     min     25%     50%     75%     max\n",
              "credit_amt    30000.000  -0.000  1.000  -1.214  -0.905  -0.212   0.559   6.417\n",
              "age           30000.000  -0.000  1.000  -1.571  -0.812  -0.161   0.598   4.721\n",
              "bill_amt_sep  30000.000  -0.000  1.000  -2.945  -0.647  -0.392   0.215  12.403\n",
              "bill_amt_aug  30000.000  -0.000  1.000  -1.672  -0.649  -0.393   0.208  13.134\n",
              "bill_amt_jul  30000.000  -0.000  1.000  -2.946  -0.640  -0.388   0.189  23.319\n",
              "bill_amt_jun  30000.000  -0.000  1.000  -3.315  -0.636  -0.376   0.175  13.187\n",
              "bill_amt_may  30000.000   0.000  1.000  -2.001  -0.634  -0.365   0.162  14.588\n",
              "bill_amt_apr  30000.000   0.000  1.000  -6.356  -0.632  -0.366   0.173  15.496\n",
              "pay_amt_sep   30000.000   0.000  1.000  -0.342  -0.282  -0.215  -0.040  52.403\n",
              "pay_amt_aug   30000.000   0.000  1.000  -0.257  -0.221  -0.170  -0.040  72.843\n",
              "pay_amt_jul   30000.000  -0.000  1.000  -0.297  -0.275  -0.195  -0.041  50.598\n",
              "pay_amt_jun   30000.000   0.000  1.000  -0.308  -0.289  -0.212  -0.052  39.333\n",
              "pay_amt_may   30000.000   0.000  1.000  -0.314  -0.298  -0.216  -0.050  27.604\n",
              "pay_amt_apr   30000.000  -0.000  1.000  -0.293  -0.287  -0.209  -0.068  29.445"
            ],
            "text/html": [
              "\n",
              "  <div id=\"df-f8689ac1-2353-4961-b7d6-de86ca5ba305\">\n",
              "    <div class=\"colab-df-container\">\n",
              "      <div>\n",
              "<style scoped>\n",
              "    .dataframe tbody tr th:only-of-type {\n",
              "        vertical-align: middle;\n",
              "    }\n",
              "\n",
              "    .dataframe tbody tr th {\n",
              "        vertical-align: top;\n",
              "    }\n",
              "\n",
              "    .dataframe thead th {\n",
              "        text-align: right;\n",
              "    }\n",
              "</style>\n",
              "<table border=\"1\" class=\"dataframe\">\n",
              "  <thead>\n",
              "    <tr style=\"text-align: right;\">\n",
              "      <th></th>\n",
              "      <th>count</th>\n",
              "      <th>mean</th>\n",
              "      <th>std</th>\n",
              "      <th>min</th>\n",
              "      <th>25%</th>\n",
              "      <th>50%</th>\n",
              "      <th>75%</th>\n",
              "      <th>max</th>\n",
              "    </tr>\n",
              "  </thead>\n",
              "  <tbody>\n",
              "    <tr>\n",
              "      <th>credit_amt</th>\n",
              "      <td>30000.000</td>\n",
              "      <td>-0.000</td>\n",
              "      <td>1.000</td>\n",
              "      <td>-1.214</td>\n",
              "      <td>-0.905</td>\n",
              "      <td>-0.212</td>\n",
              "      <td>0.559</td>\n",
              "      <td>6.417</td>\n",
              "    </tr>\n",
              "    <tr>\n",
              "      <th>age</th>\n",
              "      <td>30000.000</td>\n",
              "      <td>-0.000</td>\n",
              "      <td>1.000</td>\n",
              "      <td>-1.571</td>\n",
              "      <td>-0.812</td>\n",
              "      <td>-0.161</td>\n",
              "      <td>0.598</td>\n",
              "      <td>4.721</td>\n",
              "    </tr>\n",
              "    <tr>\n",
              "      <th>bill_amt_sep</th>\n",
              "      <td>30000.000</td>\n",
              "      <td>-0.000</td>\n",
              "      <td>1.000</td>\n",
              "      <td>-2.945</td>\n",
              "      <td>-0.647</td>\n",
              "      <td>-0.392</td>\n",
              "      <td>0.215</td>\n",
              "      <td>12.403</td>\n",
              "    </tr>\n",
              "    <tr>\n",
              "      <th>bill_amt_aug</th>\n",
              "      <td>30000.000</td>\n",
              "      <td>-0.000</td>\n",
              "      <td>1.000</td>\n",
              "      <td>-1.672</td>\n",
              "      <td>-0.649</td>\n",
              "      <td>-0.393</td>\n",
              "      <td>0.208</td>\n",
              "      <td>13.134</td>\n",
              "    </tr>\n",
              "    <tr>\n",
              "      <th>bill_amt_jul</th>\n",
              "      <td>30000.000</td>\n",
              "      <td>-0.000</td>\n",
              "      <td>1.000</td>\n",
              "      <td>-2.946</td>\n",
              "      <td>-0.640</td>\n",
              "      <td>-0.388</td>\n",
              "      <td>0.189</td>\n",
              "      <td>23.319</td>\n",
              "    </tr>\n",
              "    <tr>\n",
              "      <th>bill_amt_jun</th>\n",
              "      <td>30000.000</td>\n",
              "      <td>-0.000</td>\n",
              "      <td>1.000</td>\n",
              "      <td>-3.315</td>\n",
              "      <td>-0.636</td>\n",
              "      <td>-0.376</td>\n",
              "      <td>0.175</td>\n",
              "      <td>13.187</td>\n",
              "    </tr>\n",
              "    <tr>\n",
              "      <th>bill_amt_may</th>\n",
              "      <td>30000.000</td>\n",
              "      <td>0.000</td>\n",
              "      <td>1.000</td>\n",
              "      <td>-2.001</td>\n",
              "      <td>-0.634</td>\n",
              "      <td>-0.365</td>\n",
              "      <td>0.162</td>\n",
              "      <td>14.588</td>\n",
              "    </tr>\n",
              "    <tr>\n",
              "      <th>bill_amt_apr</th>\n",
              "      <td>30000.000</td>\n",
              "      <td>0.000</td>\n",
              "      <td>1.000</td>\n",
              "      <td>-6.356</td>\n",
              "      <td>-0.632</td>\n",
              "      <td>-0.366</td>\n",
              "      <td>0.173</td>\n",
              "      <td>15.496</td>\n",
              "    </tr>\n",
              "    <tr>\n",
              "      <th>pay_amt_sep</th>\n",
              "      <td>30000.000</td>\n",
              "      <td>0.000</td>\n",
              "      <td>1.000</td>\n",
              "      <td>-0.342</td>\n",
              "      <td>-0.282</td>\n",
              "      <td>-0.215</td>\n",
              "      <td>-0.040</td>\n",
              "      <td>52.403</td>\n",
              "    </tr>\n",
              "    <tr>\n",
              "      <th>pay_amt_aug</th>\n",
              "      <td>30000.000</td>\n",
              "      <td>0.000</td>\n",
              "      <td>1.000</td>\n",
              "      <td>-0.257</td>\n",
              "      <td>-0.221</td>\n",
              "      <td>-0.170</td>\n",
              "      <td>-0.040</td>\n",
              "      <td>72.843</td>\n",
              "    </tr>\n",
              "    <tr>\n",
              "      <th>pay_amt_jul</th>\n",
              "      <td>30000.000</td>\n",
              "      <td>-0.000</td>\n",
              "      <td>1.000</td>\n",
              "      <td>-0.297</td>\n",
              "      <td>-0.275</td>\n",
              "      <td>-0.195</td>\n",
              "      <td>-0.041</td>\n",
              "      <td>50.598</td>\n",
              "    </tr>\n",
              "    <tr>\n",
              "      <th>pay_amt_jun</th>\n",
              "      <td>30000.000</td>\n",
              "      <td>0.000</td>\n",
              "      <td>1.000</td>\n",
              "      <td>-0.308</td>\n",
              "      <td>-0.289</td>\n",
              "      <td>-0.212</td>\n",
              "      <td>-0.052</td>\n",
              "      <td>39.333</td>\n",
              "    </tr>\n",
              "    <tr>\n",
              "      <th>pay_amt_may</th>\n",
              "      <td>30000.000</td>\n",
              "      <td>0.000</td>\n",
              "      <td>1.000</td>\n",
              "      <td>-0.314</td>\n",
              "      <td>-0.298</td>\n",
              "      <td>-0.216</td>\n",
              "      <td>-0.050</td>\n",
              "      <td>27.604</td>\n",
              "    </tr>\n",
              "    <tr>\n",
              "      <th>pay_amt_apr</th>\n",
              "      <td>30000.000</td>\n",
              "      <td>-0.000</td>\n",
              "      <td>1.000</td>\n",
              "      <td>-0.293</td>\n",
              "      <td>-0.287</td>\n",
              "      <td>-0.209</td>\n",
              "      <td>-0.068</td>\n",
              "      <td>29.445</td>\n",
              "    </tr>\n",
              "  </tbody>\n",
              "</table>\n",
              "</div>\n",
              "      <button class=\"colab-df-convert\" onclick=\"convertToInteractive('df-f8689ac1-2353-4961-b7d6-de86ca5ba305')\"\n",
              "              title=\"Convert this dataframe to an interactive table.\"\n",
              "              style=\"display:none;\">\n",
              "        \n",
              "  <svg xmlns=\"http://www.w3.org/2000/svg\" height=\"24px\"viewBox=\"0 0 24 24\"\n",
              "       width=\"24px\">\n",
              "    <path d=\"M0 0h24v24H0V0z\" fill=\"none\"/>\n",
              "    <path d=\"M18.56 5.44l.94 2.06.94-2.06 2.06-.94-2.06-.94-.94-2.06-.94 2.06-2.06.94zm-11 1L8.5 8.5l.94-2.06 2.06-.94-2.06-.94L8.5 2.5l-.94 2.06-2.06.94zm10 10l.94 2.06.94-2.06 2.06-.94-2.06-.94-.94-2.06-.94 2.06-2.06.94z\"/><path d=\"M17.41 7.96l-1.37-1.37c-.4-.4-.92-.59-1.43-.59-.52 0-1.04.2-1.43.59L10.3 9.45l-7.72 7.72c-.78.78-.78 2.05 0 2.83L4 21.41c.39.39.9.59 1.41.59.51 0 1.02-.2 1.41-.59l7.78-7.78 2.81-2.81c.8-.78.8-2.07 0-2.86zM5.41 20L4 18.59l7.72-7.72 1.47 1.35L5.41 20z\"/>\n",
              "  </svg>\n",
              "      </button>\n",
              "      \n",
              "  <style>\n",
              "    .colab-df-container {\n",
              "      display:flex;\n",
              "      flex-wrap:wrap;\n",
              "      gap: 12px;\n",
              "    }\n",
              "\n",
              "    .colab-df-convert {\n",
              "      background-color: #E8F0FE;\n",
              "      border: none;\n",
              "      border-radius: 50%;\n",
              "      cursor: pointer;\n",
              "      display: none;\n",
              "      fill: #1967D2;\n",
              "      height: 32px;\n",
              "      padding: 0 0 0 0;\n",
              "      width: 32px;\n",
              "    }\n",
              "\n",
              "    .colab-df-convert:hover {\n",
              "      background-color: #E2EBFA;\n",
              "      box-shadow: 0px 1px 2px rgba(60, 64, 67, 0.3), 0px 1px 3px 1px rgba(60, 64, 67, 0.15);\n",
              "      fill: #174EA6;\n",
              "    }\n",
              "\n",
              "    [theme=dark] .colab-df-convert {\n",
              "      background-color: #3B4455;\n",
              "      fill: #D2E3FC;\n",
              "    }\n",
              "\n",
              "    [theme=dark] .colab-df-convert:hover {\n",
              "      background-color: #434B5C;\n",
              "      box-shadow: 0px 1px 3px 1px rgba(0, 0, 0, 0.15);\n",
              "      filter: drop-shadow(0px 1px 2px rgba(0, 0, 0, 0.3));\n",
              "      fill: #FFFFFF;\n",
              "    }\n",
              "  </style>\n",
              "\n",
              "      <script>\n",
              "        const buttonEl =\n",
              "          document.querySelector('#df-f8689ac1-2353-4961-b7d6-de86ca5ba305 button.colab-df-convert');\n",
              "        buttonEl.style.display =\n",
              "          google.colab.kernel.accessAllowed ? 'block' : 'none';\n",
              "\n",
              "        async function convertToInteractive(key) {\n",
              "          const element = document.querySelector('#df-f8689ac1-2353-4961-b7d6-de86ca5ba305');\n",
              "          const dataTable =\n",
              "            await google.colab.kernel.invokeFunction('convertToInteractive',\n",
              "                                                     [key], {});\n",
              "          if (!dataTable) return;\n",
              "\n",
              "          const docLinkHtml = 'Like what you see? Visit the ' +\n",
              "            '<a target=\"_blank\" href=https://colab.research.google.com/notebooks/data_table.ipynb>data table notebook</a>'\n",
              "            + ' to learn more about interactive tables.';\n",
              "          element.innerHTML = '';\n",
              "          dataTable['output_type'] = 'display_data';\n",
              "          await google.colab.output.renderOutput(dataTable, element);\n",
              "          const docLink = document.createElement('div');\n",
              "          docLink.innerHTML = docLinkHtml;\n",
              "          element.appendChild(docLink);\n",
              "        }\n",
              "      </script>\n",
              "    </div>\n",
              "  </div>\n",
              "  "
            ]
          },
          "metadata": {},
          "execution_count": 17
        }
      ]
    },
    {
      "cell_type": "markdown",
      "source": [
        "##### Ejercicio 7\n",
        "*Reduce las dimensiones con PCA, si consideras necesario.*"
      ],
      "metadata": {
        "id": "fKkUWjaQitar"
      }
    },
    {
      "cell_type": "markdown",
      "source": [
        "Podemos tomar los datos anteriores y quizás sea conveniente remover la edad ya que por si misma no es 100% numérica ya que es estrictamente entera y PCA funciona con valores continuos y no discretos."
      ],
      "metadata": {
        "id": "8qxHLD5UE9CN"
      }
    },
    {
      "cell_type": "code",
      "source": [
        "#############################################################\n",
        "# Declarar pca\n",
        "#############################################################\n",
        "\n",
        "# Declaremos pca:\n",
        "pca = PCA()\n",
        "\n",
        "# seleccionemos las columnas necesarias:\n",
        "columns_continuous = columns_numeric.copy()\n",
        "columns_continuous.remove('age')\n",
        "\n",
        "# enrenemos PCA con variables solo númericas y continuas:\n",
        "pca.fit(X_new[columns_continuous])\n",
        "pca_data = pca.transform(X_new[columns_continuous])\n",
        "\n",
        "print(f\"\"\"\n",
        "┌────────────────────────────────────────────────────────┐\n",
        "│Ejercicio 7 - Obtener PCA:                              │\n",
        "└────────────────────────────────────────────────────────┘\n",
        "PCA obtenido de:\n",
        "{pca.feature_names_in_}\n",
        "\"\"\")"
      ],
      "metadata": {
        "colab": {
          "base_uri": "https://localhost:8080/"
        },
        "id": "hE6qldU3E_6N",
        "outputId": "d87e2c53-1212-46e2-c410-e51b4748f43e"
      },
      "execution_count": 18,
      "outputs": [
        {
          "output_type": "stream",
          "name": "stdout",
          "text": [
            "\n",
            "┌────────────────────────────────────────────────────────┐\n",
            "│Ejercicio 7 - Obtener PCA:                              │\n",
            "└────────────────────────────────────────────────────────┘\n",
            "PCA obtenido de:\n",
            "['credit_amt' 'bill_amt_sep' 'bill_amt_aug' 'bill_amt_jul' 'bill_amt_jun'\n",
            " 'bill_amt_may' 'bill_amt_apr' 'pay_amt_sep' 'pay_amt_aug' 'pay_amt_jul'\n",
            " 'pay_amt_jun' 'pay_amt_may' 'pay_amt_apr']\n",
            "\n"
          ]
        }
      ]
    },
    {
      "cell_type": "code",
      "source": [
        "#############################################################\n",
        "# Visualizar PCA\n",
        "#############################################################\n",
        "\n",
        "print(f\"\"\"\n",
        "┌────────────────────────────────────────────────────────┐\n",
        "│Ejercicio 7 - Graficar importancia de PCA:              │\n",
        "└────────────────────────────────────────────────────────┘\n",
        "\"\"\")\n",
        "\n",
        "_ = sns.set(style = 'whitegrid', \n",
        "            font_scale = 1.2\n",
        "            )\n",
        "\n",
        "fig, ax = plt.subplots(figsize=(10, 7))\n",
        "\n",
        "_ = sns.barplot(x = np.arange(pca.n_components_) + 1, \n",
        "                y = pca.explained_variance_ratio_, \n",
        "                color = 'b'\n",
        "                )\n",
        "\n",
        "_ = sns.lineplot(x = np.arange(pca.n_components_), \n",
        "                 y = np.cumsum(pca.explained_variance_ratio_), \n",
        "                 color = 'black', \n",
        "                 linestyle = '-', \n",
        "                 linewidth = 2, \n",
        "                 marker = 'o', \n",
        "                 markersize = 8\n",
        "                 )\n",
        "\n",
        "\n",
        "_ = sns.lineplot(x = np.arange(pca.n_components_), \n",
        "                 y = np.cumsum(pca.explained_variance_ratio_), \n",
        "                 linewidth = 0, \n",
        "                 markeredgecolor='red',\n",
        "                 marker = 'd', \n",
        "                 alpha=0.9,\n",
        "                 markeredgewidth=3,\n",
        "                 markevery=[3],\n",
        "                 )\n",
        "\n",
        "plt.title('Scree Plot')\n",
        "plt.xlabel('N-th Principal Component')\n",
        "plt.ylabel('Variance Explained')\n",
        "plt.ylim(0, 1)\n",
        "plt.show()"
      ],
      "metadata": {
        "colab": {
          "base_uri": "https://localhost:8080/",
          "height": 560
        },
        "id": "trt0YY8JHYHn",
        "outputId": "0b48c3a3-ddc0-4e8f-c21c-88999e62d935"
      },
      "execution_count": 19,
      "outputs": [
        {
          "output_type": "stream",
          "name": "stdout",
          "text": [
            "\n",
            "┌────────────────────────────────────────────────────────┐\n",
            "│Ejercicio 7 - Graficar importancia de PCA:              │\n",
            "└────────────────────────────────────────────────────────┘\n",
            "\n"
          ]
        },
        {
          "output_type": "display_data",
          "data": {
            "text/plain": [
              "<Figure size 720x504 with 1 Axes>"
            ],
            "image/png": "[encoded data removed]"
          },
          "metadata": {}
        }
      ]
    },
    {
      "cell_type": "markdown",
      "source": [
        "##### Ejercicio 7.1\n",
        " *Indica la varianza de los datos explicada por cada componente seleccionado. Para actividades de exploración de los datos la varianza > 70%*"
      ],
      "metadata": {
        "id": "Q215TG5vivJZ"
      }
    },
    {
      "cell_type": "code",
      "source": [
        "#############################################################\n",
        "# Obtener PCA con 70% de la explicación\n",
        "#############################################################\n",
        "\n",
        "# Obervemos el resultado de PCA:\n",
        "pcSummary = pd.DataFrame({\n",
        "    'Standard deviation': np.sqrt(pca.explained_variance_),\n",
        "    'Proportion of variance': pca.explained_variance_ratio_,\n",
        "    'Cumulative proportion': np.cumsum(pca.explained_variance_ratio_)\n",
        "})\n",
        "\n",
        "pcSummary.insert(loc=0, column = 'PC', value = 'PC' + ( 1 + pcSummary.reset_index().index).astype(str))\n",
        "\n",
        "print(f\"\"\"\n",
        "┌────────────────────────────────────────────────────────┐\n",
        "│Ejercicio 7.1 - Mostrar PCA que tienen 70%:               │\n",
        "└────────────────────────────────────────────────────────┘\n",
        "\"\"\")\n",
        "pcSummary[pcSummary['Cumulative proportion'] <= 0.75]"
      ],
      "metadata": {
        "colab": {
          "base_uri": "https://localhost:8080/",
          "height": 266
        },
        "id": "BIcI9SpQIGDi",
        "outputId": "1ef4decd-930a-4d25-828e-e6010e69f8c8"
      },
      "execution_count": 20,
      "outputs": [
        {
          "output_type": "stream",
          "name": "stdout",
          "text": [
            "\n",
            "┌────────────────────────────────────────────────────────┐\n",
            "│Ejercicio 7.1 - Mostrar PCA que tienen 70%:               │\n",
            "└────────────────────────────────────────────────────────┘\n",
            "\n"
          ]
        },
        {
          "output_type": "execute_result",
          "data": {
            "text/plain": [
              "    PC  Standard deviation  Proportion of variance  Cumulative proportion\n",
              "0  PC1            2.431856                0.454902               0.454902\n",
              "1  PC2            1.308634                0.131728               0.586630\n",
              "2  PC3            0.970556                0.072457               0.659088\n",
              "3  PC4            0.940161                0.067990               0.727078"
            ],
            "text/html": [
              "\n",
              "  <div id=\"df-1c14fef9-9e68-4022-b86e-ecc57aa957fd\">\n",
              "    <div class=\"colab-df-container\">\n",
              "      <div>\n",
              "<style scoped>\n",
              "    .dataframe tbody tr th:only-of-type {\n",
              "        vertical-align: middle;\n",
              "    }\n",
              "\n",
              "    .dataframe tbody tr th {\n",
              "        vertical-align: top;\n",
              "    }\n",
              "\n",
              "    .dataframe thead th {\n",
              "        text-align: right;\n",
              "    }\n",
              "</style>\n",
              "<table border=\"1\" class=\"dataframe\">\n",
              "  <thead>\n",
              "    <tr style=\"text-align: right;\">\n",
              "      <th></th>\n",
              "      <th>PC</th>\n",
              "      <th>Standard deviation</th>\n",
              "      <th>Proportion of variance</th>\n",
              "      <th>Cumulative proportion</th>\n",
              "    </tr>\n",
              "  </thead>\n",
              "  <tbody>\n",
              "    <tr>\n",
              "      <th>0</th>\n",
              "      <td>PC1</td>\n",
              "      <td>2.431856</td>\n",
              "      <td>0.454902</td>\n",
              "      <td>0.454902</td>\n",
              "    </tr>\n",
              "    <tr>\n",
              "      <th>1</th>\n",
              "      <td>PC2</td>\n",
              "      <td>1.308634</td>\n",
              "      <td>0.131728</td>\n",
              "      <td>0.586630</td>\n",
              "    </tr>\n",
              "    <tr>\n",
              "      <th>2</th>\n",
              "      <td>PC3</td>\n",
              "      <td>0.970556</td>\n",
              "      <td>0.072457</td>\n",
              "      <td>0.659088</td>\n",
              "    </tr>\n",
              "    <tr>\n",
              "      <th>3</th>\n",
              "      <td>PC4</td>\n",
              "      <td>0.940161</td>\n",
              "      <td>0.067990</td>\n",
              "      <td>0.727078</td>\n",
              "    </tr>\n",
              "  </tbody>\n",
              "</table>\n",
              "</div>\n",
              "      <button class=\"colab-df-convert\" onclick=\"convertToInteractive('df-1c14fef9-9e68-4022-b86e-ecc57aa957fd')\"\n",
              "              title=\"Convert this dataframe to an interactive table.\"\n",
              "              style=\"display:none;\">\n",
              "        \n",
              "  <svg xmlns=\"http://www.w3.org/2000/svg\" height=\"24px\"viewBox=\"0 0 24 24\"\n",
              "       width=\"24px\">\n",
              "    <path d=\"M0 0h24v24H0V0z\" fill=\"none\"/>\n",
              "    <path d=\"M18.56 5.44l.94 2.06.94-2.06 2.06-.94-2.06-.94-.94-2.06-.94 2.06-2.06.94zm-11 1L8.5 8.5l.94-2.06 2.06-.94-2.06-.94L8.5 2.5l-.94 2.06-2.06.94zm10 10l.94 2.06.94-2.06 2.06-.94-2.06-.94-.94-2.06-.94 2.06-2.06.94z\"/><path d=\"M17.41 7.96l-1.37-1.37c-.4-.4-.92-.59-1.43-.59-.52 0-1.04.2-1.43.59L10.3 9.45l-7.72 7.72c-.78.78-.78 2.05 0 2.83L4 21.41c.39.39.9.59 1.41.59.51 0 1.02-.2 1.41-.59l7.78-7.78 2.81-2.81c.8-.78.8-2.07 0-2.86zM5.41 20L4 18.59l7.72-7.72 1.47 1.35L5.41 20z\"/>\n",
              "  </svg>\n",
              "      </button>\n",
              "      \n",
              "  <style>\n",
              "    .colab-df-container {\n",
              "      display:flex;\n",
              "      flex-wrap:wrap;\n",
              "      gap: 12px;\n",
              "    }\n",
              "\n",
              "    .colab-df-convert {\n",
              "      background-color: #E8F0FE;\n",
              "      border: none;\n",
              "      border-radius: 50%;\n",
              "      cursor: pointer;\n",
              "      display: none;\n",
              "      fill: #1967D2;\n",
              "      height: 32px;\n",
              "      padding: 0 0 0 0;\n",
              "      width: 32px;\n",
              "    }\n",
              "\n",
              "    .colab-df-convert:hover {\n",
              "      background-color: #E2EBFA;\n",
              "      box-shadow: 0px 1px 2px rgba(60, 64, 67, 0.3), 0px 1px 3px 1px rgba(60, 64, 67, 0.15);\n",
              "      fill: #174EA6;\n",
              "    }\n",
              "\n",
              "    [theme=dark] .colab-df-convert {\n",
              "      background-color: #3B4455;\n",
              "      fill: #D2E3FC;\n",
              "    }\n",
              "\n",
              "    [theme=dark] .colab-df-convert:hover {\n",
              "      background-color: #434B5C;\n",
              "      box-shadow: 0px 1px 3px 1px rgba(0, 0, 0, 0.15);\n",
              "      filter: drop-shadow(0px 1px 2px rgba(0, 0, 0, 0.3));\n",
              "      fill: #FFFFFF;\n",
              "    }\n",
              "  </style>\n",
              "\n",
              "      <script>\n",
              "        const buttonEl =\n",
              "          document.querySelector('#df-1c14fef9-9e68-4022-b86e-ecc57aa957fd button.colab-df-convert');\n",
              "        buttonEl.style.display =\n",
              "          google.colab.kernel.accessAllowed ? 'block' : 'none';\n",
              "\n",
              "        async function convertToInteractive(key) {\n",
              "          const element = document.querySelector('#df-1c14fef9-9e68-4022-b86e-ecc57aa957fd');\n",
              "          const dataTable =\n",
              "            await google.colab.kernel.invokeFunction('convertToInteractive',\n",
              "                                                     [key], {});\n",
              "          if (!dataTable) return;\n",
              "\n",
              "          const docLinkHtml = 'Like what you see? Visit the ' +\n",
              "            '<a target=\"_blank\" href=https://colab.research.google.com/notebooks/data_table.ipynb>data table notebook</a>'\n",
              "            + ' to learn more about interactive tables.';\n",
              "          element.innerHTML = '';\n",
              "          dataTable['output_type'] = 'display_data';\n",
              "          await google.colab.output.renderOutput(dataTable, element);\n",
              "          const docLink = document.createElement('div');\n",
              "          docLink.innerHTML = docLinkHtml;\n",
              "          element.appendChild(docLink);\n",
              "        }\n",
              "      </script>\n",
              "    </div>\n",
              "  </div>\n",
              "  "
            ]
          },
          "metadata": {},
          "execution_count": 20
        }
      ]
    },
    {
      "cell_type": "markdown",
      "source": [
        "Encontramos que para alcanzar el 70%, tenemos que utilizar los primeros 4 PCA."
      ],
      "metadata": {
        "id": "wgl-xm5CHyfw"
      }
    },
    {
      "cell_type": "markdown",
      "source": [
        "##### Ejercicio 7.2\n",
        "*Indica la importancia de las variables en cada componente*"
      ],
      "metadata": {
        "id": "aRATW0noixdg"
      }
    },
    {
      "cell_type": "code",
      "source": [
        "#############################################################\n",
        "# Visualizar componentes en PCA:\n",
        "#############################################################\n",
        "\n",
        "# crear datos del PCA:\n",
        "pca_data = pd.DataFrame(pca.components_.transpose(),\n",
        "             columns = pcSummary['PC'].values,\n",
        "             index = columns_continuous\n",
        "             )\n",
        "\n",
        "print(f\"\"\"\n",
        "┌────────────────────────────────────────────────────────┐\n",
        "│Ejercicio 7.2 - Graficar importancia de variable en PCAS: │\n",
        "└────────────────────────────────────────────────────────┘\n",
        "\"\"\")\n",
        "\n",
        "# graficar los primeros PCA:\n",
        "fig, ax = plt.subplots(figsize=(8,8))\n",
        "sns.heatmap(\n",
        "    pca_data[['PC1', 'PC2', 'PC3', 'PC4']], \n",
        "    annot=True, \n",
        "    fmt='.2f', \n",
        "    center=0, \n",
        "    cmap=sns.diverging_palette(10, 10, as_cmap=True)\n",
        ")"
      ],
      "metadata": {
        "colab": {
          "base_uri": "https://localhost:8080/",
          "height": 598
        },
        "id": "Wusw_HGaJ3h4",
        "outputId": "60059700-5055-4218-d277-e765e616e534"
      },
      "execution_count": 21,
      "outputs": [
        {
          "output_type": "stream",
          "name": "stdout",
          "text": [
            "\n",
            "┌────────────────────────────────────────────────────────┐\n",
            "│Ejercicio 7.2 - Graficar importancia de variable en PCAS: │\n",
            "└────────────────────────────────────────────────────────┘\n",
            "\n"
          ]
        },
        {
          "output_type": "execute_result",
          "data": {
            "text/plain": [
              "<matplotlib.axes._subplots.AxesSubplot at 0x7fcc71c4f0d0>"
            ]
          },
          "metadata": {},
          "execution_count": 21
        },
        {
          "output_type": "display_data",
          "data": {
            "text/plain": [
              "<Figure size 576x576 with 2 Axes>"
            ],
            "image/png": "[encoded data removed]"
          },
          "metadata": {}
        }
      ]
    },
    {
      "cell_type": "markdown",
      "source": [
        "Observamos:\n",
        "\n",
        "* EL PC1 está compuesto principalmente por los datos de pago.\n",
        "\n",
        "* EL PC2 está compuesto principalmente por los datos de pagos y monto de crédito.\n",
        "\n",
        "* EL PCA3 es una combinación de pagos, excluyendo Junio y montos de pago.\n",
        "\n",
        "* EL PCA4 está compuesto principalmente por los pagos, con mayor importancia en Junio y Abril."
      ],
      "metadata": {
        "id": "gaQMccgKMZjb"
      }
    },
    {
      "cell_type": "markdown",
      "source": [
        "##### Ejercicio 8\n",
        "*Elabora los histogramas de los atributos para visualizar su distribución*"
      ],
      "metadata": {
        "id": "RDDwpggtjTMl"
      }
    },
    {
      "cell_type": "markdown",
      "source": [
        "Vamos a relizar los histogramas únicamente para los valores numéricos, incluyendo los datos de edad. Debemos recordar que estos datos ya están normalizados en nuestra variable X_new que usamos para el PCA, podemos sin embargo regresar usar nuevamente nuestro transformer na que solo remueve los nulos y no escala, esto para ver mejor los histogramas."
      ],
      "metadata": {
        "id": "GfhuN0eYNTkF"
      }
    },
    {
      "cell_type": "code",
      "source": [
        "#############################################################\n",
        "# Crear nuevamente X_new para datos numericos sin normalizar\n",
        "#############################################################\n",
        "\n",
        "X_transformer = ct_na.fit(X)\n",
        "X_new = pd.DataFrame(X_transformer.transform(X), columns=columns_category + columns_numeric)"
      ],
      "metadata": {
        "id": "p49ZLRePNRx0"
      },
      "execution_count": 22,
      "outputs": []
    },
    {
      "cell_type": "code",
      "source": [
        "#############################################################\n",
        "# Graficar Credit Amount:\n",
        "#############################################################\n",
        "print(f\"\"\"\n",
        "┌────────────────────────────────────────────────────────┐\n",
        "│Ejercicio 8 - Graficar Credit Amount:                   │\n",
        "└────────────────────────────────────────────────────────┘\n",
        "\"\"\")\n",
        "fig, ax = plt.subplots()\n",
        "X_new[['credit_amt']].hist(ax=ax)\n",
        "plt.show()"
      ],
      "metadata": {
        "colab": {
          "base_uri": "https://localhost:8080/",
          "height": 379
        },
        "id": "h-Ied-iTP8O3",
        "outputId": "b31946f7-ff2d-418f-9b48-85e6c3c7bef9"
      },
      "execution_count": 23,
      "outputs": [
        {
          "output_type": "stream",
          "name": "stdout",
          "text": [
            "\n",
            "┌────────────────────────────────────────────────────────┐\n",
            "│Ejercicio 8 - Graficar Credit Amount:                   │\n",
            "└────────────────────────────────────────────────────────┘\n",
            "\n"
          ]
        },
        {
          "output_type": "display_data",
          "data": {
            "text/plain": [
              "<Figure size 432x288 with 1 Axes>"
            ],
            "image/png": "[encoded data removed]"
          },
          "metadata": {}
        }
      ]
    },
    {
      "cell_type": "markdown",
      "source": [
        "La mayoría de los créditos son bajos, es raro observar créditos por encima de 500,000"
      ],
      "metadata": {
        "id": "feKGpWx_S5lp"
      }
    },
    {
      "cell_type": "code",
      "source": [
        "#############################################################\n",
        "# Graficar Age:\n",
        "#############################################################\n",
        "print(f\"\"\"\n",
        "┌────────────────────────────────────────────────────────┐\n",
        "│Ejercicio 8 - Graficar Age:                             │\n",
        "└────────────────────────────────────────────────────────┘\n",
        "\"\"\")\n",
        "fig, ax = plt.subplots()\n",
        "X_new[['age']].hist(ax=ax)\n",
        "plt.show()"
      ],
      "metadata": {
        "colab": {
          "base_uri": "https://localhost:8080/",
          "height": 379
        },
        "id": "kCpXKNjPQLa3",
        "outputId": "3d96457f-3826-4ea3-e793-365aa1d2b4e9"
      },
      "execution_count": 24,
      "outputs": [
        {
          "output_type": "stream",
          "name": "stdout",
          "text": [
            "\n",
            "┌────────────────────────────────────────────────────────┐\n",
            "│Ejercicio 8 - Graficar Age:                             │\n",
            "└────────────────────────────────────────────────────────┘\n",
            "\n"
          ]
        },
        {
          "output_type": "display_data",
          "data": {
            "text/plain": [
              "<Figure size 432x288 with 1 Axes>"
            ],
            "image/png": "[encoded data removed]"
          },
          "metadata": {}
        }
      ]
    },
    {
      "cell_type": "markdown",
      "source": [
        "La mayoría de los clientes se encuentra por los 30 años"
      ],
      "metadata": {
        "id": "OtBeIuvSS-LD"
      }
    },
    {
      "cell_type": "code",
      "source": [
        "#############################################################\n",
        "# Graficar estados de cuenta:\n",
        "#############################################################\n",
        "print(f\"\"\"\n",
        "┌────────────────────────────────────────────────────────┐\n",
        "│Ejercicio 8 - Graficar estados de cuenta:               │\n",
        "└────────────────────────────────────────────────────────┘\n",
        "\"\"\")\n",
        "fig, ax = plt.subplots(nrows=2, ncols=3, figsize=(12, 12))\n",
        "X_new[['bill_amt_sep','bill_amt_aug','bill_amt_jul','bill_amt_jun','bill_amt_may','bill_amt_apr']].hist(ax = ax)\n",
        "plt.show()"
      ],
      "metadata": {
        "colab": {
          "base_uri": "https://localhost:8080/",
          "height": 814
        },
        "id": "dcFIrXJ-QsZ3",
        "outputId": "510266bd-595a-448c-bb5e-ce1e2a904185"
      },
      "execution_count": 25,
      "outputs": [
        {
          "output_type": "stream",
          "name": "stdout",
          "text": [
            "\n",
            "┌────────────────────────────────────────────────────────┐\n",
            "│Ejercicio 8 - Graficar estados de cuenta:               │\n",
            "└────────────────────────────────────────────────────────┘\n",
            "\n"
          ]
        },
        {
          "output_type": "display_data",
          "data": {
            "text/plain": [
              "<Figure size 864x864 with 6 Axes>"
            ],
            "image/png": "[encoded data removed]"
          },
          "metadata": {}
        }
      ]
    },
    {
      "cell_type": "markdown",
      "source": [
        "Los estados de cuenta responden a lo observado en los montos de crédito, situación esperada"
      ],
      "metadata": {
        "id": "vk9aCuu9TCJJ"
      }
    },
    {
      "cell_type": "code",
      "source": [
        "#############################################################\n",
        "# Graficar pagos:\n",
        "#############################################################\n",
        "print(f\"\"\"\n",
        "┌────────────────────────────────────────────────────────┐\n",
        "│Ejercicio 8 - Graficar pagos:                           │\n",
        "└────────────────────────────────────────────────────────┘\n",
        "\"\"\")\n",
        "fig, ax = plt.subplots(nrows=2, ncols=3, figsize=(12, 12))\n",
        "X_new[['pay_amt_sep','pay_amt_aug','pay_amt_jul','pay_amt_jun','pay_amt_may','pay_amt_apr']].hist(ax = ax)\n",
        "plt.show()"
      ],
      "metadata": {
        "colab": {
          "base_uri": "https://localhost:8080/",
          "height": 814
        },
        "id": "MkQcthgsSc8d",
        "outputId": "2c8ae0b8-e767-4f98-aebf-1250c4ca1393"
      },
      "execution_count": 26,
      "outputs": [
        {
          "output_type": "stream",
          "name": "stdout",
          "text": [
            "\n",
            "┌────────────────────────────────────────────────────────┐\n",
            "│Ejercicio 8 - Graficar pagos:                           │\n",
            "└────────────────────────────────────────────────────────┘\n",
            "\n"
          ]
        },
        {
          "output_type": "display_data",
          "data": {
            "text/plain": [
              "<Figure size 864x864 with 6 Axes>"
            ],
            "image/png": "[encoded data removed]"
          },
          "metadata": {}
        }
      ]
    },
    {
      "cell_type": "markdown",
      "source": [
        "La mayoría d elos pagos como habiamos visto se encuentran dentro de los 5k, estas gráficas probablemente necesiten una transformación para observar a mejor detalle; sin embargo, cumplen con lo observado cuando usamos describe."
      ],
      "metadata": {
        "id": "0uwAJGq8THXC"
      }
    },
    {
      "cell_type": "markdown",
      "source": [
        "##### Ejercicio 9\n",
        "*Realiza la visualización de los datos usando por lo menos 3 gráficos que consideres adecuados: plot, scatter, jointplot, boxplot, areaplot, pie chart, pairplot, bar chart, etc.*"
      ],
      "metadata": {
        "id": "Cg20Gj4vjU_c"
      }
    },
    {
      "cell_type": "markdown",
      "source": [
        "Comenzaremos con boxplots de los pagos, en particular queremos ver cuando removemos los outliers, como se comportan en comparación mes con mes para corroborar si existe o no comportamiento relativamente normal, para esto usaremos ShowFilters=False."
      ],
      "metadata": {
        "id": "nefJONswTTzY"
      }
    },
    {
      "cell_type": "code",
      "source": [
        "#############################################################\n",
        "# Boxplot sin outlier de pagos:\n",
        "#############################################################\n",
        "\n",
        "sns.boxplot(\n",
        "    data=X_new[['pay_amt_sep', 'pay_amt_aug', 'pay_amt_jul', 'pay_amt_jun', 'pay_amt_may', 'pay_amt_apr']],\n",
        "    orient=\"h\",\n",
        "    showfliers=False\n",
        ")\n",
        "print(f\"\"\"\n",
        "┌────────────────────────────────────────────────────────┐\n",
        "│Ejercicio 9 - Boxplot sin outliers:                     │\n",
        "└────────────────────────────────────────────────────────┘\n",
        "\"\"\")\n",
        "plt.show()"
      ],
      "metadata": {
        "colab": {
          "base_uri": "https://localhost:8080/",
          "height": 362
        },
        "id": "_rGtEH8BTXe2",
        "outputId": "1025635b-ef4e-41fa-c29c-73ac9456c93a"
      },
      "execution_count": 27,
      "outputs": [
        {
          "output_type": "stream",
          "name": "stdout",
          "text": [
            "\n",
            "┌────────────────────────────────────────────────────────┐\n",
            "│Ejercicio 9 - Boxplot sin outliers:                     │\n",
            "└────────────────────────────────────────────────────────┘\n",
            "\n"
          ]
        },
        {
          "output_type": "display_data",
          "data": {
            "text/plain": [
              "<Figure size 432x288 with 1 Axes>"
            ],
            "image/png": "[encoded data removed]"
          },
          "metadata": {}
        }
      ]
    },
    {
      "cell_type": "markdown",
      "source": [
        "Podríamos también tratar de ver si existe una relación entre la edad y el monto de crédito otorgado"
      ],
      "metadata": {
        "id": "8YGCWvdcXN39"
      }
    },
    {
      "cell_type": "code",
      "source": [
        "#############################################################\n",
        "# Comparación edad y monto de crédito\n",
        "#############################################################\n",
        "print(f\"\"\"\n",
        "┌────────────────────────────────────────────────────────┐\n",
        "│Ejercicio 9 - JoinPLot:                                 │\n",
        "└────────────────────────────────────────────────────────┘\n",
        "\"\"\")\n",
        "sns.jointplot(data=X_new, x=\"credit_amt\", y=\"age\", kind=\"reg\")"
      ],
      "metadata": {
        "colab": {
          "base_uri": "https://localhost:8080/",
          "height": 542
        },
        "id": "2ONHQaA4XtKG",
        "outputId": "ad391e36-1a47-402b-e707-989986898755"
      },
      "execution_count": 28,
      "outputs": [
        {
          "output_type": "stream",
          "name": "stdout",
          "text": [
            "\n",
            "┌────────────────────────────────────────────────────────┐\n",
            "│Ejercicio 9 - JoinPLot:                                 │\n",
            "└────────────────────────────────────────────────────────┘\n",
            "\n"
          ]
        },
        {
          "output_type": "execute_result",
          "data": {
            "text/plain": [
              "<seaborn.axisgrid.JointGrid at 0x7fcc6ce90690>"
            ]
          },
          "metadata": {},
          "execution_count": 28
        },
        {
          "output_type": "display_data",
          "data": {
            "text/plain": [
              "<Figure size 432x432 with 3 Axes>"
            ],
            "image/png": "[encoded data removed]"
          },
          "metadata": {}
        }
      ]
    },
    {
      "cell_type": "markdown",
      "source": [
        "Analicemos además si el nivel educativo tiene que ver con la probabilidad de impago."
      ],
      "metadata": {
        "id": "cVqZmQScacHT"
      }
    },
    {
      "cell_type": "code",
      "source": [
        "#############################################################\n",
        "# # Nivel educativo y probabilidad de pago:\n",
        "#############################################################\n",
        "print(f\"\"\"\n",
        "┌────────────────────────────────────────────────────────┐\n",
        "│Ejercicio 9 - Barplot:                                  │\n",
        "└────────────────────────────────────────────────────────┘\n",
        "\"\"\")\n",
        "ax = sns.barplot(data=df, x=\"proba_def\", y=\"education\", orient=\"h\")\n",
        "ax.set_yticklabels(['0', 'graduate school', 'university', 'high school', 'others', '5', '6'])\n",
        "plt.show()"
      ],
      "metadata": {
        "colab": {
          "base_uri": "https://localhost:8080/",
          "height": 380
        },
        "id": "Zgf8HDZpahQC",
        "outputId": "8b46407d-94de-44fd-da9a-fbf5cc3b2012"
      },
      "execution_count": 29,
      "outputs": [
        {
          "output_type": "stream",
          "name": "stdout",
          "text": [
            "\n",
            "┌────────────────────────────────────────────────────────┐\n",
            "│Ejercicio 9 - Barplot:                                  │\n",
            "└────────────────────────────────────────────────────────┘\n",
            "\n"
          ]
        },
        {
          "output_type": "display_data",
          "data": {
            "text/plain": [
              "<Figure size 432x288 with 1 Axes>"
            ],
            "image/png": "[encoded data removed]"
          },
          "metadata": {}
        }
      ]
    },
    {
      "cell_type": "markdown",
      "source": [
        "##### Ejercicio 10\n",
        "*Interpreta y explica cada uno de los gráficos indicando cuál es la información más relevante que podría ayudar en el proceso de toma de decisiones.*"
      ],
      "metadata": {
        "id": "5N8DWSiPjWqj"
      }
    },
    {
      "cell_type": "markdown",
      "source": [
        "**Primer gráfico - Boxplot de pagos**\n",
        "\n",
        "El primer gráfico confirma parte de lo observado en PCA y en el análisis de las tendencias centrales que hizimos con el método describe en el dataset inicial, cuando removemos los outliers vemos los comportamientos normales de las gráficas y esto se puede ampliar para otros métodos para entenderlas mejor, ya que este dataset cuenta con bastantes outliers; lo que confirmamos cuando vimos los máximos.\n",
        "\n",
        "\n",
        "**Segundo gráfico - Join plot de crédito vs. edad**\n",
        "\n",
        "La intuición nos dice que a mayor edad, mayor capacidad financiera y por lo tanto crediticia, esto es parcialmente confirmado ya que también observamos otras combinaciones. Quizás utilizar métodos como crear grupos en las edades y los montos de créditos permita ver esto de mejor manera, se podría recomendar hacer esto por pipelines para nuevos modelados.\n",
        "\n",
        "**Tercer gráfico - Barplot de impago vs. nivel educativo**\n",
        "\n",
        "Este método es probablemente uno de los que ofrezca mayores insights para segregar en varios modelos, el tomar variables objetivo vs. categorias es un método naturalmente intuitivo para entender los fenómenos. Este tipo de análisis lo podemos aumentar al utilizar pruebas ANOVA para ver si existe diferencia en las medias, estos insights puede ayudar a dar dirección al modelo e incluso es un método común para tomar decisiones rápidas.\n",
        "\n",
        "La expansión de esta metodologia se puede hacer por creación de grupos \"binarization\" o métodos como k-means para crear nuevas categorias, esto sirve en un sentido similar a PCA, ya que nos ayuda a entender más datos con menos."
      ],
      "metadata": {
        "id": "9UC-EcGBjS8j"
      }
    }
  ]
}