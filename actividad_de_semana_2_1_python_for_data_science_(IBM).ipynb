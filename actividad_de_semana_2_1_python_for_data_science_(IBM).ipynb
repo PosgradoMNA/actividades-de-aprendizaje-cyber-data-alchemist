{
  "cells": [
    {
      "cell_type": "markdown",
      "metadata": {
        "id": "view-in-github",
        "colab_type": "text"
      },
      "source": [
        "<a href=\"https://colab.research.google.com/github/PosgradoMNA/actividades-de-aprendizaje-cyber-data-alchemist/blob/main/actividad_de_semana_2_1_python_for_data_science_(IBM).ipynb\" target=\"_parent\"><img src=\"https://colab.research.google.com/assets/colab-badge.svg\" alt=\"Open In Colab\"/></a>"
      ]
    },
    {
      "cell_type": "markdown",
      "source": [
        "# IBM: PY0101EN Python for Data Science\n",
        "---\n",
        "> On this notebook the exercises, practices and follow up from the module 4 will be reviewed. This serves as a demonstrantion and an exercise for the Data Science Class (TC4029) of the MNA Master's degree program of the ITESM and is created by A01793023 - Jorge Luis Arroyo Chavelas. For questions, please reach out to A01793023@tec.mx\n"
      ],
      "metadata": {
        "id": "YxES2kfgTguv"
      }
    },
    {
      "cell_type": "markdown",
      "source": [
        "## Module 4 Python Basics\n",
        "---"
      ],
      "metadata": {
        "id": "eXXr9wq6UDRf"
      }
    },
    {
      "cell_type": "markdown",
      "source": [
        "### Reading Files with Open\n"
      ],
      "metadata": {
        "id": "YXOAkdWsYJzF"
      }
    },
    {
      "cell_type": "code",
      "source": [],
      "metadata": {
        "id": "A1N4XcCthGTY"
      },
      "execution_count": null,
      "outputs": []
    },
    {
      "cell_type": "markdown",
      "source": [
        "### Writing Files with Open"
      ],
      "metadata": {
        "id": "uLW4Dr7XguoF"
      }
    },
    {
      "cell_type": "code",
      "source": [],
      "metadata": {
        "id": "VehXcgcchG_M"
      },
      "execution_count": null,
      "outputs": []
    },
    {
      "cell_type": "markdown",
      "source": [
        "### Loading Data with Pandas"
      ],
      "metadata": {
        "id": "Hc6sGrvNg1tp"
      }
    },
    {
      "cell_type": "code",
      "source": [],
      "metadata": {
        "id": "yQB8HcJyhHdk"
      },
      "execution_count": null,
      "outputs": []
    },
    {
      "cell_type": "markdown",
      "source": [
        "### Working with and Saving Data with Pandas"
      ],
      "metadata": {
        "id": "yJgpSOiRg_Lk"
      }
    },
    {
      "cell_type": "code",
      "source": [],
      "metadata": {
        "id": "fqMxppwChINs"
      },
      "execution_count": null,
      "outputs": []
    }
  ],
  "metadata": {
    "language_info": {
      "name": "python"
    },
    "orig_nbformat": 4,
    "colab": {
      "provenance": [],
      "collapsed_sections": [],
      "include_colab_link": true
    },
    "kernelspec": {
      "name": "python3",
      "display_name": "Python 3"
    }
  },
  "nbformat": 4,
  "nbformat_minor": 0
}