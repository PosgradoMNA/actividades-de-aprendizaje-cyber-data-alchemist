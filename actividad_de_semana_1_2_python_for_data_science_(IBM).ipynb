{
  "cells": [
    {
      "cell_type": "markdown",
      "metadata": {
        "id": "view-in-github",
        "colab_type": "text"
      },
      "source": [
        "<a href=\"https://colab.research.google.com/github/PosgradoMNA/actividades-de-aprendizaje-cyber-data-alchemist/blob/main/actividad_de_semana_1_2_python_for_data_science_(IBM).ipynb\" target=\"_parent\"><img src=\"https://colab.research.google.com/assets/colab-badge.svg\" alt=\"Open In Colab\"/></a>"
      ]
    },
    {
      "cell_type": "markdown",
      "source": [
        "# IBM: PY0101EN Python for Data Science\n",
        "---\n",
        "> On this notebook the exercises, practices and follow up from the listed modules will be reviewed. This serves as a demonstrantion and an exercise for the Data Science Class (TC4029) of the MNA Master's degree program of the ITESM and is created by A01793023. for questions, please reach out to A01793023@tec.mx\n"
      ],
      "metadata": {
        "id": "YxES2kfgTguv"
      }
    },
    {
      "cell_type": "markdown",
      "source": [
        "## Module 1 Python Basics\n",
        "---"
      ],
      "metadata": {
        "id": "eXXr9wq6UDRf"
      }
    },
    {
      "cell_type": "markdown",
      "source": [
        "### Your first Program\n",
        "The classic hello world but tropicalized"
      ],
      "metadata": {
        "id": "s6ZgG2o0XuVS"
      }
    },
    {
      "cell_type": "code",
      "source": [
        "# Print an string to the console through the built-in print function\n",
        "print(\"Hello Python 101\")"
      ],
      "metadata": {
        "colab": {
          "base_uri": "https://localhost:8080/"
        },
        "id": "tIe4O4ohX_Hn",
        "outputId": "1ed483aa-11c7-4edf-c405-55eec40acf5f"
      },
      "execution_count": 1,
      "outputs": [
        {
          "output_type": "stream",
          "name": "stdout",
          "text": [
            "Hello Python 101\n"
          ]
        }
      ]
    },
    {
      "cell_type": "markdown",
      "source": [
        "### Types\n",
        "\n",
        "There are different types of data types. The built-in type function returns the type of a value.\n",
        "\n",
        "| Example | Type |\n",
        "| --- | --- |\n",
        "| type(11) | int |\n",
        "| type(21.213) | float |\n",
        "| type(\"Hello Python 101\") | str | \n",
        "| type(True) | Bool |\n",
        "\n",
        "Values can sometimes be recasted from one type to other. As an example, integers can be send to a float or an string with an integer to that; the same is true for other values as Booleans that can be cast to ones and zeros. To achieve this we can use the built-in functions with the same type of the values, i.e.:\n",
        "\n",
        "\n",
        "| Command | Result |\n",
        "| --- | --- |\n",
        "| int(11.2) | the integer part of the float |\n",
        "| bool(1) | integer to True |\n",
        "| float(\"211.12\") | the string to a float | \n",
        "\n",
        "One should be careful with this, not everything is recastable. As an exmaple \"A\" cannot be recast to an int.\n"
      ],
      "metadata": {
        "id": "ygJ5bvvDXxDi"
      }
    },
    {
      "cell_type": "code",
      "source": [
        "# Printing different types of data through the built-in type function\n",
        "print(\"\\n --- data types --- \\n\")\n",
        "print(type(1))\n",
        "print(type(21.213))\n",
        "print(type(\"Hello Python 101\"))\n",
        "print(type(True))\n",
        "\n",
        "print(\"\\n --- Recasts --- \\n\")\n",
        "\n",
        "# printing some valid recast examples\n",
        "print(f\"recast of 11.2 to int: {int(11.2)}\")\n",
        "print(f\"recast of 1 to boolean: {bool(1)}\")\n",
        "print(f\"recast of '211.12' (an string) to float: {float('211.12')}\")"
      ],
      "metadata": {
        "colab": {
          "base_uri": "https://localhost:8080/"
        },
        "id": "o1DRyMBJX__X",
        "outputId": "5ee74637-6592-4bb2-f754-48d1f824f130"
      },
      "execution_count": 2,
      "outputs": [
        {
          "output_type": "stream",
          "name": "stdout",
          "text": [
            "\n",
            " --- data types --- \n",
            "\n",
            "<class 'int'>\n",
            "<class 'float'>\n",
            "<class 'str'>\n",
            "<class 'bool'>\n",
            "\n",
            " --- Recasts --- \n",
            "\n",
            "recast of 11.2 to int: 11\n",
            "recast of 1 to boolean: True\n",
            "recast of '211.12' (an string) to float: 211.12\n"
          ]
        }
      ]
    },
    {
      "cell_type": "markdown",
      "source": [
        "### Expressions and Variables\n",
        "Expressions are operations that the computer performs, an example are the mathematical operations like the ones using math operands (like in arithmetic).\n",
        "\n",
        "| Operands | Operation |\n",
        "| --- | --- |\n",
        "| adittion | + |\n",
        "| substraction| - |\n",
        "| product | * |\n",
        "| division | / |\n",
        "| modulus | % |\n",
        "| exponetiation| ** |\n",
        "| floor division | // |\n",
        "\n",
        "Python follows mathematical conventions when performing mathematical expressions.\n",
        "\n",
        "Assignments are values stored by using the = sign. This help us to store values and use them later through the code. For example:\n",
        "\n",
        "``` python\n",
        "> x=1\n",
        "> x+1\n",
        "> 2\n",
        "```\n",
        "\n",
        "will allow us to use x to get the number one that was assigned to it, this includes the ability to perform mathematical operations like the ones described above."
      ],
      "metadata": {
        "id": "tmJ-wJN4X4QB"
      }
    },
    {
      "cell_type": "code",
      "source": [
        "# assigning time of 3 tasks as minutes to variables, use operands to compute from there the approxmate hours\n",
        "task_1 = 43\n",
        "task_2 = 42\n",
        "task_3 = 57\n",
        "total_min = task_1 + task_2 + task_3\n",
        "\n",
        "total_hours = total_min /60\n",
        "print(f\"given 3 tasks of: \\n * {task_1} minutes \\n * {task_2} minutes \\n * {task_3} minutes\")\n",
        "print(f\"The total hours to complete them all is: {total_hours} hours\")"
      ],
      "metadata": {
        "id": "NRyzRR0kYAiH",
        "colab": {
          "base_uri": "https://localhost:8080/"
        },
        "outputId": "dbdabeb0-7380-4901-9cd6-33d13aed383c"
      },
      "execution_count": 3,
      "outputs": [
        {
          "output_type": "stream",
          "name": "stdout",
          "text": [
            "given 3 tasks of: \n",
            " * 43 minutes \n",
            " * 42 minutes \n",
            " * 57 minutes\n",
            "The total hours to complete them all is: 2.3666666666666667 hours\n"
          ]
        }
      ]
    },
    {
      "cell_type": "markdown",
      "source": [
        "### String Operations\n",
        "A string is an inmutable sequence of characters, to use them we need to enclose them between single or double quotes. Considering that they are sequences, we can use tuples and arrays methos to them; there are, however, some methods that can only be used in them, these are called string methods. Some are:\n",
        "\n",
        "\n",
        "| Method | Description |\n",
        "| --- | --- |\n",
        "| capitalize() | Converts the first character to upper case |\n",
        "| casefold() | Converts string into lower case |\n",
        "| center() | Returns a centered string |\n",
        "| count() | Returns the number of times a specified value occurs in a string |\n",
        "| encode() | Returns an encoded version of the string |\n",
        "| endswith() | Returns true if the string ends with the specified value |\n",
        "| expandtabs() | Sets the tab size of the string |\n",
        "| find() | Searches the string for a specified value and returns the position of where it was found |\n",
        "| format() | Formats specified values in a string |\n",
        "| format_map() | Formats specified values in a string |\n",
        "| index() | Searches the string for a specified value and returns the position of where it was found |\n",
        "| isalnum() | Returns True if all characters in the string are alphanumeric |\n",
        "| isalpha() | Returns True if all characters in the string are in the alphabet |\n",
        "| isascii() | Returns True if all characters in the string are ascii characters |\n",
        "| isdecimal() | Returns True if all characters in the string are decimals |\n",
        "| isdigit() | Returns True if all characters in the string are digits |\n",
        "| isidentifier() | Returns True if the string is an identifier |\n",
        "| islower() | Returns True if all characters in the string are lower case |\n",
        "| isnumeric() | Returns True if all characters in the string are numeric |\n",
        "| isprintable() | Returns True if all characters in the string are printable |\n",
        "| isspace() | Returns True if all characters in the string are whitespaces |\n",
        "| istitle() | Returns True if the string follows the rules of a title |\n",
        "| isupper() | Returns True if all characters in the string are upper case |\n",
        "| join() | Converts the elements of an iterable into a string |\n",
        "| ljust() | Returns a left justified version of the string |\n",
        "| lower() | Converts a string into lower case |\n",
        "| lstrip() | Returns a left trim version of the string |\n",
        "| maketrans() | Returns a translation table to be used in translations |\n",
        "| partition() | Returns a tuple where the string is parted into three parts |\n",
        "| replace() | Returns a string where a specified value is replaced with a specified value |\n",
        "| rfind() | Searches the string for a specified value and returns the last position of where it was found |\n",
        "| rindex() | Searches the string for a specified value and returns the last position of where it was found |\n",
        "| rjust() | Returns a right justified version of the string |\n",
        "| rpartition() | Returns a tuple where the string is parted into three parts |\n",
        "| rsplit() | Splits the string at the specified separator, and returns a list |\n",
        "| rstrip() | Returns a right trim version of the string |\n",
        "| split() | Splits the string at the specified separator, and returns a list |\n",
        "| splitlines() | Splits the string at line breaks and returns a list |\n",
        "| startswith() | Returns true if the string starts with the specified value |\n",
        "| strip() | Returns a trimmed version of the string |\n",
        "| swapcase() | Swaps cases, lower case becomes upper case and vice versa |\n",
        "| title() | Converts the first character of each word to upper case |\n",
        "| translate() | Returns a translated string |\n",
        "| upper() | Converts a string into upper case |\n",
        "| zfill() | Fills the string with a specified number of 0 values at the beginning |\n",
        "*source: w3schools.com*\n",
        "\n",
        "\n",
        "We can also use '+' to concatenate and * to duplicate.\n",
        "\n",
        "\n"
      ],
      "metadata": {
        "id": "b3S196zLX7Zr"
      }
    },
    {
      "cell_type": "code",
      "source": [
        "# String are used with quote marks\n",
        "string = 'Hello World'\n",
        "print(string)\n",
        "\n",
        "# we can find their elements as they are threated as arrays\n",
        "print(f\"the first element in our string is: {string[0]}\")\n",
        "\n",
        "# and negative index as well\n",
        "print(f\"the las element in our string is: {string[-1]}\")\n",
        "\n",
        "# we can also slice them\n",
        "print(f\"the first 5 characters in our string are: {string[0:5]}\")\n",
        "\n",
        "# and use specific methods like upper case.\n",
        "print(f\"last 5 characters as upper case of our string: { string[-5:].upper() }\")\n",
        "\n"
      ],
      "metadata": {
        "id": "0ooVUk9iUizu",
        "colab": {
          "base_uri": "https://localhost:8080/"
        },
        "outputId": "3e6a33b4-d1da-4095-b938-122269ee989e"
      },
      "execution_count": 4,
      "outputs": [
        {
          "output_type": "stream",
          "name": "stdout",
          "text": [
            "Hello World\n",
            "the first element in our string is: H\n",
            "the las element in our string is: d\n",
            "the first 5 characters in our string are: Hello\n",
            "last 5 characters as upper case of our string: WORLD\n"
          ]
        }
      ]
    },
    {
      "cell_type": "markdown",
      "source": [
        "## Module 2 Python Data Structures\n",
        "---"
      ],
      "metadata": {
        "id": "oWXUrhhqUDdA"
      }
    },
    {
      "cell_type": "markdown",
      "source": [
        "### Lists and Tuples\n",
        "\n",
        "Lists and tuples are called compound data types. Tuples are immutable ordered sequences, tupples are writeen as comma-separated elements inside parenthesis, atomic data types can be contained in tuples; they are accesible by the square bracket operators and concatenable through the + operator. The manipulation of tuples can be achieved only through reasignment due to the inmutable property.\n",
        "\n",
        "Lists are very simmilar to tuples but are mutables, due this, they have multiple methods, some of those are:\n",
        "\n",
        "| Method | Description |\n",
        "| --- | --- |\n",
        "| append() | Adds an element at the end of the list |\n",
        "| clear() | Removes all the elements from the list |\n",
        "| copy() | Returns a copy of the list |\n",
        "| count() | Returns the number of elements with the specified value |\n",
        "| extend() | Add the elements of a list (or any iterable) |  to the end of the current list |\n",
        "| index() | Returns the index of the first element with the specified value |\n",
        "| insert() | Adds an element at the specified position |\n",
        "| pop() | Removes the element at the specified position |\n",
        "| remove() | Removes the first item with the specified value |\n",
        "| reverse() | Reverses the order of the list |\n",
        "| sort() | Sorts the list |\n",
        "*source: w3schools.com*\n",
        "\n",
        "Aliasing happens also with lists, if we have:\n",
        "``` python\n",
        "> A = [1,2,3]\n",
        "> B = A\n",
        "# and then\n",
        "> A[0] = 4\n",
        "# we would get:\n",
        "> print(B[0])\n",
        "> 4\n",
        "# This happens because lists are aliasing and point to the same place\n",
        "```\n",
        "\n"
      ],
      "metadata": {
        "id": "dhFmpblgYB__"
      }
    },
    {
      "cell_type": "code",
      "source": [
        "# some tupples examples:\n",
        "t0 = (1,2,\"True\", True, [\"list\",1,\"last\"])\n",
        "\n",
        "print(f\"last element, on our t0 tupple, is a tuple itself and the last element there is a list: {t0[-1][-1]}\")\n",
        "\n",
        "A = [1,2,3]\n",
        "B = A\n",
        "# and then\n",
        "A[0] = 4\n",
        "# we would get:\n",
        "print(B[0])\n",
        "# This happens because lists are aliasing and point to the same place\n",
        "\n",
        "# the pop method also confirms this aliasing property\n",
        "A.append(7)\n",
        "\n",
        "# 7 is displayed even if that was only added \n",
        "print(B[-1])\n"
      ],
      "metadata": {
        "id": "Bu6LfYgDYSsH",
        "colab": {
          "base_uri": "https://localhost:8080/"
        },
        "outputId": "5848608e-2b72-4e9a-a5ff-e4b91ca9a25b"
      },
      "execution_count": 5,
      "outputs": [
        {
          "output_type": "stream",
          "name": "stdout",
          "text": [
            "last element, on our t0 tupple, is a tuple itself and the last element there is a list: last\n",
            "4\n",
            "7\n"
          ]
        }
      ]
    },
    {
      "cell_type": "markdown",
      "source": [
        "### Sets\n",
        "Sets are type of collection that is unique and unordered. They are declared using the curly brackets {. Sets can use lists as argument through the cast built function set(List)m, i.e.:\n",
        "\n",
        "``` python\n",
        "> A = [1,1,1,2]\n",
        "> B = set(A)\n",
        "> print(B)\n",
        "{1,2}\n",
        "```\n",
        "\n",
        "Some of the sets methods are:\n",
        "\n",
        "| Method | Description |\n",
        "| --- | --- |\n",
        "| add() | Adds an element to the set |\n",
        "| clear() | Removes all the elements from the set |\n",
        "| copy() | Returns a copy of the set |\n",
        "| difference() | Returns a set containing the difference between two or more sets |\n",
        "| difference_update() | Removes the items in this set that are also included in another, specified set |\n",
        "| discard() | Remove the specified item |\n",
        "| intersection() | Returns a set, that is the intersection of two or more sets |\n",
        "| intersection_update() | Removes the items in this set that are not present in other, specified set(s) | isdisjoint() | Returns whether two sets have a intersection or not |\n",
        "| issubset() | Returns whether another set contains this set or not |\n",
        "| issuperset() | Returns whether this set contains another set or not |\n",
        "| pop() | Removes an element from the set |\n",
        "| remove() | Removes the specified element |\n",
        "| symmetric_difference() | Returns a set with the symmetric differences of two sets |\n",
        "| symmetric_difference_update() | inserts the symmetric differences from this set and another |\n",
        "| union() | Return a set containing the union of sets |\n",
        "| update() | Update the set with another set, or any other iterable |\n",
        "*source: w3schools.com*\n",
        "\n",
        "Despite the fact that are methjods to add elements to the set, the property of uniqueness on sets make prevent the change.\n",
        "\n",
        "One helpful property of the sets is that they can act with mathematical operators of set theory like intersections, subsets, unions, etc."
      ],
      "metadata": {
        "id": "NUyijuBdYFvu"
      }
    },
    {
      "cell_type": "code",
      "source": [
        "# Sets can be converted from lists\n",
        "A = [1,1,1,2]\n",
        "B = set(A)\n",
        "print(B)\n",
        "\n",
        "# Sets don't accept the same elements again\n",
        "B.add(1)\n",
        "print(B)\n",
        "\n",
        "# But new elements can be added\n",
        "B.add(4)\n",
        "print(B)\n",
        "\n",
        "# Sets can use set theory operators like intersection (&)\n",
        "set_one = {1,2,3}\n",
        "set_two = {3,4,5}\n",
        "set_three = set_one & set_two\n",
        "print(f\"for set {set_one} the intersect with {set_one} is: {set_three}\")\n",
        "\n",
        "\n",
        "# And can also review if something is a subset of\n",
        "set_four = {5,6,7,8,9,10}\n",
        "set_five = {7,8,9}\n",
        "\n",
        "print(f\"is {set_five} a subset of {set_four} ? {set_four.issubset(set_four)}\")\n"
      ],
      "metadata": {
        "id": "Y7E0pnA8YTGQ",
        "colab": {
          "base_uri": "https://localhost:8080/"
        },
        "outputId": "91da1b4a-fef4-4c3b-fd31-740b16806495"
      },
      "execution_count": 6,
      "outputs": [
        {
          "output_type": "stream",
          "name": "stdout",
          "text": [
            "{1, 2}\n",
            "{1, 2}\n",
            "{1, 2, 4}\n",
            "for set {1, 2, 3} the intersect with {1, 2, 3} is: {3}\n",
            "is {8, 9, 7} a subset of {5, 6, 7, 8, 9, 10} ? True\n"
          ]
        }
      ]
    },
    {
      "cell_type": "markdown",
      "source": [
        "### Dictionaries\n",
        "Dictionaries are a type of collection of key-values pairs; the keys can be used as the integers of lists but with \"usually\" string-keys. Keys are unique and immutable, but the values are. We can use the key with the square bracket operator to get the value; any atomic or even collection type data can be stored in the value.\n",
        "\n",
        "Some of the methods associated to dictionaries are:\n",
        "\n",
        "| Method | Description |\n",
        "| --- | --- |\n",
        "| clear()| Removes all the elements from the dictionary |\n",
        "| copy()| Returns a copy of the dictionary |\n",
        "| fromkeys()| Returns a dictionary with the specified keys and value |\n",
        "| get()| Returns the value of the specified key |\n",
        "| items()| Returns a list containing a tuple for each key value pair |\n",
        "| keys()| Returns a list containing the dictionary's keys |\n",
        "| pop()| Removes the element with the specified key |\n",
        "| popitem()| Removes the last inserted key-value pair |\n",
        "| setdefault()| Returns the value of the specified key. If the key does not exist: insert the key, with the specified value |\n",
        "| update()| Updates the dictionary with the specified key-value pairs |\n",
        "| values()| Returns a list of all the values in the dictionary |\n",
        "*source: w3schools.com*\n",
        "\n"
      ],
      "metadata": {
        "id": "e4_RV48rYHbK"
      }
    },
    {
      "cell_type": "code",
      "source": [
        "# We can define a dictionary as:\n",
        "dict_one = {\n",
        " \"zero\": False,\n",
        " \"one\": True,\n",
        " \"two\": 2,\n",
        " \"three\": [3],\n",
        " \"four\": {4},\n",
        " \"five\": \"five\",\n",
        " }\n",
        "\n",
        "# and then \"query\" this using the keys\n",
        "print(dict_one[\"zero\"])\n",
        "\n",
        "# This can bea achieved also with the get method\n",
        "print(dict_one.get(\"one\"))\n",
        "\n",
        "# sometimes is useful to get the keys\n",
        "print(dict_one.keys())\n",
        "\n",
        "# as we cannot get the value of an unexisting key\n",
        "try: \n",
        "  print(dict_one[\"six\"])\n",
        "except: \n",
        "  print(\"the six key was not there...\")\n",
        "\n",
        "# yet we can assign to the unexisting key, that will create it\n",
        "dict_one[\"six\"] = \"VI\"\n",
        "print(f\"but now it is and it's vlaue is: {dict_one['six']}\")\n",
        "\n",
        "# And sometimes with this something quite useful are the tuples of values:\n",
        "dict_one[\"seven\"] = 7\n",
        "dict_one.update({\"seven\": \"Wow, that dictionary has a lot of things!!\"})\n",
        "print(dict_one.items())"
      ],
      "metadata": {
        "id": "FFwBzeJtUjgr",
        "colab": {
          "base_uri": "https://localhost:8080/"
        },
        "outputId": "412915a9-5550-4518-a50a-8f9fb5ffd45d"
      },
      "execution_count": 7,
      "outputs": [
        {
          "output_type": "stream",
          "name": "stdout",
          "text": [
            "False\n",
            "True\n",
            "dict_keys(['zero', 'one', 'two', 'three', 'four', 'five'])\n",
            "the six key was not there...\n",
            "but now it is and it's vlaue is: VI\n",
            "dict_items([('zero', False), ('one', True), ('two', 2), ('three', [3]), ('four', {4}), ('five', 'five'), ('six', 'VI'), ('seven', 'Wow, that dictionary has a lot of things!!')])\n"
          ]
        }
      ]
    },
    {
      "cell_type": "markdown",
      "source": [
        "## Module 3 Python Programming Fundamentals\n",
        "---"
      ],
      "metadata": {
        "id": "zXWqfZ7hUDr5"
      }
    },
    {
      "cell_type": "markdown",
      "source": [
        "### Conditions and Branching\n",
        "\n",
        "Condtions are closely tied to Boolean, through mathematical or logical comparisons, we can create Booleans; the equal and unequal operator; *==* and *!=* respectevly, can be used with multiple atomic operators (use the methods for compound elements), while the greater and less than should be used with numeric factors.\n",
        "\n",
        "When used one of these logical comparissons we get a result that is either True or False. The list below shows the operators.\n",
        "\n",
        "| Code | Description |\n",
        "| --- | --- |\n",
        "| == | Equal |\n",
        "| != | Unequal |\n",
        "| > | More than |\n",
        "| >= |  More than or equal |\n",
        "| < | Less than |\n",
        "| <= | Less than or equal |\n",
        "\n",
        "Besides these operators we can use boolean operators to build further logics; with the basic units: and / or, we can also use not to denny and get the opposite of one condtion.\n",
        "\n",
        "| Code | Description |\n",
        "| --- | --- |\n",
        "| and | condtion one and condition two |\n",
        "| or | condition one or condition two|\n",
        "| ! | not |\n",
        "\n",
        "As in discrete mathematic we can build with that truth tables, where, given two conditions p,q, we have:\n",
        "\n",
        "| p | q | and | or |\n",
        "| --- | --- | --- | ---|\n",
        "| True | True | True | True |\n",
        "| True | False | False | True |\n",
        "| False | True | False | True |\n",
        "| False | False | False | False |\n",
        "\n",
        "\n",
        "These logics are specially useful for branching, in branching we can go to specific parts of the code while ignoring others. Perhaps the most common type of branching is the if then else condition where we can evaluate something and go one way or the other, visually this is:\n",
        "\n",
        "``` python\n",
        "                  +-----------+ \n",
        "                  |   Start   |\n",
        "                  +-----+-----+\n",
        "                        |\n",
        "                        |\n",
        "                        v\n",
        "                  +-----------+ \n",
        "       +--False---| Condition |---True--+\n",
        "       |          +-----------+          |\n",
        "       |                                 |\n",
        "       v                                 v\n",
        "+--------------+                 +--------------+  \n",
        "| else  branch |                 |  if  branch  |\n",
        "+--------------+                 +--------------+\n",
        "       |                                 |\n",
        "       |           +-----------+         |\n",
        "       +---------->|    End    |<--------+\n",
        "                   +-----------+\n",
        "\n",
        "```\n",
        "This is one of the most common logics in moderm programming and while is not the only one it allow us to create flows in our programs to perform different action based on the conditions of our constans, variables and booleans."
      ],
      "metadata": {
        "id": "YXOAkdWsYJzF"
      }
    },
    {
      "cell_type": "code",
      "source": [
        "# Let's declare a list of the digital numbers:\n",
        "numbers = [0,1,2,3,4,5,6,7,8,9]\n",
        "\n",
        "# Let's review the 5th element and let's see if is greather than or equal than five\n",
        "bool_0 = numbers[4] > 5\n",
        "print(f\"is the fifth element in the list greater or equal than five? {bool_0}\")\n",
        "\n",
        "#Let's now use that element to create an if-else condition.\n",
        "print(\"\\n---\\n\")\n",
        "\n",
        "if bool_0:  \n",
        "  print(\"the fifth element is greater or equal than five\")\n",
        "else:\n",
        "  print(\"the fifth element is lower than five\")\n",
        "\n",
        "# The False above confirms that the statement was false and the if-else statement skip the first print and shows only one\n",
        "\n",
        "#----#\n",
        "\n",
        "\n",
        "# Let's transform the numbers list to a set\n",
        "\n",
        "numbers_set = set(numbers)\n",
        "ten_set = { 10 }\n",
        "is_subset = {10}.issubset(numbers_set)\n",
        "# and then let's ask if 10 is there\n",
        "print(f\" { ten_set } is subset of the set: {numbers_set}: { is_subset }\" )\n",
        "\n",
        "#so we can use also in our logics branching:\n",
        "\n",
        "\n",
        "print(\"\\n---\\n\")\n",
        "\n",
        "\n",
        "#\n",
        "if {10}.issubset( {0,1,2,3,4,5,6,7,8,9} ):\n",
        "  print(\"ten is part of the subset\")\n",
        "elif (10 > 11):\n",
        "    print(\"this number is greather than 11!\")\n",
        "else:\n",
        "  print (\"number is not in the subset \\n (and is not greather than eleven!!)\")"
      ],
      "metadata": {
        "id": "3qXjAa-FYWCw",
        "colab": {
          "base_uri": "https://localhost:8080/"
        },
        "outputId": "ea29a636-3d81-4513-c9b6-be46187fbdf4"
      },
      "execution_count": 8,
      "outputs": [
        {
          "output_type": "stream",
          "name": "stdout",
          "text": [
            "is the fifth element in the list greater or equal than five? False\n",
            "\n",
            "---\n",
            "\n",
            "the fifth element is lower than five\n",
            " {10} is subset of the set: {0, 1, 2, 3, 4, 5, 6, 7, 8, 9}: False\n",
            "\n",
            "---\n",
            "\n",
            "number is not in the subset \n",
            " (and is not greather than eleven!!)\n"
          ]
        }
      ]
    },
    {
      "cell_type": "markdown",
      "source": [
        "### Loops\n",
        "\n",
        "We start by defining two useful functions: range(start=0, end) returns a list of integers from the start (optional argument) to an end integer. This is useful on for loops that require a define set. the enumarate generates for lists and other compound types an integer associated to each of the iterations by changing them to tupples of elements (i,k) where i is an integer and k is the element k of the variable.\n",
        "\n",
        "Programmatic, that looks like this:\n",
        "\n",
        "``` python\n",
        "> range(10)\n",
        "> [0,1,2,3,4,5,6,7,8,9]\n",
        "> squares = [\"red\", \"yellow\", \"green\"]\n",
        "> enumarete(squares)\n",
        "> for i, square in enumerate(squares):\n",
        "    print(f\"the square {i} is color {square}\")\n",
        "```\n",
        "\n",
        "Now se can talk of other useful set of functions: loops and whiles, these are iterations where a task is repeated, on a loop we define a set of times we want the task to execute for i in n where n is the list of tasks we want to do an i is an anonnymous varialbe that goes one by one of the elements. While loops happen until a condition is met –And if is not met, continue indeffenetily, so... be careful!\n",
        "\n",
        "Look at the examples below:"
      ],
      "metadata": {
        "id": "YNvMYux5YMEJ"
      }
    },
    {
      "cell_type": "code",
      "source": [
        "#Let's print the digital numbers:\n",
        "print(0)\n",
        "print(1)\n",
        "print(2)\n",
        "print(3)\n",
        "print(4)\n",
        "print(5)\n",
        "print(6)\n",
        "print(7)\n",
        "print(8)\n",
        "print(9)\n",
        "\n",
        "# This is so verbose... There must be another way!\n",
        "print(\"\\n --- \\n\")\n",
        "\n",
        "#Let's print the digital numbers using the range built-in function:\n",
        "for i in range(10):\n",
        "  print(i)\n",
        "\n",
        "print(\"\\n --- \\n\")\n",
        "\n",
        "\n",
        "# Now an example with enumarate:\n",
        "squares = [\"red\", \"yellow\", \"green\"]\n",
        "for i, square in enumerate(squares):\n",
        "  print(f\"the square {i} is color {square}\")\n",
        "\n",
        "print(\"\\n --- \\n\")\n",
        "\n",
        "\n",
        "# now let's say we want a condition to happen until we found a green light\n",
        "lights = [\"red\", \"red\", \"red\", \"red\", \"red\", \"red\", \"red\", \"yellow\", \"yellow\", \"green\", \"green\", \"green\", \"green\", \"red\"]\n",
        "\n",
        "# we prepare i and use lights\n",
        "index = 0\n",
        "\n",
        "while (lights[index]!=\"green\"):  \n",
        "  # And here we are... waiting\n",
        "  print(f\"Stopped for {index} lights... No green yet!\")\n",
        "  if (index == 4):\n",
        "    print(\"This is taking some time...\")\n",
        "  # add one to the counter!!\n",
        "  index = index + 1\n",
        "\n",
        "print(f\"\\nWe move on, the light is green and we just had to wait {index} lights. sigh...\")\n",
        "\n",
        "print(\"\\n --- \\n\")"
      ],
      "metadata": {
        "id": "Lbof1aA7YWi3",
        "colab": {
          "base_uri": "https://localhost:8080/"
        },
        "outputId": "6b710d12-e909-45b9-88b6-dca5ca5056cd"
      },
      "execution_count": 9,
      "outputs": [
        {
          "output_type": "stream",
          "name": "stdout",
          "text": [
            "0\n",
            "1\n",
            "2\n",
            "3\n",
            "4\n",
            "5\n",
            "6\n",
            "7\n",
            "8\n",
            "9\n",
            "\n",
            " --- \n",
            "\n",
            "0\n",
            "1\n",
            "2\n",
            "3\n",
            "4\n",
            "5\n",
            "6\n",
            "7\n",
            "8\n",
            "9\n",
            "\n",
            " --- \n",
            "\n",
            "the square 0 is color red\n",
            "the square 1 is color yellow\n",
            "the square 2 is color green\n",
            "\n",
            " --- \n",
            "\n",
            "Stopped for 0 lights... No green yet!\n",
            "Stopped for 1 lights... No green yet!\n",
            "Stopped for 2 lights... No green yet!\n",
            "Stopped for 3 lights... No green yet!\n",
            "Stopped for 4 lights... No green yet!\n",
            "This is taking some time...\n",
            "Stopped for 5 lights... No green yet!\n",
            "Stopped for 6 lights... No green yet!\n",
            "Stopped for 7 lights... No green yet!\n",
            "Stopped for 8 lights... No green yet!\n",
            "\n",
            "We move on, the light is green and we just had to wait 9 lights. sigh...\n",
            "\n",
            " --- \n",
            "\n"
          ]
        }
      ]
    },
    {
      "cell_type": "markdown",
      "source": [
        "### Functions\n",
        "\n",
        "Functions is a reusable piece of code designed to take one argument (input) and give back a new one (output). There are multiple in-built functions that have been described through this notebook, there are a lot of other ones and there are someone else's functions usually saved in packages.\n",
        "\n",
        "Inputs are optional, and even the explicit outputs, moreover, inputs and outputs can be multiple. But first, let's review the concept in a more graphic way:\n",
        "\n",
        "\n",
        "``` python\n",
        "# A function takes an input, performs an action and returns an output\n",
        "  +-----------+       +-----------+       +-----------+\n",
        "  |   Input   | ----> | Function  | ----> |   Output  |\n",
        "  +-----------+       +-----------+       +-----------+ \n",
        "\n",
        "# For example:\n",
        "> def add_one(input):\n",
        "   \"\"\"\n",
        "     returns an integer plus one\n",
        "   \"\"\"\n",
        "   output = input + 1\n",
        "   return output\n",
        "# Can be used to add the one to val (the output) with 3 (the input)\n",
        "> val = add_one(3)\n",
        "> val\n",
        "> 4\n",
        "\n",
        "# Our function does this:\n",
        "  +-----------+       +-----------+       +-----------+\n",
        "  |    3      | ----> |   3 + 1   | ----> |     4     |\n",
        "  +-----------+       +-----------+       +-----------+ \n",
        "```\n",
        "\n",
        "An important part to understand is that variables have scope, variables defined outside of a function reside in the Glboal Scope, variables defined inside a function reside in a local scope; local variables only exist within the scope of a function, in the example above that means that output cannot be accesed outside the function, this also means that variables can have the same name inside, outside and across functions. The rule is: if the variable is not defined inside the function, it will look for it in the global scope, if is inside the function will use that one and will not write it to the global scope, it will cease to exists once the function ends.\n",
        "\n",
        "\n",
        "\n",
        "As described above, there are in-built functions and user-defined functions; some of the in-built functions are:\n",
        "\n",
        "| Function| Description |\n",
        "| --- | --- |\n",
        "| abs() | Returns the absolute value of a number |\n",
        "| all() | Returns True if all items in an iterable object are true |\n",
        "| any() | Returns True if any item in an iterable object is true |\n",
        "| ascii() | Returns a readable version of an object. Replaces none-ascii characters with escape character |\n",
        "| bin() | Returns the binary version of a number |\n",
        "| bool() | Returns the boolean value of the specified object |\n",
        "| bytearray() | Returns an array of bytes |\n",
        "| bytes() | Returns a bytes object |\n",
        "| callable() | Returns True if the specified object is callable, otherwise False |\n",
        "| chr() | Returns a character from the specified Unicode code. |\n",
        "| classmethod() | Converts a method into a class method |\n",
        "| compile() | Returns the specified source as an object, ready to be executed |\n",
        "| complex() | Returns a complex number |\n",
        "| delattr() | Deletes the specified attribute (property or method) | from the specified object |\n",
        "| dict() | Returns a dictionary (Array) | dir() | Returns a list of the specified object's properties and methods |\n",
        "| divmod() | Returns the quotient and the remainder when argument1 is divided by argument2 |\n",
        "| enumerate() | Takes a collection (e.g. a tuple) | and returns it as an enumerate object |\n",
        "| eval() | Evaluates and executes an expression |\n",
        "| exec() | Executes the specified code (or object) | filter() | Use a filter function to exclude items in an iterable object |\n",
        "| float() | Returns a floating point number |\n",
        "| format() | Formats a specified value |\n",
        "| frozenset() | Returns a frozenset object |\n",
        "| getattr() | Returns the value of the specified attribute (property or method) | globals() | Returns the current global symbol table as a dictionary |\n",
        "| hasattr() | Returns True if the specified object has the specified attribute (property/method) | hash() | Returns the hash value of a specified object |\n",
        "| help() | Executes the built-in help system |\n",
        "| hex() | Converts a number into a hexadecimal value |\n",
        "| id() | Returns the id of an object |\n",
        "| input() | Allowing user input |\n",
        "| int() | Returns an integer number |\n",
        "| isinstance() | Returns True if a specified object is an instance of a specified object |\n",
        "| issubclass() | Returns True if a specified class is a subclass of a specified object |\n",
        "| iter() | Returns an iterator object |\n",
        "| len() | Returns the length of an object |\n",
        "| list() | Returns a list |\n",
        "| locals() | Returns an updated dictionary of the current local symbol table |\n",
        "| map() | Returns the specified iterator with the specified function applied to each item |\n",
        "| max() | Returns the largest item in an iterable |\n",
        "| memoryview() | Returns a memory view object |\n",
        "| min() | Returns the smallest item in an iterable |\n",
        "| next() | Returns the next item in an iterable |\n",
        "| object() | Returns a new object |\n",
        "| oct() | Converts a number into an octal |\n",
        "| open() | Opens a file and returns a file object |\n",
        "| ord() | Convert an integer representing the Unicode of the specified character |\n",
        "| pow() | Returns the value of x to the power of y |\n",
        "| print() | Prints to the standard output device |\n",
        "| property() | Gets, sets, deletes a property |\n",
        "| range() | Returns a sequence of numbers, starting from 0 and increments by 1 (by default) | repr() | Returns a readable version of an object |\n",
        "| reversed() | Returns a reversed iterator |\n",
        "| round() | Rounds a numbers |\n",
        "| set() | Returns a new set object |\n",
        "| setattr() | Sets an attribute (property/method) | of an object |\n",
        "| slice() | Returns a slice object |\n",
        "| sorted() | Returns a sorted list |\n",
        "| staticmethod() | Converts a method into a static method |\n",
        "| str() | Returns a string object |\n",
        "| sum() | Sums the items of an iterator |\n",
        "| super() | Returns an object that represents the parent class |\n",
        "| tuple() | Returns a tuple |\n",
        "| type() | Returns the type of an object |\n",
        "| vars() | Returns the __dict__ property of an object |\n",
        "| zip() | Returns an iterator, from two or more iterators |\n",
        "*source: w3schools.com*"
      ],
      "metadata": {
        "id": "6tWwTWqUYOtf"
      }
    },
    {
      "cell_type": "code",
      "source": [
        "# An example:\n",
        "a = 1\n",
        "\n",
        "def add(b):\n",
        "  return a+b\n",
        "\n",
        "c = add(10)\n",
        "\n",
        "print(c)"
      ],
      "metadata": {
        "id": "4LieRZwPYXEi",
        "colab": {
          "base_uri": "https://localhost:8080/"
        },
        "outputId": "4c2d9d05-bc43-4389-915b-e2a4c6647749"
      },
      "execution_count": 10,
      "outputs": [
        {
          "output_type": "stream",
          "name": "stdout",
          "text": [
            "11\n"
          ]
        }
      ]
    },
    {
      "cell_type": "markdown",
      "source": [
        "### Objects and Classes\n",
        "\n",
        "In Python there are many different kinds of data types:\n",
        "Integers, Floats, Strings, Lists, Dictionaries, Booleans and each of these is an Object and as such they have:\n",
        "\n",
        "* A type\n",
        "* An internal data representation (a blueprint)\n",
        "* A set of procedures for interacting with them (methods)\n",
        "\n",
        "An object is an instance of a particular type. Everytime we create an integer we create an instance of type integer; so we can also have an object of type list, one of type Boolean, etc – And in this context a type is the same of a class, i.e.: 1 is an instance of the class integer.\n",
        "\n",
        "Classes or types have methods associated, many of them have already been listed in this notebook, these are function that work with the data (or the blueprint) of the class.\n",
        "\n",
        "We can also create our our classes, in the example below we review the class of a product with their own methods."
      ],
      "metadata": {
        "id": "yRGRL9-pYQYe"
      }
    },
    {
      "cell_type": "code",
      "execution_count": 11,
      "metadata": {
        "id": "Z01lgb-4SjlM",
        "colab": {
          "base_uri": "https://localhost:8080/"
        },
        "outputId": "86b27184-db16-4edb-ee3a-a494c41374b4"
      },
      "outputs": [
        {
          "output_type": "stream",
          "name": "stdout",
          "text": [
            "Total inventory of item: flat-tv-50 is 0 pieces\n",
            "Let's now get some tvs to sell later...\n",
            "Total inventory of item: flat-tv-50 is 14 pieces\n",
            "\n",
            " --- \n",
            "\n",
            "Now let's try to sell 8\n",
            "We generate $40 in Revenue, congrats!! \n",
            " our inventory level is now: 10\n",
            "\n",
            "\n",
            "Now let's try to sell 6 more\n",
            "We generate $24 in Revenue, congrats!! \n",
            " our inventory level is now: 4\n",
            "\n",
            "\n",
            "Now let's try to sell 6 more\n",
            "Not enough inventory!!\n",
            "\n",
            "\n"
          ]
        }
      ],
      "source": [
        "# Let's define a class for products that we sell ... We need a name, a category, a price and inventory.\n",
        "\n",
        "class Product(object):\n",
        "\n",
        "  def __init__(self, name, category, price=1, inventory=0):\n",
        "    self.name = name\n",
        "    self.category = category\n",
        "    self.price = price\n",
        "    self.inventory = inventory\n",
        "  \n",
        "  def add_inv(self, inv):\n",
        "    self.inventory = self.inventory + inv\n",
        "\n",
        "  def sell(self, qty):\n",
        "    # first let's reduce the qty\n",
        "    if qty > self.inventory:\n",
        "      return print(\"Not enough inventory!!\")\n",
        "    else:\n",
        "      # Reduce the inventory\n",
        "      self.inventory = self.inventory - qty\n",
        "      return print(f\"We generate ${qty * self.inventory} in Revenue, congrats!! \\n our inventory level is now: {self.inventory}\")    \n",
        "    pass\n",
        "\n",
        "  def total_inv(self):\n",
        "    return \"Total inventory of item: \" + self.name + \" is \" + str(self.inventory) + \" pieces\"\n",
        "\n",
        "\n",
        "# Let's create an instance of a product: tv_one\n",
        "tv_one = Product(\"flat-tv-50\", \"tv\", 500)\n",
        "\n",
        "\n",
        "# And let's compute our inventory in dollars:\n",
        "print(tv_one.total_inv())\n",
        "\n",
        "\n",
        "# Let's use the defined method add_inv to add two new tv's\n",
        "print(\"Let's now get some tvs to sell later...\")\n",
        "tv_one.add_inv(14)\n",
        "print(tv_one.total_inv())\n",
        "\n",
        "\n",
        "print(\"\\n --- \\n\")\n",
        "\n",
        "\n",
        "# Finally let's make a sellf\n",
        "print(\"Now let's try to sell 8\")\n",
        "tv_one.sell(4)\n",
        "print(\"\\n\")\n",
        "\n",
        "#Let's try again\n",
        "print(\"Now let's try to sell 6 more\")\n",
        "tv_one.sell(6)\n",
        "print(\"\\n\")\n",
        "\n",
        "#Let's try again\n",
        "print(\"Now let's try to sell 6 more\")\n",
        "tv_one.sell(6)\n",
        "print(\"\\n\")\n",
        "\n",
        "\n"
      ]
    }
  ],
  "metadata": {
    "language_info": {
      "name": "python"
    },
    "orig_nbformat": 4,
    "colab": {
      "provenance": [],
      "collapsed_sections": [],
      "include_colab_link": true
    },
    "kernelspec": {
      "name": "python3",
      "display_name": "Python 3"
    }
  },
  "nbformat": 4,
  "nbformat_minor": 0
}