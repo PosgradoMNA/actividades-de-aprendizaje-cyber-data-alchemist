{
  "cells": [
    {
      "cell_type": "markdown",
      "metadata": {
        "id": "view-in-github",
        "colab_type": "text"
      },
      "source": [
        "<a href=\"https://colab.research.google.com/github/PosgradoMNA/actividades-de-aprendizaje-cyber-data-alchemist/blob/main/actividad_de_semana_1_2_python_for_data_science_(IBM).ipynb\" target=\"_parent\"><img src=\"https://colab.research.google.com/assets/colab-badge.svg\" alt=\"Open In Colab\"/></a>"
      ]
    },
    {
      "cell_type": "markdown",
      "source": [
        "# IBM: PY0101EN Python for Data Science\n",
        "---\n",
        "> On this notebook the exercises, practices and follow up from the listed modules will be reviewed. This serves as a demonstrantion and an exercise for the Data Science Class (TC4029) of the MNA Master's degree program of the ITESM and is created by A01793023. for questions, please reach out to A01793023@tec.mx\n"
      ],
      "metadata": {
        "id": "YxES2kfgTguv"
      }
    },
    {
      "cell_type": "markdown",
      "source": [
        "## Module 1 Python Basics\n",
        "---"
      ],
      "metadata": {
        "id": "eXXr9wq6UDRf"
      }
    },
    {
      "cell_type": "markdown",
      "source": [
        "### Your first Program"
      ],
      "metadata": {
        "id": "s6ZgG2o0XuVS"
      }
    },
    {
      "cell_type": "code",
      "source": [],
      "metadata": {
        "id": "tIe4O4ohX_Hn"
      },
      "execution_count": null,
      "outputs": []
    },
    {
      "cell_type": "markdown",
      "source": [
        "### Types"
      ],
      "metadata": {
        "id": "ygJ5bvvDXxDi"
      }
    },
    {
      "cell_type": "code",
      "source": [],
      "metadata": {
        "id": "o1DRyMBJX__X"
      },
      "execution_count": null,
      "outputs": []
    },
    {
      "cell_type": "markdown",
      "source": [
        "### Expressions and Variables"
      ],
      "metadata": {
        "id": "tmJ-wJN4X4QB"
      }
    },
    {
      "cell_type": "code",
      "source": [],
      "metadata": {
        "id": "NRyzRR0kYAiH"
      },
      "execution_count": null,
      "outputs": []
    },
    {
      "cell_type": "markdown",
      "source": [
        "### String Operations"
      ],
      "metadata": {
        "id": "b3S196zLX7Zr"
      }
    },
    {
      "cell_type": "code",
      "source": [],
      "metadata": {
        "id": "0ooVUk9iUizu"
      },
      "execution_count": null,
      "outputs": []
    },
    {
      "cell_type": "markdown",
      "source": [
        "## Module 2 Python Data Structures\n",
        "---"
      ],
      "metadata": {
        "id": "oWXUrhhqUDdA"
      }
    },
    {
      "cell_type": "markdown",
      "source": [
        "### Lists and Tuples"
      ],
      "metadata": {
        "id": "dhFmpblgYB__"
      }
    },
    {
      "cell_type": "code",
      "source": [],
      "metadata": {
        "id": "Bu6LfYgDYSsH"
      },
      "execution_count": null,
      "outputs": []
    },
    {
      "cell_type": "markdown",
      "source": [
        "### Sets"
      ],
      "metadata": {
        "id": "NUyijuBdYFvu"
      }
    },
    {
      "cell_type": "code",
      "source": [],
      "metadata": {
        "id": "Y7E0pnA8YTGQ"
      },
      "execution_count": null,
      "outputs": []
    },
    {
      "cell_type": "markdown",
      "source": [
        "### Dictionaries"
      ],
      "metadata": {
        "id": "e4_RV48rYHbK"
      }
    },
    {
      "cell_type": "code",
      "source": [],
      "metadata": {
        "id": "FFwBzeJtUjgr"
      },
      "execution_count": null,
      "outputs": []
    },
    {
      "cell_type": "markdown",
      "source": [
        "## Module 3 Python Programming Fundamentals\n",
        "---"
      ],
      "metadata": {
        "id": "zXWqfZ7hUDr5"
      }
    },
    {
      "cell_type": "markdown",
      "source": [
        "### Conditions and Branching"
      ],
      "metadata": {
        "id": "YXOAkdWsYJzF"
      }
    },
    {
      "cell_type": "code",
      "source": [],
      "metadata": {
        "id": "3qXjAa-FYWCw"
      },
      "execution_count": null,
      "outputs": []
    },
    {
      "cell_type": "markdown",
      "source": [
        "### Loops"
      ],
      "metadata": {
        "id": "YNvMYux5YMEJ"
      }
    },
    {
      "cell_type": "code",
      "source": [],
      "metadata": {
        "id": "Lbof1aA7YWi3"
      },
      "execution_count": null,
      "outputs": []
    },
    {
      "cell_type": "markdown",
      "source": [
        "### Functions"
      ],
      "metadata": {
        "id": "6tWwTWqUYOtf"
      }
    },
    {
      "cell_type": "code",
      "source": [],
      "metadata": {
        "id": "4LieRZwPYXEi"
      },
      "execution_count": null,
      "outputs": []
    },
    {
      "cell_type": "markdown",
      "source": [
        "### Objects and Classes"
      ],
      "metadata": {
        "id": "yRGRL9-pYQYe"
      }
    },
    {
      "cell_type": "code",
      "execution_count": null,
      "metadata": {
        "id": "Z01lgb-4SjlM"
      },
      "outputs": [],
      "source": []
    }
  ],
  "metadata": {
    "language_info": {
      "name": "python"
    },
    "orig_nbformat": 4,
    "colab": {
      "provenance": [],
      "include_colab_link": true
    },
    "kernelspec": {
      "name": "python3",
      "display_name": "Python 3"
    }
  },
  "nbformat": 4,
  "nbformat_minor": 0
}