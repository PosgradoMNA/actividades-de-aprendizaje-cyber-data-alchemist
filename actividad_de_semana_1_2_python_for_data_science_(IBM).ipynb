{
  "cells": [
    {
      "cell_type": "markdown",
      "metadata": {
        "id": "view-in-github",
        "colab_type": "text"
      },
      "source": [
        "<a href=\"https://colab.research.google.com/github/PosgradoMNA/actividades-de-aprendizaje-cyber-data-alchemist/blob/main/actividad_de_semana_1_2_python_for_data_science_(IBM).ipynb\" target=\"_parent\"><img src=\"https://colab.research.google.com/assets/colab-badge.svg\" alt=\"Open In Colab\"/></a>"
      ]
    },
    {
      "cell_type": "markdown",
      "source": [
        "# IBM: PY0101EN Python for Data Science\n",
        "---\n",
        "> On this notebook the exercises, practices and follow up from the listed modules will be reviewed. This serves as a demonstrantion and an exercise for the Data Science Class (TC4029) of the MNA Master's degree program of the ITESM and is created by A01793023. for questions, please reach out to A01793023@tec.mx\n"
      ],
      "metadata": {
        "id": "YxES2kfgTguv"
      }
    },
    {
      "cell_type": "markdown",
      "source": [
        "## Module 1 Python Basics\n",
        "---"
      ],
      "metadata": {
        "id": "eXXr9wq6UDRf"
      }
    },
    {
      "cell_type": "code",
      "source": [],
      "metadata": {
        "id": "0ooVUk9iUizu"
      },
      "execution_count": null,
      "outputs": []
    },
    {
      "cell_type": "markdown",
      "source": [
        "## Module 2 Python Data Structures\n",
        "---"
      ],
      "metadata": {
        "id": "oWXUrhhqUDdA"
      }
    },
    {
      "cell_type": "code",
      "source": [],
      "metadata": {
        "id": "FFwBzeJtUjgr"
      },
      "execution_count": null,
      "outputs": []
    },
    {
      "cell_type": "markdown",
      "source": [
        "## Module 3 Python Programming Fundamentals\n",
        "---"
      ],
      "metadata": {
        "id": "zXWqfZ7hUDr5"
      }
    },
    {
      "cell_type": "code",
      "execution_count": null,
      "metadata": {
        "id": "Z01lgb-4SjlM"
      },
      "outputs": [],
      "source": [
        "# IBM: PY0101EN Python for Data Science"
      ]
    }
  ],
  "metadata": {
    "language_info": {
      "name": "python"
    },
    "orig_nbformat": 4,
    "colab": {
      "provenance": [],
      "include_colab_link": true
    },
    "kernelspec": {
      "name": "python3",
      "display_name": "Python 3"
    }
  },
  "nbformat": 4,
  "nbformat_minor": 0
}