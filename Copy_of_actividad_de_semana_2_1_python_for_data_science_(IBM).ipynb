{
  "cells": [
    {
      "cell_type": "markdown",
      "metadata": {
        "id": "view-in-github",
        "colab_type": "text"
      },
      "source": [
        "<a href=\"https://colab.research.google.com/github/PosgradoMNA/actividades-de-aprendizaje-cyber-data-alchemist/blob/main/Copy_of_actividad_de_semana_2_1_python_for_data_science_(IBM).ipynb\" target=\"_parent\"><img src=\"https://colab.research.google.com/assets/colab-badge.svg\" alt=\"Open In Colab\"/></a>"
      ]
    },
    {
      "cell_type": "markdown",
      "source": [
        "# IBM: PY0101EN Python for Data Science\n",
        "---\n",
        "> On this notebook the exercises, practices and follow up from the module 5 will be reviewed. This serves as a demonstrantion and an exercise for the Data Science Class (TC4029) of the MNA Master's degree program of the ITESM and is created by A01793023 - Jorge Luis Arroyo Chavelas. For questions, please reach out to A01793023@tec.mx\n"
      ],
      "metadata": {
        "id": "YxES2kfgTguv"
      }
    },
    {
      "cell_type": "markdown",
      "source": [
        "## Module 5 Working with Numpy Arrays & Simple APIs\n",
        "---\n",
        " "
      ],
      "metadata": {
        "id": "eXXr9wq6UDRf"
      }
    },
    {
      "cell_type": "markdown",
      "source": [
        "### Notes: Numpy 1D Arrays\n"
      ],
      "metadata": {
        "id": "YXOAkdWsYJzF"
      }
    },
    {
      "cell_type": "code",
      "source": [],
      "metadata": {
        "id": "sSGpUc4bEuig"
      },
      "execution_count": null,
      "outputs": []
    },
    {
      "cell_type": "markdown",
      "source": [
        "## Lab: Numpy 1D Arrays"
      ],
      "metadata": {
        "id": "KBt0enLyEuv3"
      }
    },
    {
      "cell_type": "code",
      "source": [],
      "metadata": {
        "id": "qYzdnLSeE0CO"
      },
      "execution_count": null,
      "outputs": []
    },
    {
      "cell_type": "markdown",
      "source": [
        "## Notes: Numpy 2D Arrays "
      ],
      "metadata": {
        "id": "t9RrC4eVE0v1"
      }
    },
    {
      "cell_type": "code",
      "source": [],
      "metadata": {
        "id": "2s_h_kEjE6_z"
      },
      "execution_count": null,
      "outputs": []
    },
    {
      "cell_type": "markdown",
      "source": [
        "## Lab: Numpy 2D Arrays "
      ],
      "metadata": {
        "id": "gDjs2W57E7Ie"
      }
    },
    {
      "cell_type": "code",
      "source": [],
      "metadata": {
        "id": "RgT0QWTEFNE4"
      },
      "execution_count": null,
      "outputs": []
    },
    {
      "cell_type": "markdown",
      "source": [
        "## Notes: Simple APIs"
      ],
      "metadata": {
        "id": "FbniothJFA0f"
      }
    },
    {
      "cell_type": "code",
      "source": [],
      "metadata": {
        "id": "3Q1WJr0GFNeg"
      },
      "execution_count": null,
      "outputs": []
    },
    {
      "cell_type": "markdown",
      "source": [
        "## Lab: HTTP and Requests"
      ],
      "metadata": {
        "id": "UQJVdZIDFEF_"
      }
    },
    {
      "cell_type": "code",
      "source": [],
      "metadata": {
        "id": "l1qRPiy_FQNI"
      },
      "execution_count": null,
      "outputs": []
    },
    {
      "cell_type": "markdown",
      "source": [
        "## Lab: API"
      ],
      "metadata": {
        "id": "ePYRizfgFG9c"
      }
    },
    {
      "cell_type": "code",
      "source": [],
      "metadata": {
        "id": "RGq-WH0PFQzc"
      },
      "execution_count": null,
      "outputs": []
    }
  ],
  "metadata": {
    "language_info": {
      "name": "python"
    },
    "orig_nbformat": 4,
    "colab": {
      "provenance": [],
      "collapsed_sections": [],
      "include_colab_link": true
    },
    "kernelspec": {
      "name": "python3",
      "display_name": "Python 3"
    }
  },
  "nbformat": 4,
  "nbformat_minor": 0
}