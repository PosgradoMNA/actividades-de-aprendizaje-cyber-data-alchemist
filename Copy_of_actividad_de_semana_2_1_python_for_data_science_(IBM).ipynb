{
  "cells": [
    {
      "cell_type": "markdown",
      "metadata": {
        "id": "view-in-github",
        "colab_type": "text"
      },
      "source": [
        "<a href=\"https://colab.research.google.com/github/PosgradoMNA/actividades-de-aprendizaje-cyber-data-alchemist/blob/main/Copy_of_actividad_de_semana_2_1_python_for_data_science_(IBM).ipynb\" target=\"_parent\"><img src=\"https://colab.research.google.com/assets/colab-badge.svg\" alt=\"Open In Colab\"/></a>"
      ]
    },
    {
      "cell_type": "markdown",
      "source": [
        "# IBM: PY0101EN Python for Data Science\n",
        "---\n",
        "> On this notebook the exercises, practices and follow up from the module 5 will be reviewed. This serves as a demonstrantion and an exercise for the Data Science Class (TC4029) of the MNA Master's degree program of the ITESM and is created by A01793023 - Jorge Luis Arroyo Chavelas. For questions, please reach out to A01793023@tec.mx\n"
      ],
      "metadata": {
        "id": "YxES2kfgTguv"
      }
    },
    {
      "cell_type": "markdown",
      "source": [
        "## Module 5 Working with Numpy Arrays & Simple APIs\n",
        "---\n",
        " "
      ],
      "metadata": {
        "id": "eXXr9wq6UDRf"
      }
    },
    {
      "cell_type": "markdown",
      "source": [
        "### Notes: Numpy 1D Arrays\n",
        "Numpy arrays are simmilar to lists in the sense that they can hold multiple values; there are some important differences though. The initial one is that numpy arrays hold values of the same type. Lists are castable to numpy arrays as follows:\n",
        "``` python\n",
        "import numpy as np\n",
        "a = np.array([0,1,2,3,4])\n",
        "```\n",
        "These np-arrays are sliceable through the square bracket operators: a[0] woul return 0 from the example above. The np-arrays also have the following attributes:\n",
        ".size, .ndim, .shape; these returns the meassures of the matrix they create.\n",
        "\n",
        "The numpy arrays can also be as euclidean vectors; we can do adittion, substraction, Hadamard product, dot product and use of scalars.\n",
        "\n",
        "Numpy also contain universal functions like trigonometric functions (sin, cos, tan), statistical functions like mean, std among others."
      ],
      "metadata": {
        "id": "YXOAkdWsYJzF"
      }
    },
    {
      "cell_type": "code",
      "source": [
        "import numpy as np\n",
        "# Crete an array\n",
        "a = np.array([0,1,2,3,4])\n",
        "\n",
        "# Slice an array\n",
        "print(a[2])\n",
        "\n",
        "# Change values of an array\n",
        "a[2] = 4\n",
        "\n",
        "print(a[2])\n",
        "\n",
        "# Pass an scalar\n",
        "print(a * 4)\n",
        "\n",
        "# use dot product\n",
        "print(np.dot(np.array([2,4]), np.array([8,1])))\n",
        "\n",
        "# some ufunc\n",
        "new_np = np.array([2,4,6,6,1,2,4,5,12,8,6,1,2,np.pi,12,0])\n",
        "\n",
        "# see how the max is a float because np.pi is stored in a float\n",
        "print(new_np.mean())\n",
        "print(new_np.max())\n"
      ],
      "metadata": {
        "id": "sSGpUc4bEuig",
        "outputId": "54ba699f-fc86-4108-93c2-e5b95e72eea0",
        "colab": {
          "base_uri": "https://localhost:8080/"
        }
      },
      "execution_count": 9,
      "outputs": [
        {
          "output_type": "stream",
          "name": "stdout",
          "text": [
            "2\n",
            "4\n",
            "[ 0  4 16 12 16]\n",
            "20\n",
            "4.633849540849362\n",
            "12.0\n"
          ]
        }
      ]
    },
    {
      "cell_type": "markdown",
      "source": [
        "## Lab: Numpy 1D Arrays"
      ],
      "metadata": {
        "id": "KBt0enLyEuv3"
      }
    },
    {
      "cell_type": "code",
      "source": [
        "# Create a python list\n",
        "\n",
        "a = [\"0\", 1, \"two\", \"3\", 4]\n",
        "\n",
        "# Print each element\n",
        "\n",
        "print(\"a[0]:\", a[0])\n",
        "print(\"a[1]:\", a[1])\n",
        "print(\"a[2]:\", a[2])\n",
        "print(\"a[3]:\", a[3])\n",
        "print(\"a[4]:\", a[4])\n",
        "\n",
        "# import numpy library\n",
        "\n",
        "import numpy as np \n",
        "\n",
        "# Create a numpy array\n",
        "\n",
        "a = np.array([0, 1, 2, 3, 4])\n",
        "print(a)\n",
        "\n",
        "# Print each element\n",
        "\n",
        "print(\"a[0]:\", a[0])\n",
        "print(\"a[1]:\", a[1])\n",
        "print(\"a[2]:\", a[2])\n",
        "print(\"a[3]:\", a[3])\n",
        "print(\"a[4]:\", a[4])\n",
        "\n",
        "# Print np version\n",
        "print(np.__version__)\n",
        "\n",
        "# Check the type of the array\n",
        "\n",
        "print(type(a))\n",
        "\n",
        "# Check the type of the values stored in numpy array\n",
        "\n",
        "print(a.dtype)\n",
        "\n",
        "b = np.array([3.1, 11.02, 6.2, 213.2, 5.2])\n",
        "\n",
        "# Enter your code here\n",
        "print(type(b))\n",
        "\n",
        "# Create numpy array\n",
        "\n",
        "c = np.array([20, 1, 2, 3, 4])\n",
        "print(c)\n",
        "\n",
        "# Assign the 5th element to 0\n",
        "\n",
        "c[4] = 0\n",
        "print(c)\n",
        "\n",
        "a = np.array([10, 2, 30, 40,50])\n",
        "\n",
        "# Enter your code here\n",
        "a[1] = 20\n",
        "\n",
        "print(a)\n",
        "\n",
        "# Slicing the numpy array\n",
        "\n",
        "d = c[1:4]\n",
        "print(d)\n",
        "\n",
        "# Set the fourth element and fifth element to 300 and 400\n",
        "\n",
        "c[3:5] = 300, 400\n",
        "print(c)\n",
        "\n",
        "arr = np.array([1, 2, 3, 4, 5, 6, 7])\n",
        "\n",
        "print(arr[1:5:2])\n",
        "print(arr[:4])\n",
        "print(arr[4:])\n",
        "print(arr[1:5:])\n",
        "\n",
        "arr = np.array([1, 2, 3, 4, 5, 6, 7, 8])\n",
        "\n",
        "# Enter your code here\n",
        "print(arr[1:8:2])\n",
        "\n",
        "# Create the index list\n",
        "\n",
        "select = [0, 2, 3, 4]\n",
        "print(select)\n",
        "\n",
        "# Use List to select elements\n",
        "\n",
        "d = c[select]\n",
        "print(d)\n",
        "\n",
        "# Assign the specified elements to new value\n",
        "\n",
        "c[select] = 100000\n",
        "print(c)\n",
        "\n",
        "# Create a numpy array\n",
        "\n",
        "a = np.array([0, 1, 2, 3, 4])\n",
        "print(a)\n",
        "\n",
        "# Get the size of numpy array\n",
        "\n",
        "print(a.size)\n",
        "\n",
        "# Get the number of dimensions of numpy array\n",
        "\n",
        "print(a.ndim)\n",
        "\n",
        "# Get the shape/size of numpy array\n",
        "\n",
        "print(a.shape)\n",
        "\n",
        "b = np.array([10, 20, 30, 40, 50, 60, 70])\n",
        "\n",
        "# Enter your code here\n",
        "print(b.size)\n",
        "print(b.ndim)\n",
        "print(b.shape)\n",
        "\n",
        "# Create a numpy array\n",
        "\n",
        "a = np.array([1, -1, 1, -1])\n",
        "\n",
        "# Get the mean of numpy array\n",
        "\n",
        "mean = a.mean()\n",
        "print(mean)\n",
        "\n",
        "# Get the standard deviation of numpy array\n",
        "\n",
        "standard_deviation=a.std()\n",
        "print(standard_deviation)\n",
        "\n",
        "# Create a numpy array\n",
        "\n",
        "b = np.array([-1, 2, 3, 4, 5])\n",
        "print(b)\n",
        "\n",
        "# Get the biggest value in the numpy array\n",
        "\n",
        "max_b = b.max()\n",
        "print(max_b)\n",
        "\n",
        "# Get the smallest value in the numpy array\n",
        "\n",
        "min_b = b.min()\n",
        "print(min_b)\n",
        "\n",
        "c = np.array([-10, 201, 43, 94, 502])\n",
        "\n",
        "# Enter your code here\n",
        "print(c.max())\n",
        "print(c.min())\n",
        "print(c.max() + c.min())\n",
        "\n",
        "u = np.array([1, 0])\n",
        "print(u)\n",
        "\n",
        "v = np.array([0, 1])\n",
        "print(v)\n",
        "\n",
        "# Numpy Array Addition\n",
        "\n",
        "z = np.add(u, v)\n",
        "print(z)"
      ],
      "metadata": {
        "id": "qYzdnLSeE0CO",
        "outputId": "85d0ccf0-1385-456c-8bc8-8e2723da6d55",
        "colab": {
          "base_uri": "https://localhost:8080/"
        }
      },
      "execution_count": 13,
      "outputs": [
        {
          "output_type": "stream",
          "name": "stdout",
          "text": [
            "a[0]: 0\n",
            "a[1]: 1\n",
            "a[2]: two\n",
            "a[3]: 3\n",
            "a[4]: 4\n",
            "[0 1 2 3 4]\n",
            "a[0]: 0\n",
            "a[1]: 1\n",
            "a[2]: 2\n",
            "a[3]: 3\n",
            "a[4]: 4\n",
            "1.21.6\n",
            "<class 'numpy.ndarray'>\n",
            "int64\n",
            "<class 'numpy.ndarray'>\n",
            "[20  1  2  3  4]\n",
            "[20  1  2  3  0]\n",
            "[10 20 30 40 50]\n",
            "[1 2 3]\n",
            "[ 20   1   2 300 400]\n",
            "[2 4]\n",
            "[1 2 3 4]\n",
            "[5 6 7]\n",
            "[2 3 4 5]\n",
            "[2 4 6 8]\n",
            "[0, 2, 3, 4]\n",
            "[ 20   2 300 400]\n",
            "[100000      1 100000 100000 100000]\n",
            "[0 1 2 3 4]\n",
            "5\n",
            "1\n",
            "(5,)\n",
            "7\n",
            "1\n",
            "(7,)\n",
            "0.0\n",
            "1.0\n",
            "[-1  2  3  4  5]\n",
            "5\n",
            "-1\n",
            "502\n",
            "-10\n",
            "492\n",
            "[1 0]\n",
            "[0 1]\n",
            "[1 1]\n"
          ]
        }
      ]
    },
    {
      "cell_type": "code",
      "source": [
        "# Plotting functions\n",
        "\n",
        "\n",
        "import time \n",
        "import sys\n",
        "import numpy as np \n",
        "\n",
        "import matplotlib.pyplot as plt\n",
        "%matplotlib inline  \n",
        "\n",
        "def Plotvec1(u, z, v):\n",
        "    \n",
        "    ax = plt.axes() # to generate the full window axes\n",
        "    ax.arrow(0, 0, *u, head_width=0.05, color='r', head_length=0.1)# Add an arrow to the  U Axes with arrow head width 0.05, color red and arrow head length 0.1\n",
        "    plt.text(*(u + 0.1), 'u')#Adds the text u to the Axes \n",
        "    \n",
        "    ax.arrow(0, 0, *v, head_width=0.05, color='b', head_length=0.1)# Add an arrow to the  v Axes with arrow head width 0.05, color red and arrow head length 0.1\n",
        "    plt.text(*(v + 0.1), 'v')#Adds the text v to the Axes \n",
        "    \n",
        "    ax.arrow(0, 0, *z, head_width=0.05, head_length=0.1)\n",
        "    plt.text(*(z + 0.1), 'z')#Adds the text z to the Axes \n",
        "    plt.ylim(-2, 2)#set the ylim to bottom(-2), top(2)\n",
        "    plt.xlim(-2, 2)#set the xlim to left(-2), right(2)\n",
        "\n",
        "# Plot numpy arrays\n",
        "Plotvec1(u, z, v)"
      ],
      "metadata": {
        "id": "6y0yU0smo55Z",
        "outputId": "d0e743dd-3927-47c9-971b-f1526e173af9",
        "colab": {
          "base_uri": "https://localhost:8080/",
          "height": 269
        }
      },
      "execution_count": 15,
      "outputs": [
        {
          "output_type": "display_data",
          "data": {
            "text/plain": [
              "<Figure size 432x288 with 1 Axes>"
            ],
            "image/png": "[encoded data removed]"
          },
          "metadata": {
            "needs_background": "light"
          }
        }
      ]
    },
    {
      "cell_type": "code",
      "source": [
        "arr1 = np.array([10, 11, 12, 13, 14, 15])\n",
        "arr2 = np.array([20, 21, 22, 23, 24, 25])\n",
        "\n",
        "# Enter your code here\n",
        "print(np.add(arr1, arr2))\n",
        "\n",
        "a = np.array([10, 20, 30])\n",
        "print(a)\n",
        "\n",
        "b = np.array([5, 10, 15])\n",
        "print(b)\n",
        "\n",
        "c = np.subtract(a, b)\n",
        "\n",
        "print(c)\n",
        "\n",
        "arr1 = np.array([10, 20, 30, 40, 50, 60])\n",
        "arr2 = np.array([20, 21, 22, 23, 24, 25])\n",
        "print(np.subtract(arr1, arr2))\n",
        "\n",
        "# Create a numpy array\n",
        "\n",
        "x = np.array([1, 2])\n",
        "print(x)\n",
        "\n",
        "# Create a numpy array\n",
        "\n",
        "y = np.array([2, 1])\n",
        "print(y)\n",
        "\n",
        "# Numpy Array Multiplication\n",
        "\n",
        "z = np.multiply(x, y)\n",
        "print(z)\n",
        "\n",
        "arr1 = np.array([10, 20, 30, 40, 50, 60])\n",
        "arr2 = np.array([2, 1, 2, 3, 4, 5])\n",
        "\n",
        "# Enter your code here\n",
        "print(np.multiply(arr1, arr2))\n",
        "\n",
        "a = np.array([10, 20, 30])\n",
        "print(a)\n",
        "\n",
        "b = np.array([2, 10, 5])\n",
        "print(b)\n",
        "\n",
        "c = np.divide(a, b)\n",
        "print(c)\n",
        "\n",
        "arr1 = np.array([10, 20, 30, 40, 50, 60])\n",
        "arr2 = np.array([3, 5, 10, 8, 2, 33])\n",
        "print(np.divide(arr1, arr2))\n",
        "\n",
        "X = np.array([1, 2])\n",
        "Y = np.array([3, 2])\n",
        "\n",
        "# Calculate the dot product\n",
        "\n",
        "np.dot(X, Y)\n",
        "\n",
        "#Elements of X\n",
        "print(X[0])\n",
        "print(X[1])\n",
        "\n",
        "#Elements of Y\n",
        "print(Y[0])\n",
        "print(Y[1])\n",
        "\n",
        "arr1 = np.array([3, 5])\n",
        "arr2 = np.array([2, 4])\n",
        "\n",
        "# Enter your code here\n",
        "print(np.dot(arr1, arr2))\n",
        "\n",
        "# Create a constant to numpy array\n",
        "\n",
        "u = np.array([1, 2, 3, -1]) \n",
        "print(u)\n",
        "\n",
        "# Add the constant to array\n",
        "\n",
        "print(u + 1)\n",
        "\n",
        "arr = np.array([1, 2, 3, -1]) \n",
        "\n",
        "# Enter your code here\n",
        "print(arr + 5)\n",
        "\n",
        "# The value of pi\n",
        "\n",
        "print(np.pi)\n",
        "\n",
        "x = np.array([0, np.pi/2 , np.pi])\n",
        "\n",
        "# Calculate the sin of each elements\n",
        "\n",
        "y = np.sin(x)\n",
        "print(y)\n",
        "\n",
        "# Makeup a numpy array within [-2, 2] and 5 elements\n",
        "\n",
        "print(np.linspace(-2, 2, num=5))\n",
        "\n",
        "# Make a numpy array within [-2, 2] and 9 elements\n",
        "\n",
        "print(np.linspace(-2, 2, num=9))\n",
        "\n",
        "# Make a numpy array within [0, 2π] and 100 elements \n",
        "\n",
        "x = np.linspace(0, 2*np.pi, num=100)\n",
        "\n",
        "# Calculate the sine of x list\n",
        "\n",
        "y = np.sin(x)\n",
        "\n",
        "# Plot the result\n",
        "\n",
        "plt.plot(x, y)\n",
        "\n",
        "print(np.linspace(5, 4, num=6))"
      ],
      "metadata": {
        "id": "cxDoXRT-o-4b",
        "outputId": "6c37466a-ae91-4c8a-d006-e457fd37231e",
        "colab": {
          "base_uri": "https://localhost:8080/",
          "height": 716
        }
      },
      "execution_count": 25,
      "outputs": [
        {
          "output_type": "stream",
          "name": "stdout",
          "text": [
            "[30 32 34 36 38 40]\n",
            "[10 20 30]\n",
            "[ 5 10 15]\n",
            "[ 5 10 15]\n",
            "[-10  -1   8  17  26  35]\n",
            "[1 2]\n",
            "[2 1]\n",
            "[2 2]\n",
            "[ 20  20  60 120 200 300]\n",
            "[10 20 30]\n",
            "[ 2 10  5]\n",
            "[5. 2. 6.]\n",
            "[ 3.33333333  4.          3.          5.         25.          1.81818182]\n",
            "1\n",
            "2\n",
            "3\n",
            "2\n",
            "26\n",
            "[ 1  2  3 -1]\n",
            "[2 3 4 0]\n",
            "[6 7 8 4]\n",
            "3.141592653589793\n",
            "[0.0000000e+00 1.0000000e+00 1.2246468e-16]\n",
            "[-2. -1.  0.  1.  2.]\n",
            "[-2.  -1.5 -1.  -0.5  0.   0.5  1.   1.5  2. ]\n",
            "[5.  4.8 4.6 4.4 4.2 4. ]\n"
          ]
        },
        {
          "output_type": "display_data",
          "data": {
            "text/plain": [
              "<Figure size 432x288 with 1 Axes>"
            ],
            "image/png": "[encoded data removed]"
          },
          "metadata": {
            "needs_background": "light"
          }
        }
      ]
    },
    {
      "cell_type": "code",
      "source": [
        "arr1 = np.array([1, 2, 3])\n",
        "print(arr1)\n",
        "\n",
        "for x in arr1:\n",
        "  print(x)\n",
        "\n",
        "# Write your code below and press Shift+Enter to execute\n",
        "\n",
        "u = np.array([1, 0])\n",
        "v = np.array([0, 1])\n",
        "print(u - v)\n",
        "\n",
        "z = np.array([2, 4])\n",
        "print(-2 * z)\n",
        "\n",
        "a = np.array([1, 2, 3, 4, 5])\n",
        "b = np.array([1, 0, 1, 0, 1])\n",
        "print(a * b)"
      ],
      "metadata": {
        "id": "yFoV5w10qJeI",
        "outputId": "d07946f3-1649-4cb3-f0b0-87f11df349d7",
        "colab": {
          "base_uri": "https://localhost:8080/"
        }
      },
      "execution_count": 30,
      "outputs": [
        {
          "output_type": "stream",
          "name": "stdout",
          "text": [
            "[1 2 3]\n",
            "1\n",
            "2\n",
            "3\n",
            "[ 1 -1]\n",
            "[-4 -8]\n",
            "[1 0 3 0 5]\n"
          ]
        }
      ]
    },
    {
      "cell_type": "code",
      "source": [
        "# Import the libraries\n",
        "\n",
        "import time \n",
        "import sys\n",
        "import numpy as np \n",
        "\n",
        "import matplotlib.pyplot as plt\n",
        "%matplotlib inline  \n",
        "\n",
        "def Plotvec2(a,b):\n",
        "    ax = plt.axes()# to generate the full window axes\n",
        "    ax.arrow(0, 0, *a, head_width=0.05, color ='r', head_length=0.1)#Add an arrow to the  a Axes with arrow head width 0.05, color red and arrow head length 0.1\n",
        "    plt.text(*(a + 0.1), 'a')\n",
        "    ax.arrow(0, 0, *b, head_width=0.05, color ='b', head_length=0.1)#Add an arrow to the  b Axes with arrow head width 0.05, color blue and arrow head length 0.1\n",
        "    plt.text(*(b + 0.1), 'b')\n",
        "    plt.ylim(-2, 2)#set the ylim to bottom(-2), top(2)\n",
        "    plt.xlim(-2, 2)#set the xlim to left(-2), right(2)\n",
        "    "
      ],
      "metadata": {
        "id": "sZtL4z-Pqljf"
      },
      "execution_count": 31,
      "outputs": []
    },
    {
      "cell_type": "code",
      "source": [
        "\n",
        "a = np.array([-1, 1])\n",
        "b = np.array([1, 1])\n",
        "Plotvec2(a, b)\n",
        "print(\"The dot product is\", np.dot(a,b))"
      ],
      "metadata": {
        "id": "UpPtb9F6qmhX",
        "outputId": "75f41b08-f2cd-4ce0-c0d9-806738687f0f",
        "colab": {
          "base_uri": "https://localhost:8080/",
          "height": 286
        }
      },
      "execution_count": 32,
      "outputs": [
        {
          "output_type": "stream",
          "name": "stdout",
          "text": [
            "The dot product is 0\n"
          ]
        },
        {
          "output_type": "display_data",
          "data": {
            "text/plain": [
              "<Figure size 432x288 with 1 Axes>"
            ],
            "image/png": "[encoded data removed]"
          },
          "metadata": {
            "needs_background": "light"
          }
        }
      ]
    },
    {
      "cell_type": "code",
      "source": [
        "a = np.array([1, 0])\n",
        "b = np.array([0, 1])\n",
        "Plotvec2(a, b)\n",
        "print(\"The dot product is\", np.dot(a, b))"
      ],
      "metadata": {
        "id": "ZzTssN2fqqj8",
        "outputId": "27891eba-b8ae-4e74-9069-fedfc8c933f0",
        "colab": {
          "base_uri": "https://localhost:8080/",
          "height": 286
        }
      },
      "execution_count": 33,
      "outputs": [
        {
          "output_type": "stream",
          "name": "stdout",
          "text": [
            "The dot product is 0\n"
          ]
        },
        {
          "output_type": "display_data",
          "data": {
            "text/plain": [
              "<Figure size 432x288 with 1 Axes>"
            ],
            "image/png": "[encoded data removed]"
          },
          "metadata": {
            "needs_background": "light"
          }
        }
      ]
    },
    {
      "cell_type": "code",
      "source": [
        "a = np.array([1, 1])\n",
        "b = np.array([0, 1])\n",
        "Plotvec2(a, b)\n",
        "print(\"The dot product is\", np.dot(a, b))"
      ],
      "metadata": {
        "id": "q8oKjTC7qrg9",
        "outputId": "09532f01-22b8-44c2-cf77-1a62b3d6c6d8",
        "colab": {
          "base_uri": "https://localhost:8080/",
          "height": 286
        }
      },
      "execution_count": 34,
      "outputs": [
        {
          "output_type": "stream",
          "name": "stdout",
          "text": [
            "The dot product is 1\n"
          ]
        },
        {
          "output_type": "display_data",
          "data": {
            "text/plain": [
              "<Figure size 432x288 with 1 Axes>"
            ],
            "image/png": "[encoded data removed]"
          },
          "metadata": {
            "needs_background": "light"
          }
        }
      ]
    },
    {
      "cell_type": "markdown",
      "source": [
        "## Notes: Numpy 2D Arrays \n",
        "Numpy arrays can have more than one dimension; in this module we will review only those with 2 dimenssions. For exmaple:\n",
        "\n",
        "``` python\n",
        "import numpy as np\n",
        "\n",
        "arr = np.array([[11,12,13],[21,22,23],[31,32,33]])\n",
        "\n",
        "print(arr.ndim)\n",
        "print(arr.shape)\n",
        "print(arr.size)\n",
        "```\n",
        "\n",
        "We can also slice these arrays with the square brackets and the index"
      ],
      "metadata": {
        "id": "t9RrC4eVE0v1"
      }
    },
    {
      "cell_type": "code",
      "source": [
        "# init example:\n",
        "import numpy as np\n",
        "\n",
        "arr = np.array([[11,12,13],[21,22,23],[31,32,33]])\n",
        "\n",
        "print(arr.ndim)\n",
        "print(arr.shape)\n",
        "print(arr.size)\n",
        "\n",
        "# slice\n",
        "\n",
        "print(arr[1][1])\n",
        "\n",
        "# Examples of operations with 2-D arrays\n",
        "X=np.array([[1,0],[0,1]])\n",
        "Y=np.array([[2,1],[1,2]])\n",
        "\n",
        "print(X)\n",
        "print(Y)\n",
        "\n",
        "print(X + Y)\n",
        "print(X * Y)\n",
        "print(np.dot(X,Y))\n"
      ],
      "metadata": {
        "id": "2s_h_kEjE6_z",
        "outputId": "480369df-9d65-4d99-9139-f5b730d61a50",
        "colab": {
          "base_uri": "https://localhost:8080/"
        }
      },
      "execution_count": 48,
      "outputs": [
        {
          "output_type": "stream",
          "name": "stdout",
          "text": [
            "2\n",
            "(3, 3)\n",
            "9\n",
            "22\n",
            "[[1 0]\n",
            " [0 1]]\n",
            "[[2 1]\n",
            " [1 2]]\n",
            "[[3 1]\n",
            " [1 3]]\n",
            "[[2 0]\n",
            " [0 2]]\n",
            "[[2 1]\n",
            " [1 2]]\n"
          ]
        }
      ]
    },
    {
      "cell_type": "markdown",
      "source": [
        "## Lab: Numpy 2D Arrays "
      ],
      "metadata": {
        "id": "gDjs2W57E7Ie"
      }
    },
    {
      "cell_type": "code",
      "source": [
        "# Create a list\n",
        "\n",
        "a = [[11, 12, 13], [21, 22, 23], [31, 32, 33]]\n",
        "print(a)\n",
        "\n",
        "# Convert list to Numpy Array\n",
        "# Every element is the same type\n",
        "\n",
        "A = np.array(a)\n",
        "print(A)\n",
        "\n",
        "# Show the numpy array dimensions\n",
        "\n",
        "print(A.ndim)\n",
        "\n",
        "# Show the numpy array shape\n",
        "\n",
        "print(A.shape)\n",
        "\n",
        "# Show the numpy array size\n",
        "\n",
        "print(A.size)\n",
        "\n",
        "# Access the element on the second row and third column\n",
        "\n",
        "print(A[1, 2])\n",
        "\n",
        "# Access the element on the second row and third column\n",
        "\n",
        "print(A[1][2])\n",
        "\n",
        "# Access the element on the first row and first column\n",
        "\n",
        "print(A[0][0])\n",
        "\n",
        "# Access the element on the first row and first and second columns\n",
        "\n",
        "print(A[0][0:2])\n",
        "\n",
        "# Access the element on the first and second rows and third column\n",
        "\n",
        "print(A[0:2, 2])\n",
        "\n",
        "# Create a numpy array X\n",
        "\n",
        "X = np.array([[1, 0], [0, 1]]) \n",
        "print(X)\n",
        "\n",
        "# Create a numpy array Y\n",
        "\n",
        "Y = np.array([[2, 1], [1, 2]]) \n",
        "print(Y)\n",
        "\n",
        "#Add X and Y\n",
        "\n",
        "Z = X + Y\n",
        "print(Z)\n",
        "\n",
        "# Create a numpy array Y\n",
        "\n",
        "Y = np.array([[2, 1], [1, 2]]) \n",
        "Y\n",
        "\n",
        "# Multiply Y with 2\n",
        "\n",
        "Z = 2 * Y\n",
        "print(Z)\n",
        "\n",
        "# Create a numpy array Y\n",
        "\n",
        "Y = np.array([[2, 1], [1, 2]]) \n",
        "print(Y)\n",
        "\n",
        "# Create a numpy array X\n",
        "\n",
        "X = np.array([[1, 0], [0, 1]]) \n",
        "X\n",
        "\n",
        "# Multiply X with Y\n",
        "\n",
        "Z = X * Y\n",
        "print(Z)\n",
        "\n",
        "# Create a matrix A\n",
        "\n",
        "A = np.array([[0, 1, 1], [1, 0, 1]])\n",
        "print(A)\n",
        "\n",
        "# Create a matrix B\n",
        "\n",
        "B = np.array([[1, 1], [1, 1], [-1, 1]])\n",
        "print(B)\n",
        "\n",
        "# Calculate the dot product\n",
        "\n",
        "Z = np.dot(A,B)\n",
        "print(Z)\n",
        "\n",
        "print(np.sin(Z))\n",
        "\n",
        "# Create a matrix C\n",
        "\n",
        "C = np.array([[1,1],[2,2],[3,3]])\n",
        "C\n",
        "\n",
        "# Get the transposed of C\n",
        "\n",
        "print(C.T)\n",
        "\n",
        "# Quiz\n",
        "\n",
        "a = [[1, 2, 3, 4], [5, 6, 7, 8], [9, 10, 11, 12]]\n",
        "\n",
        "A = np.array(a)\n",
        "print(A)\n",
        "print(A.size)\n",
        "print(A[0][0:2])\n",
        "\n",
        "B = np.array([[0, 1], [1, 0], [1, 1], [-1, 0]])\n",
        "\n",
        "X = np.dot(A,B)\n",
        "print(X)"
      ],
      "metadata": {
        "id": "RgT0QWTEFNE4",
        "outputId": "ba5414d3-3749-481c-d04b-5c75b9d50690",
        "colab": {
          "base_uri": "https://localhost:8080/"
        }
      },
      "execution_count": 53,
      "outputs": [
        {
          "output_type": "stream",
          "name": "stdout",
          "text": [
            "[[11, 12, 13], [21, 22, 23], [31, 32, 33]]\n",
            "[[11 12 13]\n",
            " [21 22 23]\n",
            " [31 32 33]]\n",
            "2\n",
            "(3, 3)\n",
            "9\n",
            "23\n",
            "23\n",
            "11\n",
            "[11 12]\n",
            "[13 23]\n",
            "[[1 0]\n",
            " [0 1]]\n",
            "[[2 1]\n",
            " [1 2]]\n",
            "[[3 1]\n",
            " [1 3]]\n",
            "[[4 2]\n",
            " [2 4]]\n",
            "[[2 1]\n",
            " [1 2]]\n",
            "[[2 0]\n",
            " [0 2]]\n",
            "[[0 1 1]\n",
            " [1 0 1]]\n",
            "[[ 1  1]\n",
            " [ 1  1]\n",
            " [-1  1]]\n",
            "[[0 2]\n",
            " [0 2]]\n",
            "[[0.         0.90929743]\n",
            " [0.         0.90929743]]\n",
            "[[1 2 3]\n",
            " [1 2 3]]\n",
            "[[ 1  2  3  4]\n",
            " [ 5  6  7  8]\n",
            " [ 9 10 11 12]]\n",
            "12\n",
            "[1 2]\n",
            "[[ 1  4]\n",
            " [ 5 12]\n",
            " [ 9 20]]\n"
          ]
        }
      ]
    },
    {
      "cell_type": "markdown",
      "source": [
        "## Notes: Simple APIs\n",
        "Application Program Interfaces (API), allows programs to talk between each other through inputs and outputs; to know how things happen on the other side of the API is not required as it is only of intereset the response.\n",
        "\n",
        "Although libraries can be considered APIs, the term is commonly more used in the context of REST APIs. In this context your program is the client and sends the the request to the resource (on the web) via an endpoint; you send a request and you receive the response. This usually happens through HTTP requests and using things like JSON or XML requests and the response might vary, although nowadays JSON is also an usual response.\n",
        "\n",
        "\n"
      ],
      "metadata": {
        "id": "FbniothJFA0f"
      }
    },
    {
      "cell_type": "code",
      "source": [
        "!pip install nba_api"
      ],
      "metadata": {
        "id": "3Q1WJr0GFNeg",
        "outputId": "1554ab69-9ef4-4e89-e693-8cf5dfb429fe",
        "colab": {
          "base_uri": "https://localhost:8080/"
        }
      },
      "execution_count": 55,
      "outputs": [
        {
          "output_type": "stream",
          "name": "stdout",
          "text": [
            "Looking in indexes: https://pypi.org/simple, https://us-python.pkg.dev/colab-wheels/public/simple/\n",
            "Collecting nba_api\n",
            "  Downloading nba_api-1.1.11.tar.gz (125 kB)\n",
            "\u001b[K     |████████████████████████████████| 125 kB 5.0 MB/s \n",
            "\u001b[?25hRequirement already satisfied: requests in /usr/local/lib/python3.7/dist-packages (from nba_api) (2.23.0)\n",
            "Requirement already satisfied: idna<3,>=2.5 in /usr/local/lib/python3.7/dist-packages (from requests->nba_api) (2.10)\n",
            "Requirement already satisfied: urllib3!=1.25.0,!=1.25.1,<1.26,>=1.21.1 in /usr/local/lib/python3.7/dist-packages (from requests->nba_api) (1.24.3)\n",
            "Requirement already satisfied: certifi>=2017.4.17 in /usr/local/lib/python3.7/dist-packages (from requests->nba_api) (2022.6.15)\n",
            "Requirement already satisfied: chardet<4,>=3.0.2 in /usr/local/lib/python3.7/dist-packages (from requests->nba_api) (3.0.4)\n",
            "Building wheels for collected packages: nba-api\n",
            "  Building wheel for nba-api (setup.py) ... \u001b[?25l\u001b[?25hdone\n",
            "  Created wheel for nba-api: filename=nba_api-1.1.11-py3-none-any.whl size=251504 sha256=af4bb27d941af27c42c2256be6f3b9ca8b3eba6070dbceea38810fdaaa051419\n",
            "  Stored in directory: /root/.cache/pip/wheels/e3/f4/46/996128675381abc175e306642bae575d372dcf7efc4683e551\n",
            "Successfully built nba-api\n",
            "Installing collected packages: nba-api\n",
            "Successfully installed nba-api-1.1.11\n"
          ]
        }
      ]
    },
    {
      "cell_type": "code",
      "source": [
        "from nba_api.stats.static import teams\n",
        "import pandas as pd\n",
        "nba_teams = teams.get_teams()\n",
        "\n",
        "def one_dict(list_dict):\n",
        "  keys = list_dict[0].keys()\n",
        "  out_dict={key:[] for key in keys}\n",
        "\n",
        "  for dict_ in list_dict:\n",
        "    for key, val in dict_.items():\n",
        "      out_dict[key].append(val)\n",
        "  return out_dict\n",
        "\n",
        "dict_nba_team = one_dict(nba_teams)\n",
        "df_teams = pd.DataFrame(dict_nba_team)\n",
        "df_teams.head()"
      ],
      "metadata": {
        "id": "DchGt3FFw5z3",
        "outputId": "60bc432d-8a16-4764-9f7a-d5d34f772438",
        "colab": {
          "base_uri": "https://localhost:8080/",
          "height": 285
        }
      },
      "execution_count": 58,
      "outputs": [
        {
          "output_type": "execute_result",
          "data": {
            "text/plain": [
              "           id             full_name abbreviation   nickname         city  \\\n",
              "0  1610612737         Atlanta Hawks          ATL      Hawks      Atlanta   \n",
              "1  1610612738        Boston Celtics          BOS    Celtics       Boston   \n",
              "2  1610612739   Cleveland Cavaliers          CLE  Cavaliers    Cleveland   \n",
              "3  1610612740  New Orleans Pelicans          NOP   Pelicans  New Orleans   \n",
              "4  1610612741         Chicago Bulls          CHI      Bulls      Chicago   \n",
              "\n",
              "           state  year_founded  \n",
              "0        Atlanta          1949  \n",
              "1  Massachusetts          1946  \n",
              "2           Ohio          1970  \n",
              "3      Louisiana          2002  \n",
              "4       Illinois          1966  "
            ],
            "text/html": [
              "\n",
              "  <div id=\"df-ff5fff51-c997-4731-a322-b721377b3283\">\n",
              "    <div class=\"colab-df-container\">\n",
              "      <div>\n",
              "<style scoped>\n",
              "    .dataframe tbody tr th:only-of-type {\n",
              "        vertical-align: middle;\n",
              "    }\n",
              "\n",
              "    .dataframe tbody tr th {\n",
              "        vertical-align: top;\n",
              "    }\n",
              "\n",
              "    .dataframe thead th {\n",
              "        text-align: right;\n",
              "    }\n",
              "</style>\n",
              "<table border=\"1\" class=\"dataframe\">\n",
              "  <thead>\n",
              "    <tr style=\"text-align: right;\">\n",
              "      <th></th>\n",
              "      <th>id</th>\n",
              "      <th>full_name</th>\n",
              "      <th>abbreviation</th>\n",
              "      <th>nickname</th>\n",
              "      <th>city</th>\n",
              "      <th>state</th>\n",
              "      <th>year_founded</th>\n",
              "    </tr>\n",
              "  </thead>\n",
              "  <tbody>\n",
              "    <tr>\n",
              "      <th>0</th>\n",
              "      <td>1610612737</td>\n",
              "      <td>Atlanta Hawks</td>\n",
              "      <td>ATL</td>\n",
              "      <td>Hawks</td>\n",
              "      <td>Atlanta</td>\n",
              "      <td>Atlanta</td>\n",
              "      <td>1949</td>\n",
              "    </tr>\n",
              "    <tr>\n",
              "      <th>1</th>\n",
              "      <td>1610612738</td>\n",
              "      <td>Boston Celtics</td>\n",
              "      <td>BOS</td>\n",
              "      <td>Celtics</td>\n",
              "      <td>Boston</td>\n",
              "      <td>Massachusetts</td>\n",
              "      <td>1946</td>\n",
              "    </tr>\n",
              "    <tr>\n",
              "      <th>2</th>\n",
              "      <td>1610612739</td>\n",
              "      <td>Cleveland Cavaliers</td>\n",
              "      <td>CLE</td>\n",
              "      <td>Cavaliers</td>\n",
              "      <td>Cleveland</td>\n",
              "      <td>Ohio</td>\n",
              "      <td>1970</td>\n",
              "    </tr>\n",
              "    <tr>\n",
              "      <th>3</th>\n",
              "      <td>1610612740</td>\n",
              "      <td>New Orleans Pelicans</td>\n",
              "      <td>NOP</td>\n",
              "      <td>Pelicans</td>\n",
              "      <td>New Orleans</td>\n",
              "      <td>Louisiana</td>\n",
              "      <td>2002</td>\n",
              "    </tr>\n",
              "    <tr>\n",
              "      <th>4</th>\n",
              "      <td>1610612741</td>\n",
              "      <td>Chicago Bulls</td>\n",
              "      <td>CHI</td>\n",
              "      <td>Bulls</td>\n",
              "      <td>Chicago</td>\n",
              "      <td>Illinois</td>\n",
              "      <td>1966</td>\n",
              "    </tr>\n",
              "  </tbody>\n",
              "</table>\n",
              "</div>\n",
              "      <button class=\"colab-df-convert\" onclick=\"convertToInteractive('df-ff5fff51-c997-4731-a322-b721377b3283')\"\n",
              "              title=\"Convert this dataframe to an interactive table.\"\n",
              "              style=\"display:none;\">\n",
              "        \n",
              "  <svg xmlns=\"http://www.w3.org/2000/svg\" height=\"24px\"viewBox=\"0 0 24 24\"\n",
              "       width=\"24px\">\n",
              "    <path d=\"M0 0h24v24H0V0z\" fill=\"none\"/>\n",
              "    <path d=\"M18.56 5.44l.94 2.06.94-2.06 2.06-.94-2.06-.94-.94-2.06-.94 2.06-2.06.94zm-11 1L8.5 8.5l.94-2.06 2.06-.94-2.06-.94L8.5 2.5l-.94 2.06-2.06.94zm10 10l.94 2.06.94-2.06 2.06-.94-2.06-.94-.94-2.06-.94 2.06-2.06.94z\"/><path d=\"M17.41 7.96l-1.37-1.37c-.4-.4-.92-.59-1.43-.59-.52 0-1.04.2-1.43.59L10.3 9.45l-7.72 7.72c-.78.78-.78 2.05 0 2.83L4 21.41c.39.39.9.59 1.41.59.51 0 1.02-.2 1.41-.59l7.78-7.78 2.81-2.81c.8-.78.8-2.07 0-2.86zM5.41 20L4 18.59l7.72-7.72 1.47 1.35L5.41 20z\"/>\n",
              "  </svg>\n",
              "      </button>\n",
              "      \n",
              "  <style>\n",
              "    .colab-df-container {\n",
              "      display:flex;\n",
              "      flex-wrap:wrap;\n",
              "      gap: 12px;\n",
              "    }\n",
              "\n",
              "    .colab-df-convert {\n",
              "      background-color: #E8F0FE;\n",
              "      border: none;\n",
              "      border-radius: 50%;\n",
              "      cursor: pointer;\n",
              "      display: none;\n",
              "      fill: #1967D2;\n",
              "      height: 32px;\n",
              "      padding: 0 0 0 0;\n",
              "      width: 32px;\n",
              "    }\n",
              "\n",
              "    .colab-df-convert:hover {\n",
              "      background-color: #E2EBFA;\n",
              "      box-shadow: 0px 1px 2px rgba(60, 64, 67, 0.3), 0px 1px 3px 1px rgba(60, 64, 67, 0.15);\n",
              "      fill: #174EA6;\n",
              "    }\n",
              "\n",
              "    [theme=dark] .colab-df-convert {\n",
              "      background-color: #3B4455;\n",
              "      fill: #D2E3FC;\n",
              "    }\n",
              "\n",
              "    [theme=dark] .colab-df-convert:hover {\n",
              "      background-color: #434B5C;\n",
              "      box-shadow: 0px 1px 3px 1px rgba(0, 0, 0, 0.15);\n",
              "      filter: drop-shadow(0px 1px 2px rgba(0, 0, 0, 0.3));\n",
              "      fill: #FFFFFF;\n",
              "    }\n",
              "  </style>\n",
              "\n",
              "      <script>\n",
              "        const buttonEl =\n",
              "          document.querySelector('#df-ff5fff51-c997-4731-a322-b721377b3283 button.colab-df-convert');\n",
              "        buttonEl.style.display =\n",
              "          google.colab.kernel.accessAllowed ? 'block' : 'none';\n",
              "\n",
              "        async function convertToInteractive(key) {\n",
              "          const element = document.querySelector('#df-ff5fff51-c997-4731-a322-b721377b3283');\n",
              "          const dataTable =\n",
              "            await google.colab.kernel.invokeFunction('convertToInteractive',\n",
              "                                                     [key], {});\n",
              "          if (!dataTable) return;\n",
              "\n",
              "          const docLinkHtml = 'Like what you see? Visit the ' +\n",
              "            '<a target=\"_blank\" href=https://colab.research.google.com/notebooks/data_table.ipynb>data table notebook</a>'\n",
              "            + ' to learn more about interactive tables.';\n",
              "          element.innerHTML = '';\n",
              "          dataTable['output_type'] = 'display_data';\n",
              "          await google.colab.output.renderOutput(dataTable, element);\n",
              "          const docLink = document.createElement('div');\n",
              "          docLink.innerHTML = docLinkHtml;\n",
              "          element.appendChild(docLink);\n",
              "        }\n",
              "      </script>\n",
              "    </div>\n",
              "  </div>\n",
              "  "
            ]
          },
          "metadata": {},
          "execution_count": 58
        }
      ]
    },
    {
      "cell_type": "code",
      "source": [
        "from nba_api.stats.endpoints import leaguegamefinder\n",
        "\n",
        "bulls_id = df_teams[df_teams['nickname'] == 'Bulls'].values[0,0]\n",
        "gamefinder = leaguegamefinder.LeagueGameFinder(team_id_nullable = bulls_id)\n",
        "\n",
        "\n",
        "games = gamefinder.get_data_frames()[0]\n",
        "games.head()"
      ],
      "metadata": {
        "id": "aBE22g7gx_Pm",
        "outputId": "25875786-56b2-415f-ec17-70655660b340",
        "colab": {
          "base_uri": "https://localhost:8080/",
          "height": 386
        }
      },
      "execution_count": 63,
      "outputs": [
        {
          "output_type": "execute_result",
          "data": {
            "text/plain": [
              "  SEASON_ID     TEAM_ID TEAM_ABBREVIATION      TEAM_NAME     GAME_ID  \\\n",
              "0     22022  1610612741               CHI  Chicago Bulls  1522200065   \n",
              "1     22022  1610612741               CHI  Chicago Bulls  1522200048   \n",
              "2     22022  1610612741               CHI  Chicago Bulls  1522200032   \n",
              "3     22022  1610612741               CHI  Chicago Bulls  1522200020   \n",
              "4     22022  1610612741               CHI  Chicago Bulls  1522200003   \n",
              "\n",
              "    GAME_DATE      MATCHUP WL  MIN  PTS  ...  FT_PCT  OREB  DREB  REB  AST  \\\n",
              "0  2022-07-16    CHI @ PHI  W  201  119  ...   0.864     9    22   31   22   \n",
              "1  2022-07-14    CHI @ CHA  W  200   89  ...   0.700    11    31   42   20   \n",
              "2  2022-07-12    CHI @ TOR  W  201   93  ...   0.643     4    26   30   20   \n",
              "3  2022-07-10    CHI @ NYK  L  199   69  ...   0.654     5    25   30   14   \n",
              "4  2022-07-08  CHI vs. DAL  W  211  100  ...   0.833    10    36   46   21   \n",
              "\n",
              "   STL  BLK  TOV  PF  PLUS_MINUS  \n",
              "0   10    3   15  24        15.0  \n",
              "1    8    8   15  14        18.4  \n",
              "2    9    1   18  14        16.8  \n",
              "3    7    2   21  27       -30.6  \n",
              "4    6    4   21  35         0.0  \n",
              "\n",
              "[5 rows x 28 columns]"
            ],
            "text/html": [
              "\n",
              "  <div id=\"df-221e3021-2ac8-4039-9106-50ca901cb799\">\n",
              "    <div class=\"colab-df-container\">\n",
              "      <div>\n",
              "<style scoped>\n",
              "    .dataframe tbody tr th:only-of-type {\n",
              "        vertical-align: middle;\n",
              "    }\n",
              "\n",
              "    .dataframe tbody tr th {\n",
              "        vertical-align: top;\n",
              "    }\n",
              "\n",
              "    .dataframe thead th {\n",
              "        text-align: right;\n",
              "    }\n",
              "</style>\n",
              "<table border=\"1\" class=\"dataframe\">\n",
              "  <thead>\n",
              "    <tr style=\"text-align: right;\">\n",
              "      <th></th>\n",
              "      <th>SEASON_ID</th>\n",
              "      <th>TEAM_ID</th>\n",
              "      <th>TEAM_ABBREVIATION</th>\n",
              "      <th>TEAM_NAME</th>\n",
              "      <th>GAME_ID</th>\n",
              "      <th>GAME_DATE</th>\n",
              "      <th>MATCHUP</th>\n",
              "      <th>WL</th>\n",
              "      <th>MIN</th>\n",
              "      <th>PTS</th>\n",
              "      <th>...</th>\n",
              "      <th>FT_PCT</th>\n",
              "      <th>OREB</th>\n",
              "      <th>DREB</th>\n",
              "      <th>REB</th>\n",
              "      <th>AST</th>\n",
              "      <th>STL</th>\n",
              "      <th>BLK</th>\n",
              "      <th>TOV</th>\n",
              "      <th>PF</th>\n",
              "      <th>PLUS_MINUS</th>\n",
              "    </tr>\n",
              "  </thead>\n",
              "  <tbody>\n",
              "    <tr>\n",
              "      <th>0</th>\n",
              "      <td>22022</td>\n",
              "      <td>1610612741</td>\n",
              "      <td>CHI</td>\n",
              "      <td>Chicago Bulls</td>\n",
              "      <td>1522200065</td>\n",
              "      <td>2022-07-16</td>\n",
              "      <td>CHI @ PHI</td>\n",
              "      <td>W</td>\n",
              "      <td>201</td>\n",
              "      <td>119</td>\n",
              "      <td>...</td>\n",
              "      <td>0.864</td>\n",
              "      <td>9</td>\n",
              "      <td>22</td>\n",
              "      <td>31</td>\n",
              "      <td>22</td>\n",
              "      <td>10</td>\n",
              "      <td>3</td>\n",
              "      <td>15</td>\n",
              "      <td>24</td>\n",
              "      <td>15.0</td>\n",
              "    </tr>\n",
              "    <tr>\n",
              "      <th>1</th>\n",
              "      <td>22022</td>\n",
              "      <td>1610612741</td>\n",
              "      <td>CHI</td>\n",
              "      <td>Chicago Bulls</td>\n",
              "      <td>1522200048</td>\n",
              "      <td>2022-07-14</td>\n",
              "      <td>CHI @ CHA</td>\n",
              "      <td>W</td>\n",
              "      <td>200</td>\n",
              "      <td>89</td>\n",
              "      <td>...</td>\n",
              "      <td>0.700</td>\n",
              "      <td>11</td>\n",
              "      <td>31</td>\n",
              "      <td>42</td>\n",
              "      <td>20</td>\n",
              "      <td>8</td>\n",
              "      <td>8</td>\n",
              "      <td>15</td>\n",
              "      <td>14</td>\n",
              "      <td>18.4</td>\n",
              "    </tr>\n",
              "    <tr>\n",
              "      <th>2</th>\n",
              "      <td>22022</td>\n",
              "      <td>1610612741</td>\n",
              "      <td>CHI</td>\n",
              "      <td>Chicago Bulls</td>\n",
              "      <td>1522200032</td>\n",
              "      <td>2022-07-12</td>\n",
              "      <td>CHI @ TOR</td>\n",
              "      <td>W</td>\n",
              "      <td>201</td>\n",
              "      <td>93</td>\n",
              "      <td>...</td>\n",
              "      <td>0.643</td>\n",
              "      <td>4</td>\n",
              "      <td>26</td>\n",
              "      <td>30</td>\n",
              "      <td>20</td>\n",
              "      <td>9</td>\n",
              "      <td>1</td>\n",
              "      <td>18</td>\n",
              "      <td>14</td>\n",
              "      <td>16.8</td>\n",
              "    </tr>\n",
              "    <tr>\n",
              "      <th>3</th>\n",
              "      <td>22022</td>\n",
              "      <td>1610612741</td>\n",
              "      <td>CHI</td>\n",
              "      <td>Chicago Bulls</td>\n",
              "      <td>1522200020</td>\n",
              "      <td>2022-07-10</td>\n",
              "      <td>CHI @ NYK</td>\n",
              "      <td>L</td>\n",
              "      <td>199</td>\n",
              "      <td>69</td>\n",
              "      <td>...</td>\n",
              "      <td>0.654</td>\n",
              "      <td>5</td>\n",
              "      <td>25</td>\n",
              "      <td>30</td>\n",
              "      <td>14</td>\n",
              "      <td>7</td>\n",
              "      <td>2</td>\n",
              "      <td>21</td>\n",
              "      <td>27</td>\n",
              "      <td>-30.6</td>\n",
              "    </tr>\n",
              "    <tr>\n",
              "      <th>4</th>\n",
              "      <td>22022</td>\n",
              "      <td>1610612741</td>\n",
              "      <td>CHI</td>\n",
              "      <td>Chicago Bulls</td>\n",
              "      <td>1522200003</td>\n",
              "      <td>2022-07-08</td>\n",
              "      <td>CHI vs. DAL</td>\n",
              "      <td>W</td>\n",
              "      <td>211</td>\n",
              "      <td>100</td>\n",
              "      <td>...</td>\n",
              "      <td>0.833</td>\n",
              "      <td>10</td>\n",
              "      <td>36</td>\n",
              "      <td>46</td>\n",
              "      <td>21</td>\n",
              "      <td>6</td>\n",
              "      <td>4</td>\n",
              "      <td>21</td>\n",
              "      <td>35</td>\n",
              "      <td>0.0</td>\n",
              "    </tr>\n",
              "  </tbody>\n",
              "</table>\n",
              "<p>5 rows × 28 columns</p>\n",
              "</div>\n",
              "      <button class=\"colab-df-convert\" onclick=\"convertToInteractive('df-221e3021-2ac8-4039-9106-50ca901cb799')\"\n",
              "              title=\"Convert this dataframe to an interactive table.\"\n",
              "              style=\"display:none;\">\n",
              "        \n",
              "  <svg xmlns=\"http://www.w3.org/2000/svg\" height=\"24px\"viewBox=\"0 0 24 24\"\n",
              "       width=\"24px\">\n",
              "    <path d=\"M0 0h24v24H0V0z\" fill=\"none\"/>\n",
              "    <path d=\"M18.56 5.44l.94 2.06.94-2.06 2.06-.94-2.06-.94-.94-2.06-.94 2.06-2.06.94zm-11 1L8.5 8.5l.94-2.06 2.06-.94-2.06-.94L8.5 2.5l-.94 2.06-2.06.94zm10 10l.94 2.06.94-2.06 2.06-.94-2.06-.94-.94-2.06-.94 2.06-2.06.94z\"/><path d=\"M17.41 7.96l-1.37-1.37c-.4-.4-.92-.59-1.43-.59-.52 0-1.04.2-1.43.59L10.3 9.45l-7.72 7.72c-.78.78-.78 2.05 0 2.83L4 21.41c.39.39.9.59 1.41.59.51 0 1.02-.2 1.41-.59l7.78-7.78 2.81-2.81c.8-.78.8-2.07 0-2.86zM5.41 20L4 18.59l7.72-7.72 1.47 1.35L5.41 20z\"/>\n",
              "  </svg>\n",
              "      </button>\n",
              "      \n",
              "  <style>\n",
              "    .colab-df-container {\n",
              "      display:flex;\n",
              "      flex-wrap:wrap;\n",
              "      gap: 12px;\n",
              "    }\n",
              "\n",
              "    .colab-df-convert {\n",
              "      background-color: #E8F0FE;\n",
              "      border: none;\n",
              "      border-radius: 50%;\n",
              "      cursor: pointer;\n",
              "      display: none;\n",
              "      fill: #1967D2;\n",
              "      height: 32px;\n",
              "      padding: 0 0 0 0;\n",
              "      width: 32px;\n",
              "    }\n",
              "\n",
              "    .colab-df-convert:hover {\n",
              "      background-color: #E2EBFA;\n",
              "      box-shadow: 0px 1px 2px rgba(60, 64, 67, 0.3), 0px 1px 3px 1px rgba(60, 64, 67, 0.15);\n",
              "      fill: #174EA6;\n",
              "    }\n",
              "\n",
              "    [theme=dark] .colab-df-convert {\n",
              "      background-color: #3B4455;\n",
              "      fill: #D2E3FC;\n",
              "    }\n",
              "\n",
              "    [theme=dark] .colab-df-convert:hover {\n",
              "      background-color: #434B5C;\n",
              "      box-shadow: 0px 1px 3px 1px rgba(0, 0, 0, 0.15);\n",
              "      filter: drop-shadow(0px 1px 2px rgba(0, 0, 0, 0.3));\n",
              "      fill: #FFFFFF;\n",
              "    }\n",
              "  </style>\n",
              "\n",
              "      <script>\n",
              "        const buttonEl =\n",
              "          document.querySelector('#df-221e3021-2ac8-4039-9106-50ca901cb799 button.colab-df-convert');\n",
              "        buttonEl.style.display =\n",
              "          google.colab.kernel.accessAllowed ? 'block' : 'none';\n",
              "\n",
              "        async function convertToInteractive(key) {\n",
              "          const element = document.querySelector('#df-221e3021-2ac8-4039-9106-50ca901cb799');\n",
              "          const dataTable =\n",
              "            await google.colab.kernel.invokeFunction('convertToInteractive',\n",
              "                                                     [key], {});\n",
              "          if (!dataTable) return;\n",
              "\n",
              "          const docLinkHtml = 'Like what you see? Visit the ' +\n",
              "            '<a target=\"_blank\" href=https://colab.research.google.com/notebooks/data_table.ipynb>data table notebook</a>'\n",
              "            + ' to learn more about interactive tables.';\n",
              "          element.innerHTML = '';\n",
              "          dataTable['output_type'] = 'display_data';\n",
              "          await google.colab.output.renderOutput(dataTable, element);\n",
              "          const docLink = document.createElement('div');\n",
              "          docLink.innerHTML = docLinkHtml;\n",
              "          element.appendChild(docLink);\n",
              "        }\n",
              "      </script>\n",
              "    </div>\n",
              "  </div>\n",
              "  "
            ]
          },
          "metadata": {},
          "execution_count": 63
        }
      ]
    },
    {
      "cell_type": "markdown",
      "source": [],
      "metadata": {
        "id": "Yp9KzPIyx-6R"
      }
    },
    {
      "cell_type": "markdown",
      "source": [
        "## Lab: HTTP and Requests"
      ],
      "metadata": {
        "id": "UQJVdZIDFEF_"
      }
    },
    {
      "cell_type": "code",
      "source": [
        "import requests\n",
        "import os \n",
        "from PIL import Image\n",
        "from IPython.display import IFrame\n",
        "url='https://www.ibm.com/'\n",
        "r=requests.get(url)\n",
        "print(r.status_code)\n",
        "print(r.request.headers)\n",
        "print(\"request body:\", r.request.body)\n",
        "header=r.headers\n",
        "print(r.headers)\n",
        "print(header['date'])\n",
        "print(header['Content-Type'])\n",
        "print(r.encoding)\n",
        "print(r.text[0:100])"
      ],
      "metadata": {
        "id": "l1qRPiy_FQNI",
        "outputId": "58262745-e4c0-422c-ad38-283f03e848be",
        "colab": {
          "base_uri": "https://localhost:8080/"
        }
      },
      "execution_count": 71,
      "outputs": [
        {
          "output_type": "stream",
          "name": "stdout",
          "text": [
            "200\n",
            "{'User-Agent': 'python-requests/2.23.0', 'Accept-Encoding': 'gzip, deflate', 'Accept': '*/*', 'Connection': 'keep-alive', 'Cookie': '_abck=DFBF34AC1A07B31E70B9BB7C51428D87~-1~YAAQh0A2FykPcYiDAQAArsrMoAhkLggr5UP953pdDxwzZZKQRgmc5sZEqWwmfMvSe5vV4tfJ6eQ+JlWwhIASfTTR6iHqQcQGXkA3SWOaDxZNtcfgMJQ3u1sr39kxIZ537wxT0Ylk/hcS7hOPg50Urc18TYIZmXZsjDnZ2rel0meZ4wvRqv4Ws+ahoWJ7hiNmvrpMIJdEGBVqxE+x9L16uTKH6q8pQAZRLnqQKzBmfwB+AX5iQrYRhssHIuks+rzIKiRAb7wBaaBK2go2rUfw442LVDGy2CjT/cGM9Gai58p1YzK3lUHPURw9wSDsIaYpw1Fcn6fjb3ogsZ6mlGOnzZDTpvT2fSYY4lZa8LY0PVhIM0BpilM=~-1~-1~-1; bm_sz=741D7EBACE4686317B14C4637930CEEC~YAAQh0A2FyoPcYiDAQAArsrMoBE3n++iL43V2FSI9QuYnQuxDC2EfSam7/Z4Rr4JVlKgP4qxWEc1G0Bwv3rieGR8D1lmXKqdXfZGMNB1+qENYTiJErBcnlVjgE1oLP3jAKxvjhkYbDbZuqNVs5GZ73QfeZrXkMhqai62HOUnKp4mFKRIN54H2fjZDThMKzVsfmDWmHg9fYKY2YMYzqeILL2smRpIJ2rdWo3gbCCt/NbAmPUCW1HI4kZkj/FNyTPXS85Os6GC24Da9UD6pMhb2HTXElcNMuTzlHuuYcaxVx4=~3289652~3422534'}\n",
            "request body: None\n",
            "{'Server': 'Apache', 'Last-Modified': 'Mon, 03 Oct 2022 12:34:16 GMT', 'ETag': '\"17fce-5ea208fcd503e-gzip\"', 'Accept-Ranges': 'bytes', 'Content-Encoding': 'gzip', 'Content-Type': 'text/html', 'Cache-Control': 'max-age=3600', 'Expires': 'Tue, 04 Oct 2022 03:21:59 GMT', 'X-Akamai-Transformed': '9 21227 0 pmb=mTOE,2', 'Date': 'Tue, 04 Oct 2022 02:21:59 GMT', 'Content-Length': '21404', 'Connection': 'keep-alive', 'Vary': 'Accept-Encoding', 'x-content-type-options': 'nosniff', 'X-XSS-Protection': '1; mode=block', 'Content-Security-Policy': 'upgrade-insecure-requests', 'Strict-Transport-Security': 'max-age=31536000'}\n",
            "Tue, 04 Oct 2022 02:21:59 GMT\n",
            "text/html\n",
            "ISO-8859-1\n",
            "<!DOCTYPE html><html lang=\"en-US\"><head><meta name=\"viewport\" content=\"width=device-width\"/><meta ch\n"
          ]
        }
      ]
    },
    {
      "cell_type": "code",
      "source": [
        "# Use single quotation marks for defining string\n",
        "url='https://cf-courses-data.s3.us.cloud-object-storage.appdomain.cloud/IBMDeveloperSkillsNetwork-PY0101EN-SkillsNetwork/IDSNlogo.png'\n",
        "r=requests.get(url)\n",
        "print(r.headers)\n",
        "print(r.headers['Content-Type'])\n",
        "path=os.path.join(os.getcwd(),'image.png')\n",
        "path\n",
        "with open(path,'wb') as f:\n",
        "    f.write(r.content)\n",
        "\n",
        "Image.open(path)\n"
      ],
      "metadata": {
        "id": "TRr1-v8XzOxa",
        "outputId": "69023f91-2008-40c2-a24c-8723cb156c99",
        "colab": {
          "base_uri": "https://localhost:8080/",
          "height": 780
        }
      },
      "execution_count": 72,
      "outputs": [
        {
          "output_type": "stream",
          "name": "stdout",
          "text": [
            "{'Date': 'Tue, 04 Oct 2022 02:22:50 GMT', 'X-Clv-Request-Id': 'af4e1d35-3c3d-4427-ba36-484b5ff3e3fb', 'Server': 'Cleversafe', 'X-Clv-S3-Version': '2.5', 'Accept-Ranges': 'bytes', 'x-amz-request-id': 'af4e1d35-3c3d-4427-ba36-484b5ff3e3fb', 'Cache-Control': 'max-age=0,public', 'ETag': '\"a831e767d02efd21b904ec485ac0c769\"', 'Content-Type': 'image/png', 'Last-Modified': 'Wed, 14 Sep 2022 05:47:46 GMT', 'Content-Length': '21590'}\n",
            "image/png\n"
          ]
        },
        {
          "output_type": "execute_result",
          "data": {
            "text/plain": [
              "<PIL.PngImagePlugin.PngImageFile image mode=P size=800x800 at 0x7FE042B6C510>"
            ],
            "image/png": "[encoded data removed]"
          },
          "metadata": {},
          "execution_count": 72
        }
      ]
    },
    {
      "cell_type": "code",
      "source": [
        "url='https://cf-courses-data.s3.us.cloud-object-storage.appdomain.cloud/IBMDeveloperSkillsNetwork-PY0101EN-SkillsNetwork/labs/Module%205/data/Example1.txt'\n",
        "path=os.path.join(os.getcwd(),'example1.txt')\n",
        "r=requests.get(url)\n",
        "with open(path,'wb') as f:\n",
        "    f.write(r.content)"
      ],
      "metadata": {
        "id": "SnXn0ABRzisv"
      },
      "execution_count": 73,
      "outputs": []
    },
    {
      "cell_type": "code",
      "source": [
        "url_get='http://httpbin.org/get'\n",
        "payload={\"name\":\"Joseph\",\"ID\":\"123\"}\n",
        "r=requests.get(url_get,params=payload)\n",
        "print(r.url)\n",
        "print(\"request body:\", r.request.body)\n",
        "print(r.status_code)\n",
        "print(r.text)\n",
        "print(r.headers['Content-Type'])\n",
        "print(r.json())\n",
        "print(r.json()['args'])"
      ],
      "metadata": {
        "id": "BtfBRFBjzl9j",
        "outputId": "68ea9546-37eb-44af-9f4b-a2cc8420b73a",
        "colab": {
          "base_uri": "https://localhost:8080/"
        }
      },
      "execution_count": 75,
      "outputs": [
        {
          "output_type": "stream",
          "name": "stdout",
          "text": [
            "http://httpbin.org/get?name=Joseph&ID=123\n",
            "request body: None\n",
            "200\n",
            "{\n",
            "  \"args\": {\n",
            "    \"ID\": \"123\", \n",
            "    \"name\": \"Joseph\"\n",
            "  }, \n",
            "  \"headers\": {\n",
            "    \"Accept\": \"*/*\", \n",
            "    \"Accept-Encoding\": \"gzip, deflate\", \n",
            "    \"Host\": \"httpbin.org\", \n",
            "    \"User-Agent\": \"python-requests/2.23.0\", \n",
            "    \"X-Amzn-Trace-Id\": \"Root=1-633b9960-719e6a377d7cd4a121ab1c5f\"\n",
            "  }, \n",
            "  \"origin\": \"35.196.157.63\", \n",
            "  \"url\": \"http://httpbin.org/get?name=Joseph&ID=123\"\n",
            "}\n",
            "\n",
            "application/json\n",
            "{'args': {'ID': '123', 'name': 'Joseph'}, 'headers': {'Accept': '*/*', 'Accept-Encoding': 'gzip, deflate', 'Host': 'httpbin.org', 'User-Agent': 'python-requests/2.23.0', 'X-Amzn-Trace-Id': 'Root=1-633b9960-719e6a377d7cd4a121ab1c5f'}, 'origin': '35.196.157.63', 'url': 'http://httpbin.org/get?name=Joseph&ID=123'}\n",
            "{'ID': '123', 'name': 'Joseph'}\n"
          ]
        }
      ]
    },
    {
      "cell_type": "code",
      "source": [
        "url_post='http://httpbin.org/post'\n",
        "r_post=requests.post(url_post,data=payload)\n",
        "print(\"POST request URL:\",r_post.url )\n",
        "print(\"GET request URL:\",r.url)\n",
        "print(\"POST request body:\",r_post.request.body)\n",
        "print(\"GET request body:\",r.request.body)\n",
        "r_post.json()['form']"
      ],
      "metadata": {
        "id": "wCKgw28BzzmC",
        "outputId": "5b4a2a05-0265-4f56-d50f-2e8c625c18ba",
        "colab": {
          "base_uri": "https://localhost:8080/"
        }
      },
      "execution_count": 76,
      "outputs": [
        {
          "output_type": "stream",
          "name": "stdout",
          "text": [
            "POST request URL: http://httpbin.org/post\n",
            "GET request URL: http://httpbin.org/get?name=Joseph&ID=123\n",
            "POST request body: name=Joseph&ID=123\n",
            "GET request body: None\n"
          ]
        },
        {
          "output_type": "execute_result",
          "data": {
            "text/plain": [
              "{'ID': '123', 'name': 'Joseph'}"
            ]
          },
          "metadata": {},
          "execution_count": 76
        }
      ]
    }
  ],
  "metadata": {
    "language_info": {
      "name": "python"
    },
    "orig_nbformat": 4,
    "colab": {
      "provenance": [],
      "collapsed_sections": [],
      "include_colab_link": true
    },
    "kernelspec": {
      "name": "python3",
      "display_name": "Python 3"
    }
  },
  "nbformat": 4,
  "nbformat_minor": 0
}